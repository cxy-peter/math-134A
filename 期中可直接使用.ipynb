{
 "cells": [
  {
   "cell_type": "code",
   "execution_count": 6,
   "id": "ea7aa3aa",
   "metadata": {},
   "outputs": [
    {
     "name": "stdout",
     "output_type": "stream",
     "text": [
      "0.2864929024976756 0.2864929024976759\n"
     ]
    }
   ],
   "source": [
    "#Q1\n",
    "#calculate IRR\n",
    "import numpy as np\n",
    "from scipy.optimize import fsolve\n",
    "\n",
    "\n",
    "def IRRPoly(cash_flow):\n",
    "    # Create the polynomial coefficients\n",
    "    coefficients = np.flip(cash_flow)\n",
    "    \n",
    "    # Find the roots of the polynomial\n",
    "    roots = np.roots(coefficients)\n",
    "    \n",
    "    # Find the real positive root\n",
    "    irr_poly = np.real(roots[(roots >= 0)  & (np.iscomplex(roots) == False)])[0] \n",
    "    \n",
    "    # Solve for C=1/(1+r)\n",
    "    irr= (1-irr_poly)/irr_poly\n",
    "\n",
    "    return irr\n",
    "\n",
    "def IRR(cash_flow):\n",
    "    # Define the NPV function\n",
    "    def npv_function(r, cash_flow):\n",
    "        n = len(cash_flow)\n",
    "        return sum(cash_flow[i] / (1 + r)**i for i in range(n))\n",
    "\n",
    "    # Define the objective function for the IRR\n",
    "    def objective_function(r, cash_flow):\n",
    "        return npv_function(r, cash_flow)\n",
    "\n",
    "    result = fsolve(objective_function, 0.1, args=(cash_flow))\n",
    "    irr = result[0]\n",
    "    return(irr)\n",
    "#I prefer to use the second method, the first one only works for yearly IRR\n",
    "#cash flow=[...]\n",
    "#IRR1=IRRPoly(cash_flow)\n",
    "a=IRRPoly([-50,20,20,20,20,20])\n",
    "b=IRR([-50,20,20,20,20,20])\n",
    "print(a,b)\n",
    "\n",
    "# Print out solution\n",
    "#print(f\"The investment has an internal rate of return of {IRR1 * 100:.0f}%.\")"
   ]
  },
  {
   "cell_type": "code",
   "execution_count": 7,
   "id": "02137a38",
   "metadata": {},
   "outputs": [
    {
     "data": {
      "text/plain": [
       "2"
      ]
     },
     "execution_count": 7,
     "metadata": {},
     "output_type": "execute_result"
    }
   ],
   "source": [
    "#Q2\n",
    "# Constants\n",
    "value_today = 1010  # Today's value of the bond portfolio\n",
    "yield_today = 0.10  # Today's yield (10%)\n",
    "\n",
    "value_yesterday = 1000  # Yesterday's value of the bond portfolio\n",
    "yield_yesterday = 0.105  # Yesterday's yield (11%)\n",
    "\n",
    "# Calculating the change in value and yield\n",
    "change_in_value = value_today - value_yesterday\n",
    "change_in_yield = yield_today - yield_yesterday\n",
    "\n",
    "# Calculating Modified Duration\n",
    "# Modified Duration = - (Percentage Change in Price) / (Change in Yield)\n",
    "modified_duration = - (change_in_value / value_yesterday) / change_in_yield\n",
    "\n",
    "# Rounding to the nearest integer\n",
    "rounded_modified_duration = round(modified_duration)\n",
    "\n",
    "rounded_modified_duration\n"
   ]
  },
  {
   "cell_type": "code",
   "execution_count": 9,
   "id": "9270792f",
   "metadata": {},
   "outputs": [
    {
     "name": "stdout",
     "output_type": "stream",
     "text": [
      "Optimal number of units for each bond (5% constant yield):\n",
      "Bond 1 (5% yield): 1.00\n",
      "Bond 2 (5% yield): 2.00\n",
      "Bond 3 (5% yield): 3.00\n",
      "Bond 4 (5% yield): 4.00\n",
      "Bond 5 (5% yield): 5.00\n",
      "Bond 6 (5% yield): 6.00\n",
      "Bond 7 (5% yield): 7.00\n",
      "Bond 8 (5% yield): 8.00\n",
      "Bond 9 (5% yield): 9.00\n",
      "Bond 10 (5% yield): 10.00\n"
     ]
    }
   ],
   "source": [
    "#Q4\n",
    "import numpy as np\n",
    "from scipy.optimize import linprog\n",
    "\n",
    "# New bond information for zero-coupon bonds with a constant 8% yield\n",
    "years = 10  # Number of years\n",
    "face_value = 100  # Face value of each bond\n",
    "constant_yield = 0.05  # Constant annual yield of 8%\n",
    "obligations = np.array([100 * (i + 1) for i in range(years)])  # Increasing obligations\n",
    "\n",
    "# Calculate the price of each zero-coupon bond using the constant 8% yield\n",
    "bond_prices_constant_yield = np.array([face_value / ((1 + constant_yield) ** (i + 1)) for i in range(years)])\n",
    "\n",
    "# Objective function to minimize the total cost of the portfolio (using constant yield)\n",
    "c_constant_yield = bond_prices_constant_yield\n",
    "\n",
    "# Inequality constraint matrix for zero-coupon bonds (only pay at maturity)\n",
    "A = np.zeros((years, years))\n",
    "np.fill_diagonal(A, face_value)\n",
    "\n",
    "# Inequality constraint vector (obligations)\n",
    "b = obligations\n",
    "\n",
    "# Solve the linear programming problem with constant yield\n",
    "result_constant_yield = linprog(c_constant_yield, A_ub=-A, b_ub=-b, method=\"highs\")\n",
    "\n",
    "# Print the results for constant yield\n",
    "print(\"Optimal number of units for each bond (5% constant yield):\")\n",
    "for i, x in enumerate(result_constant_yield.x, 1):\n",
    "    print(f\"Bond {i} (5% yield): {x:.2f}\")"
   ]
  },
  {
   "cell_type": "code",
   "execution_count": 3,
   "id": "7ee642cb",
   "metadata": {},
   "outputs": [
    {
     "name": "stdout",
     "output_type": "stream",
     "text": [
      "第 10 年的债券价格 39.16878565352361\n",
      "第 9 年的债券价格 46.582350172113784\n",
      "第 8 年的债券价格 54.48661956569559\n",
      "第 7 年的债券价格 62.6522244465745\n",
      "第 6 年的债券价格 70.79109350352797\n",
      "第 5 年的债券价格 78.56909048037743\n",
      "第 4 年的债券价格 85.62561491194285\n",
      "第 3 年的债券价格 91.5990242759628\n",
      "第 2 年的债券价格 96.15570934256056\n",
      "第 1 年的债券价格 99.01980198019803\n",
      "[39.16878565352361, 46.582350172113784, 54.48661956569559, 62.6522244465745, 70.79109350352797, 78.56909048037743, 85.62561491194285, 91.5990242759628, 96.15570934256056, 99.01980198019803]\n",
      "        message: Optimization terminated successfully. (HiGHS Status 7: Optimal)\n",
      "        success: True\n",
      "         status: 0\n",
      "            fun: 3249.152668857029\n",
      "              x: [ 9.524e+00  8.571e+00  7.619e+00  6.667e+00  5.714e+00\n",
      "                   4.762e+00  3.810e+00  2.857e+00  1.905e+00  9.524e-01]\n",
      "            nit: 0\n",
      "          lower:  residual: [ 9.524e+00  8.571e+00  7.619e+00  6.667e+00\n",
      "                              5.714e+00  4.762e+00  3.810e+00  2.857e+00\n",
      "                              1.905e+00  9.524e-01]\n",
      "                 marginals: [ 0.000e+00  0.000e+00  0.000e+00  0.000e+00\n",
      "                              0.000e+00  0.000e+00  0.000e+00  0.000e+00\n",
      "                              0.000e+00  0.000e+00]\n",
      "          upper:  residual: [       inf        inf        inf        inf\n",
      "                                    inf        inf        inf        inf\n",
      "                                    inf        inf]\n",
      "                 marginals: [ 0.000e+00  0.000e+00  0.000e+00  0.000e+00\n",
      "                              0.000e+00  0.000e+00  0.000e+00  0.000e+00\n",
      "                              0.000e+00  0.000e+00]\n",
      "          eqlin:  residual: []\n",
      "                 marginals: []\n",
      "        ineqlin:  residual: [ 0.000e+00  0.000e+00  0.000e+00  0.000e+00\n",
      "                              0.000e+00  0.000e+00  0.000e+00  0.000e+00\n",
      "                              0.000e+00  0.000e+00]\n",
      "                 marginals: [-9.430e-01 -9.158e-01 -8.724e-01 -8.155e-01\n",
      "                             -7.483e-01 -6.742e-01 -5.967e-01 -5.189e-01\n",
      "                             -4.436e-01 -3.730e-01]\n",
      " mip_node_count: 0\n",
      " mip_dual_bound: 0.0\n",
      "        mip_gap: 0.0\n"
     ]
    }
   ],
   "source": [
    "#Q4 有点问题\n",
    "import numpy as np\n",
    "F1= 100; #face value\n",
    "m1 = 1; #number of coupon payments per year\n",
    "#n1 = 8; #number of coupon periods\n",
    "price=[]\n",
    "for n1 in range(10,0,-1):\n",
    "    #P1 = F1/((1+y1/m1)**n1)+(c1/y1)*(1-(1/(1+y1/m1)**n1))\n",
    "    P1 = F1/((1+(n1/100)/m1)**n1)+((n1/100)/(n1/100))*(1-(1/(1+(n1/100)/m1)**n1))\n",
    "    price.append(P1)\n",
    "    print(\"第\",n1,\"年的债券价格\",P1)\n",
    "print(price)\n",
    "C = np.array([[0,0,0,0,0,0,0,0,0,105], \n",
    "     [0,0,0,0,0,0,0,0,105,0],\n",
    "     [0,0,0,0,0,0,0,105,0,0],\n",
    "     [0,0,0,0,0,0,105,0,0,0],\n",
    "     [0,0,0,0,0,105,0,0,0,0],\n",
    "     [0,0,0,0,105,0,0,0,0,0],\n",
    "     [0,0,0,105,0,0,0,0,0,0],\n",
    "     [0,0,105,0,0,0,0,0,0,0],\n",
    "     [0,105,0,0,0,0,0,0,0,0],\n",
    "     [105,0,0,0,0,0,0,0,0,0]])\n",
    "p =np.array(price)\n",
    "#[99.01,97.08,94.13,90.16,85.17,79.16,72.13,64.08,55.01,45]\n",
    "p1 = np.transpose(p)\n",
    "b =np.array([100,200,300,400,500,600,700,800,900,1000])\n",
    "b1 = np.transpose(b)\n",
    "\n",
    "from scipy.optimize import linprog\n",
    "res = linprog(p1, A_ub = -1*C, b_ub= -1*b1, bounds=None)\n",
    "print(res)"
   ]
  },
  {
   "cell_type": "code",
   "execution_count": 30,
   "id": "381a7cdb",
   "metadata": {},
   "outputs": [
    {
     "name": "stdout",
     "output_type": "stream",
     "text": [
      "The original monthly payment amount: $18370.85\n",
      "Remaining balance after 2 years: $3326825.42\n"
     ]
    }
   ],
   "source": [
    "#Q5\n",
    "# Solution\n",
    "# Step 1: Calculate the original monthly payment amount when the interest rate was 3%\n",
    "def calculate_monthly_payment(P, r, n):\n",
    "    return P * r * (1 + r)**n / ((1 + r)**n - 1)\n",
    "\n",
    "mortgage_value = 4500000 \n",
    "monthly_rate = 0.0275 / 12\n",
    "num_payments = 30 * 12\n",
    "\n",
    "original_monthly_payment = calculate_monthly_payment(mortgage_value, monthly_rate, num_payments)\n",
    "print(f\"The original monthly payment amount: ${original_monthly_payment:.2f}\")\n",
    "\n",
    "new_monthly_rate = 0.0525/ 12\n",
    "def calculate_remaining_balance(A, r, n):\n",
    "    remaining_balance = (A/r)*(1-1/(1+r)**n)\n",
    "    return remaining_balance\n",
    "\n",
    "remaining_balance = calculate_remaining_balance(original_monthly_payment, new_monthly_rate, num_payments)\n",
    "print(f'Remaining balance after 2 years: ${remaining_balance:.2f}')"
   ]
  },
  {
   "cell_type": "code",
   "execution_count": 1,
   "id": "2304b983",
   "metadata": {},
   "outputs": [
    {
     "name": "stdout",
     "output_type": "stream",
     "text": [
      "28757.5652966397\n"
     ]
    }
   ],
   "source": [
    "#Q6 gpt4.0的锅\n",
    "import sympy\n",
    "\n",
    "# Given data\n",
    "loan_amount = 100000  # Initial loan amount\n",
    "interest_rates = [0.03, 0.06, 0.09, 0.12]  # Annual interest rates for each year\n",
    "\n",
    "# Function to calculate the annual payment\n",
    "def calculate_annual_payment(loan, rates):\n",
    "    P = sympy.symbols('P')  # Annual payment symbol\n",
    "\n",
    "    # Iteratively calculate the remaining loan amount after each year's payment\n",
    "    for rate in rates:\n",
    "        loan = loan * (1 + rate) - P\n",
    "\n",
    "    # Set up the equation for the final year (remaining amount should be zero)\n",
    "    final_equation = sympy.Eq(loan, 0)\n",
    "\n",
    "    # Solve for P\n",
    "    payment = sympy.solve(final_equation, P)\n",
    "    \n",
    "    return payment[0]\n",
    "\n",
    "# Calculate and print the annual payment\n",
    "annual_payment = calculate_annual_payment(loan_amount, interest_rates)\n",
    "print(annual_payment.evalf())\n"
   ]
  },
  {
   "cell_type": "code",
   "execution_count": 5,
   "id": "4fe828ca",
   "metadata": {},
   "outputs": [
    {
     "name": "stdout",
     "output_type": "stream",
     "text": [
      "34.4447834837369\n"
     ]
    }
   ],
   "source": [
    "#模拟卷：Q6\n",
    "import sympy\n",
    "\n",
    "# Given data\n",
    "loan_amount = 100  # Initial loan amount\n",
    "interest_rates = [0.01, 0.02, 0.03]  # Annual interest rates for each year\n",
    "\n",
    "# Function to calculate the annual payment\n",
    "def calculate_annual_payment(loan, rates):\n",
    "    P = sympy.symbols('P')  # Annual payment symbol\n",
    "\n",
    "    # Iteratively calculate the remaining loan amount after each year's payment\n",
    "    for rate in rates:\n",
    "        loan = loan * (1 + rate) - P\n",
    "\n",
    "    # Set up the equation for the final year (remaining amount should be zero)\n",
    "    final_equation = sympy.Eq(loan, 0)\n",
    "\n",
    "    # Solve for P\n",
    "    payment = sympy.solve(final_equation, P)\n",
    "    \n",
    "    return payment[0]\n",
    "\n",
    "# Calculate and print the annual payment\n",
    "annual_payment = calculate_annual_payment(loan_amount, interest_rates)\n",
    "print(annual_payment.evalf())\n"
   ]
  },
  {
   "cell_type": "code",
   "execution_count": null,
   "id": "66c92a93",
   "metadata": {},
   "outputs": [],
   "source": []
  }
 ],
 "metadata": {
  "kernelspec": {
   "display_name": "Python 3 (ipykernel)",
   "language": "python",
   "name": "python3"
  },
  "language_info": {
   "codemirror_mode": {
    "name": "ipython",
    "version": 3
   },
   "file_extension": ".py",
   "mimetype": "text/x-python",
   "name": "python",
   "nbconvert_exporter": "python",
   "pygments_lexer": "ipython3",
   "version": "3.9.13"
  }
 },
 "nbformat": 4,
 "nbformat_minor": 5
}
