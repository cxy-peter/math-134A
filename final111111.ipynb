{
 "cells": [
  {
   "cell_type": "code",
   "execution_count": 1,
   "id": "828c6ece",
   "metadata": {},
   "outputs": [
    {
     "name": "stdout",
     "output_type": "stream",
     "text": [
      "x: [-2216.56   5003.967]\n"
     ]
    }
   ],
   "source": [
    "#Q1\n",
    "import numpy as np\n",
    "\n",
    "# Defining the spot rates\n",
    "s = np.array([525, 550, 575, 600, 625]) / 1e4\n",
    "\n",
    "# Calculations for the first set of cash flows\n",
    "pv1 = np.array([6] * 4 + [106]) / (1 + s) ** np.arange(1, 6)\n",
    "P1 = np.sum(pv1)\n",
    "dP1dlambda = np.array([6] * 4 + [106]) * np.arange(1, 6) * (1 + s) ** -np.arange(2, 7)\n",
    "D1 = np.sum(dP1dlambda) / P1\n",
    "\n",
    "# Calculations for the second set of cash flows\n",
    "pv2 = np.array([10] * 3 + [110]) / (1 + s[:4]) ** np.arange(1, 5)\n",
    "P2 = np.sum(pv2)\n",
    "dP2dlambda = np.array([10] * 3 + [110]) * np.arange(1, 5) * (1 + s[:4]) ** -np.arange(2, 6)\n",
    "D2 = np.sum(dP2dlambda) / P2\n",
    "\n",
    "# Calculations for the observed cash flows\n",
    "ob = np.array([50000, 102000, 104000, 106000, 54000])\n",
    "P_ob = np.sum(ob / (1 + s) ** np.arange(1, 6))\n",
    "D_ob = np.sum(ob * np.arange(1, 6) * (1 + s) ** -np.arange(2, 7)) / P_ob\n",
    "\n",
    "# Solving the linear equations\n",
    "x = np.round(np.linalg.solve([[P1, P2], [P1 * D1, P2 * D2]], [P_ob, P_ob * D_ob]), 3)\n",
    "\n",
    "print(\"x:\", x)"
   ]
  },
  {
   "cell_type": "code",
   "execution_count": null,
   "id": "67fb638f",
   "metadata": {},
   "outputs": [],
   "source": [
    "#Q2\n",
    "def investment_value_after_mortgage(P, r_mortgage, r_investment, term_years):\n",
    "    m = 12  # monthly compounding and payments\n",
    "    term_months = term_years * m\n",
    "\n",
    "    # Monthly mortgage payment calculation\n",
    "    monthly_payment = r_mortgage / m * P / (1 - (1 + r_mortgage / m) ** -term_months)\n",
    "\n",
    "    # Initial investment amount\n",
    "    investment_value = P  # same as the mortgage amount\n",
    "\n",
    "    for _ in range(term_months):\n",
    "        # Increase investment by monthly growth rate\n",
    "        investment_value *= (1 + r_investment / m)\n",
    "        \n",
    "        # Subtract monthly mortgage payment\n",
    "        investment_value -= monthly_payment\n",
    "\n",
    "    return round(investment_value)\n",
    "\n",
    "# Mortgage and investment details\n",
    "P = 500000  # Principal amount of the mortgage\n",
    "r_mortgage = 0.06  # Annual interest rate of the mortgage\n",
    "r_investment = 0.01 * 12  # Monthly growth rate of the S&P 500 investment, converted to annual rate\n",
    "term_years = 30  # Term of the mortgage in years\n",
    "\n",
    "investment_value_after_mortgage(P, r_mortgage, r_investment, term_years)"
   ]
  },
  {
   "cell_type": "code",
   "execution_count": 2,
   "id": "58daac52",
   "metadata": {},
   "outputs": [
    {
     "data": {
      "text/plain": [
       "8"
      ]
     },
     "execution_count": 2,
     "metadata": {},
     "output_type": "execute_result"
    }
   ],
   "source": [
    "#Q3\n",
    "import numpy as np\n",
    "\n",
    "# Parameters\n",
    "interest_rate = 0.06\n",
    "\n",
    "# Initialize the array A\n",
    "A = np.zeros(49)\n",
    "\n",
    "# Loop to calculate NPV for each case\n",
    "for i in range(2, 51):\n",
    "    a = [2000] + [2000 + j * 1000 for j in range(1, i)] + [2000 + i * 1000 + 26000]\n",
    "    b = [26000] + a * 50\n",
    "    npv = np.sum(b / np.power(1 + interest_rate, np.arange(len(b))))\n",
    "    A[i - 2] = npv\n",
    "\n",
    "# Finding the minimum NPV and corresponding index\n",
    "min_value = np.min(A)\n",
    "min_index = np.argmin(A) + 2  # adding 2 to match the MATLAB indexing\n",
    "\n",
    "# Adjusting for MATLAB's 1-based indexing\n",
    "adjusted_min_index = min_index + 1\n",
    "\n",
    "# Output the result\n",
    "adjusted_min_index"
   ]
  },
  {
   "cell_type": "code",
   "execution_count": 3,
   "id": "38068f9b",
   "metadata": {},
   "outputs": [
    {
     "data": {
      "text/plain": [
       "1400.0"
      ]
     },
     "execution_count": 3,
     "metadata": {},
     "output_type": "execute_result"
    }
   ],
   "source": [
    "#Q4\n",
    "def allocate_a(n, rb, rm, rf):   # $n dollars, a in market portfolio, n-a in risk-free asset, return a\n",
    "    # n*rb = a*rm + (n-a)*rf\n",
    "    return n*(rb-rf) / (rm-rf)\n",
    "\n",
    "allocate_a(n=1000, rb=0.2, rm=0.16, rf=0.06)"
   ]
  },
  {
   "cell_type": "code",
   "execution_count": 6,
   "id": "9b8de7f7",
   "metadata": {},
   "outputs": [
    {
     "data": {
      "text/plain": [
       "(array([ 0.0971984 ,  0.53230417, -0.15208691,  0.60777587, -0.08519154]),\n",
       " 0.12381360777587194)"
      ]
     },
     "execution_count": 6,
     "metadata": {},
     "output_type": "execute_result"
    }
   ],
   "source": [
    "# Q5\n",
    "import numpy as np\n",
    "\n",
    "# Covariance matrix V\n",
    "V = np.array([\n",
    "    [0.21, 0.12, 0.17, 0.13, 0.16],\n",
    "    [0.12, 0.15, 0.12, 0.10, 0.12],\n",
    "    [0.17, 0.12, 0.19, 0.14, 0.15],\n",
    "    [0.13, 0.10, 0.14, 0.15, 0.14],\n",
    "    [0.16, 0.12, 0.15, 0.14, 0.21]\n",
    "])\n",
    "\n",
    "# Augmenting the covariance matrix with ones to account for the constraint\n",
    "augmented_matrix = np.vstack([V, np.ones(V.shape[1])])\n",
    "augmented_matrix = np.hstack([augmented_matrix, np.ones((augmented_matrix.shape[0], 1))])\n",
    "augmented_matrix[-1, -1] = 0\n",
    "\n",
    "# Right-hand side vector\n",
    "b = np.zeros(V.shape[1] + 1)\n",
    "b[-1] = 1\n",
    "\n",
    "# Solving the linear system\n",
    "solution = np.linalg.solve(augmented_matrix, b)\n",
    "\n",
    "# Extracting the weights\n",
    "weights = solution[:-1]\n",
    "\n",
    "weights, np.dot(weights.T, np.dot(V, weights))\n"
   ]
  },
  {
   "cell_type": "code",
   "execution_count": 24,
   "id": "ba6325c4",
   "metadata": {},
   "outputs": [
    {
     "name": "stdout",
     "output_type": "stream",
     "text": [
      "[[ 0.23432819]\n",
      " [ 0.15764437]\n",
      " [ 0.13781589]\n",
      " [ 0.52594626]\n",
      " [-0.05573471]\n",
      " [ 0.11642081]]\n"
     ]
    }
   ],
   "source": [
    "#Q6\n",
    "import numpy as np\n",
    "\n",
    "# Define the variables\n",
    "var_v = 0.04\n",
    "beta = np.array([1.16, 0.70, 1.15, 0.98, 1.01]).reshape(-1, 1)  # Reshape to column vector\n",
    "cov_v = 2*beta * var_v\n",
    "\n",
    "# Define the matrix V\n",
    "V = np.array([[0.21, 0.12, 0.17, 0.13, 0.16],\n",
    "              [0.12, 0.15, 0.12, 0.10, 0.12],\n",
    "              [0.17, 0.12, 0.19, 0.14, 0.15],\n",
    "              [0.13, 0.10, 0.14, 0.15, 0.14],\n",
    "              [0.16, 0.12, 0.15, 0.14, 0.21]])\n",
    "\n",
    "# Construct the matrix and vector for the linear system\n",
    "A = np.block([[2 * V, -np.ones((5, 1))],\n",
    "              [np.ones((1, 5)), np.zeros((1, 1))]])\n",
    "b = np.vstack([2 * cov_v, [[1]]])\n",
    "\n",
    "# Solve the linear system\n",
    "OPW_12 = np.linalg.solve(A, b)\n",
    "\n",
    "# Print the result\n",
    "print(OPW_12)"
   ]
  },
  {
   "cell_type": "code",
   "execution_count": 11,
   "id": "f2aba366",
   "metadata": {},
   "outputs": [
    {
     "name": "stdout",
     "output_type": "stream",
     "text": [
      "[[ 0.23432819]\n",
      " [ 0.15764437]\n",
      " [ 0.13781589]\n",
      " [ 0.52594626]\n",
      " [-0.05573471]\n",
      " [ 0.11642081]]\n"
     ]
    }
   ],
   "source": [
    "#Q7\n",
    "import numpy as np\n",
    "\n",
    "# Define the variables\n",
    "var_v = 0.04\n",
    "beta = np.array([1.16, 0.70, 1.15, 0.98, 1.01]).reshape(-1, 1)  # Reshape to column vector\n",
    "cov_v = 2*beta * var_v\n",
    "\n",
    "# Define the matrix V\n",
    "V = np.array([[0.21, 0.12, 0.17, 0.13, 0.16],\n",
    "              [0.12, 0.15, 0.12, 0.10, 0.12],\n",
    "              [0.17, 0.12, 0.19, 0.14, 0.15],\n",
    "              [0.13, 0.10, 0.14, 0.15, 0.14],\n",
    "              [0.16, 0.12, 0.15, 0.14, 0.21]])\n",
    "\n",
    "# Construct the matrix and vector for the linear system\n",
    "A = np.block([[2 * V, -np.ones((5, 1))],\n",
    "              [np.ones((1, 5)), np.zeros((1, 1))]])\n",
    "b = np.vstack([2 * cov_v, [[1]]])\n",
    "\n",
    "# Solve the linear system\n",
    "OPW_12 = np.linalg.solve(A, b)\n",
    "\n",
    "# Print the result\n",
    "print(OPW_12)"
   ]
  },
  {
   "cell_type": "code",
   "execution_count": 14,
   "id": "cee6467c",
   "metadata": {},
   "outputs": [
    {
     "name": "stdout",
     "output_type": "stream",
     "text": [
      "[  2.   2.   2.   2.   2.   2.   2.   2.   2. 102.]\n",
      "[-110.    2.    2.    2.    2.    2.    2.    2.    2.    2.  102.]\n",
      "The bond's yield to maturity is 1.89%\n"
     ]
    },
    {
     "data": {
      "text/plain": [
       "173.21395912251086"
      ]
     },
     "execution_count": 14,
     "metadata": {},
     "output_type": "execute_result"
    }
   ],
   "source": [
    "#Q7\n",
    "import numpy as np\n",
    "\n",
    "def IRRPoly(cash_flow, m):\n",
    "    coefficients = np.flip(cash_flow)\n",
    "    roots = np.roots(coefficients)\n",
    "    irr_poly = np.real(roots[(roots >= 0)  & (np.iscomplex(roots) == False)])[0]\n",
    "    irr = m*(1 - irr_poly) / irr_poly\n",
    "    return irr\n",
    "\n",
    "# Bond characteristics\n",
    "face_value = 100\n",
    "coupon_payment = 4  #yearly\n",
    "payments_per_year = 2\n",
    "years_to_maturity = 5\n",
    "current_price = 110\n",
    "\n",
    "# Cash flows for the bond\n",
    "\n",
    "cash_flows = (coupon_payment / payments_per_year)*np.ones(years_to_maturity * payments_per_year)\n",
    "cash_flows[-1] += face_value\n",
    "print(cash_flows)\n",
    "cash_flows = np.insert(cash_flows, 0, -current_price)\n",
    "print(cash_flows)\n",
    "\n",
    "# Find YTM using IRRPoly function\n",
    "ytm = IRRPoly( cash_flows, payments_per_year)\n",
    "\n",
    "# Convert to a percentage and display the result\n",
    "ytm_percentage = ytm * 100\n",
    "print(f\"The bond's yield to maturity is {ytm_percentage:.2f}%\")\n",
    "\n",
    "def bond_price(F, C, lamb, m, n):\n",
    "    '''\n",
    "    F is the face value of the bond\n",
    "    C is the yearly coupon payment\n",
    "    lamb is the yield of the bond \n",
    "    m is the number of coupon payments per year\n",
    "    n is the number of coupon payments remaning\n",
    "    '''\n",
    "    r = lamb / m  # Semi-annual yield\n",
    "    discount_factor = (1 + r) ** n\n",
    "    bond_price = (C / r) * (1 - 1 / discount_factor) + F / discount_factor\n",
    "    return bond_price\n",
    "\n",
    "face_value = 100\n",
    "coupon_rate = 0.1\n",
    "periods=10\n",
    "frequency = 1\n",
    "yield_to_maturities = ytm_percentage\n",
    "coupon_payment_per_period = face_value * coupon_rate / frequency\n",
    "bond_price(face_value, coupon_payment_per_period, ytm, frequency, periods * frequency)"
   ]
  },
  {
   "cell_type": "code",
   "execution_count": 16,
   "id": "d7bc9f8f",
   "metadata": {},
   "outputs": [
    {
     "name": "stdout",
     "output_type": "stream",
     "text": [
      "The optimal portfolio weight for the asset with the maximum Sharpe ratio is 1.98%\n"
     ]
    }
   ],
   "source": [
    "#Q8 it is max sharpe\n",
    "import numpy as np\n",
    "\n",
    "# Number of assets\n",
    "n_assets = 100\n",
    "\n",
    "# Variance of each asset (assumed to be the same for all assets)\n",
    "variance = 1  # Since actual variance is not provided, we use a placeholder value\n",
    "\n",
    "# Sharpe ratios for each asset\n",
    "sharpe_ratios = np.array([k/100 for k in range(1, n_assets+1)])\n",
    "\n",
    "# Since all assets have the same variance, the weight of each asset in the\n",
    "# optimal portfolio is proportional to its Sharpe ratio\n",
    "weights = sharpe_ratios / np.sum(sharpe_ratios)\n",
    "\n",
    "# The asset with the maximum Sharpe ratio has the highest weight\n",
    "max_sharpe_ratio_weight = weights[-1]  # Last asset has the highest Sharpe ratio\n",
    "\n",
    "# Convert to percentage and round to two decimal places\n",
    "max_sharpe_ratio_weight_percent = round(max_sharpe_ratio_weight * 100, 2)\n",
    "\n",
    "print(f\"The optimal portfolio weight for the asset with the maximum Sharpe ratio is {max_sharpe_ratio_weight_percent}%\")\n"
   ]
  },
  {
   "cell_type": "code",
   "execution_count": 18,
   "id": "0e6985b3",
   "metadata": {},
   "outputs": [
    {
     "name": "stdout",
     "output_type": "stream",
     "text": [
      "The optimal portfolio weight for the asset with the minimum Sharpe ratio is 0.019802%\n"
     ]
    }
   ],
   "source": [
    "#Q8 it is min sharpe(right answer)\n",
    "import numpy as np\n",
    "\n",
    "# Number of assets\n",
    "n_assets = 100\n",
    "\n",
    "# Sharpe ratios for each asset\n",
    "sharpe_ratios = np.array([k/100 for k in range(1, n_assets+1)])\n",
    "\n",
    "# Since all assets have the same variance, the weight of each asset in the\n",
    "# optimal portfolio is proportional to its Sharpe ratio\n",
    "weights = sharpe_ratios / np.sum(sharpe_ratios)\n",
    "\n",
    "# The weight of the asset with the minimum Sharpe ratio (first asset)\n",
    "min_sharpe_ratio_weight = weights[0]\n",
    "\n",
    "# Convert to percentage and round to two decimal places\n",
    "min_sharpe_ratio_weight_percent = round(min_sharpe_ratio_weight * 100, 6)\n",
    "\n",
    "print(f\"The optimal portfolio weight for the asset with the minimum Sharpe ratio is {min_sharpe_ratio_weight_percent}%\")\n"
   ]
  },
  {
   "cell_type": "code",
   "execution_count": 19,
   "id": "986eb38d",
   "metadata": {},
   "outputs": [
    {
     "name": "stdout",
     "output_type": "stream",
     "text": [
      "1.1935190104692306\n",
      "1.1820153661193291\n",
      "1.223064932600826\n",
      "1.1314082128906244\n",
      "1.217956521038558\n",
      "Result: 149588.7829357863\n"
     ]
    }
   ],
   "source": [
    "#Q9\n",
    "import numpy as np\n",
    "\n",
    "C = 0\n",
    "F = 1\n",
    "lambda_ = np.array([3.1, 3, 2.9, 2.5, 2.5, 1]) * 0.01\n",
    "m = 1\n",
    "n = np.array([30, 25, 20, 15, 10, 5])\n",
    "\n",
    "P = F / ((1 + lambda_ / m) ** n)\n",
    "\n",
    "# Iterating through the first five elements to calculate the ratio\n",
    "for i in range(5):\n",
    "    print(P[i + 1] / P[i])\n",
    "\n",
    "# Calculating the specific value as per the last line of your code\n",
    "result = 100000 * P[3] / P[2] * P[3] / P[2]\n",
    "print(\"Result:\", result)\n"
   ]
  },
  {
   "cell_type": "code",
   "execution_count": 20,
   "id": "51124f9d",
   "metadata": {},
   "outputs": [
    {
     "name": "stdout",
     "output_type": "stream",
     "text": [
      "The optimal weights for the portfolio are:\n",
      "[ 2.39308176  1.81446541 -1.7327044  -0.46855346 -1.00628931]\n"
     ]
    }
   ],
   "source": [
    "#Q10\n",
    "import cvxpy as cp\n",
    "\n",
    "# Given data\n",
    "V = np.array([ # covariance matrix\n",
    "    [0.21, 0.12, 0.17, 0.13, 0.16],\n",
    "    [0.12, 0.15, 0.12, 0.10, 0.12],\n",
    "    [0.17, 0.12, 0.19, 0.14, 0.15],\n",
    "    [0.13, 0.10, 0.14, 0.15, 0.14],\n",
    "    [0.16, 0.12, 0.15, 0.14, 0.21]\n",
    "])\n",
    "r_bar = np.array([0.69, 0.65, 0.44, 0.36, 0.41]) # expected returns\n",
    "\n",
    "# The variable we are solving for\n",
    "weights = cp.Variable(5)\n",
    "\n",
    "# The objective is to minimize the portfolio variance\n",
    "# and maximize the expected return\n",
    "risk = cp.quad_form(weights, V)\n",
    "return_portfolio = r_bar @ weights\n",
    "objective = cp.Minimize(risk - return_portfolio)\n",
    "\n",
    "# The sum of the weights must be 1\n",
    "constraints = [cp.sum(weights) == 1]\n",
    "\n",
    "# Solving the problem\n",
    "prob = cp.Problem(objective, constraints)\n",
    "prob.solve()\n",
    "\n",
    "# The optimal weights\n",
    "optimal_weights = weights.value\n",
    "\n",
    "# Output the optimal weights\n",
    "print(\"The optimal weights for the portfolio are:\")\n",
    "print(optimal_weights)"
   ]
  },
  {
   "cell_type": "code",
   "execution_count": 3,
   "id": "e0646e07",
   "metadata": {},
   "outputs": [
    {
     "name": "stdout",
     "output_type": "stream",
     "text": [
      "-3.3936978629236023\n"
     ]
    },
    {
     "data": {
      "text/plain": [
       "(-3, 171.3936978629236, 183.3936978629236)"
      ]
     },
     "execution_count": 3,
     "metadata": {},
     "output_type": "execute_result"
    }
   ],
   "source": [
    "#Q11 不一定对\n",
    "initial_investment = 200  # SVB's investment in the bond in billion dollars\n",
    "coupon_rate = 6  # Annual coupon rate in percent\n",
    "face_value_bond = 100  # Standard face value of the bond (assumed to be 100)\n",
    "withdrawal_requests = 180  # Clients' withdrawal requests in billion dollars\n",
    "\n",
    "# New spot rates (after one year) in percent\n",
    "spot_rates = {1: 11.25, 2: 11.50, 3: 11.75, 4: 12.00, 5: 12.25}\n",
    "\n",
    "# The bond has 4 years and 4 coupon payments remaining\n",
    "# Annual coupon payment (in billion dollars)\n",
    "annual_coupon_payment = (coupon_rate / 100) * initial_investment\n",
    "\n",
    "# Present value of future cash flows from the bond\n",
    "# PV = C/(1+r1) + C/(1+r2)^2 + C/(1+r3)^3 + C/(1+r4)^4 + (F+C)/(1+r4)^4\n",
    "# C is the annual coupon payment and F is the face value of the bond\n",
    "# The face value is scaled by the initial investment amount\n",
    "present_value_bond = sum([annual_coupon_payment / ((1 + spot_rates[year]/100) ** year) for year in range(1, 5)])\n",
    "present_value_bond += (annual_coupon_payment + (face_value_bond / 100 * initial_investment)) / ((1 + spot_rates[4]/100) ** 4)\n",
    "\n",
    "# Total cash after receiving the first coupon payment and selling the bond\n",
    "total_cash = annual_coupon_payment + present_value_bond\n",
    "\n",
    "# Calculating the shortfall and the required bailout amount\n",
    "shortfall = withdrawal_requests - total_cash\n",
    "shortfall_billion = round(shortfall)  # rounding to nearest integer\n",
    "print(shortfall)\n",
    "shortfall_billion, present_value_bond, total_cash"
   ]
  },
  {
   "cell_type": "code",
   "execution_count": 7,
   "id": "1d396a87",
   "metadata": {},
   "outputs": [
    {
     "data": {
      "text/plain": [
       "(3.617610753719674,\n",
       " 3.617610753719674,\n",
       " 37.27877356531412,\n",
       " 164.38238924628033,\n",
       " 176.38238924628033)"
      ]
     },
     "execution_count": 7,
     "metadata": {},
     "output_type": "execute_result"
    }
   ],
   "source": [
    "# Parameters\n",
    "initial_investment = 200  # SVB's investment in the bond (in billion dollars)\n",
    "coupon_rate = 6  # Annual coupon rate (in percent)\n",
    "withdrawal_requests = 180  # Total withdrawal requests (in billion dollars)\n",
    "\n",
    "# Original and increased spot rates\n",
    "original_spot_rates = [5.25, 5.50, 5.75, 6.00, 6.25]  # in percent\n",
    "increased_spot_rates = [rate + 6 for rate in original_spot_rates]  # in percent\n",
    "\n",
    "# The bond has 4 years and 4 coupon payments remaining\n",
    "annual_coupon_payment = initial_investment * (coupon_rate / 100)  # in billion dollars\n",
    "\n",
    "# Present value of future cash flows from the bond\n",
    "# First year's coupon is discounted at the original rate (5.25%)\n",
    "# Remaining coupons and face value are discounted at the increased rates\n",
    "present_value_coupons = annual_coupon_payment / (1 + original_spot_rates[0] / 100)\n",
    "present_value_coupons += sum([annual_coupon_payment / ((1 + increased_spot_rates[year] / 100) ** (year + 1)) for year in range(1, 4)])\n",
    "present_value_face_value = initial_investment / ((1 + increased_spot_rates[3] / 100) ** 4)\n",
    "\n",
    "# Total present value of the bond\n",
    "present_value_bond = present_value_coupons + present_value_face_value\n",
    "\n",
    "# Total cash after selling the bond and receiving the first coupon payment\n",
    "total_cash_available = present_value_bond + annual_coupon_payment\n",
    "\n",
    "# Calculating the shortfall and the required bailout amount\n",
    "shortfall = withdrawal_requests - total_cash_available\n",
    "bailout_needed = max(shortfall, 0)  # Ensuring bailout amount is not negative\n",
    "\n",
    "# Results\n",
    "shortfall, bailout_needed, present_value_coupons,present_value_bond, total_cash_available\n"
   ]
  },
  {
   "cell_type": "code",
   "execution_count": 2,
   "id": "215ccea5",
   "metadata": {},
   "outputs": [
    {
     "name": "stdout",
     "output_type": "stream",
     "text": [
      "4.232519077934342\n"
     ]
    },
    {
     "data": {
      "text/plain": [
       "4"
      ]
     },
     "execution_count": 2,
     "metadata": {},
     "output_type": "execute_result"
    }
   ],
   "source": [
    "# Given data:\n",
    "initial_investment = 200  # in billion dollars\n",
    "annual_coupon_rate = 0.06  # 6%\n",
    "coupon_payment = annual_coupon_rate * initial_investment  # Coupon payment received on March 1, 2023\n",
    "years_remaining = 4  # 4 years remaining after the first coupon\n",
    "withdrawal_request = 180  # in billion dollars\n",
    "\n",
    "# New spot rate curve (after +6% increase across all maturities):\n",
    "spot_rates = {\n",
    "    1: 0.1125,  # 11.25%\n",
    "    2: 0.1150,  # 11.50%\n",
    "    3: 0.1175,  # 11.75%\n",
    "    4: 0.1200   # 12.00%\n",
    "}\n",
    "\n",
    "# Calculate the present value of the remaining cash flows of the bond\n",
    "present_value_bond = 0\n",
    "for year in range(1, years_remaining + 1):\n",
    "    cash_flow = coupon_payment if year < years_remaining else coupon_payment + initial_investment\n",
    "    discount_factor = 1 / (1 + spot_rates[year]) ** year\n",
    "    present_value_bond += cash_flow * discount_factor\n",
    "\n",
    "# Calculate the total cash SVB has after selling the bond and receiving the coupon payment\n",
    "total_cash = present_value_bond + coupon_payment\n",
    "\n",
    "# Calculate the amount of bailout money needed\n",
    "bailout_needed = withdrawal_request - total_cash\n",
    "bailout_needed_billion = round(bailout_needed)\n",
    "print(bailout_needed)\n",
    "bailout_needed_billion\n"
   ]
  },
  {
   "cell_type": "code",
   "execution_count": 1,
   "id": "64b28970",
   "metadata": {},
   "outputs": [
    {
     "data": {
      "text/plain": [
       "(81.31946596893047, 174638931937.86093, 5361068062.139069, 3000000000.0)"
      ]
     },
     "execution_count": 1,
     "metadata": {},
     "output_type": "execute_result"
    }
   ],
   "source": []
  },
  {
   "cell_type": "code",
   "execution_count": null,
   "id": "a88c89b5",
   "metadata": {},
   "outputs": [],
   "source": []
  }
 ],
 "metadata": {
  "kernelspec": {
   "display_name": "Python 3 (ipykernel)",
   "language": "python",
   "name": "python3"
  },
  "language_info": {
   "codemirror_mode": {
    "name": "ipython",
    "version": 3
   },
   "file_extension": ".py",
   "mimetype": "text/x-python",
   "name": "python",
   "nbconvert_exporter": "python",
   "pygments_lexer": "ipython3",
   "version": "3.9.13"
  }
 },
 "nbformat": 4,
 "nbformat_minor": 5
}
