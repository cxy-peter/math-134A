{
 "cells": [
  {
   "cell_type": "code",
   "execution_count": 13,
   "id": "0527670a",
   "metadata": {},
   "outputs": [
    {
     "name": "stdout",
     "output_type": "stream",
     "text": [
      "Covariance matrix (R):\n",
      " [[ 90.26465444  50.89496889  79.02409333  40.17989778]\n",
      " [ 50.89496889 107.22566222 105.37893556  30.98590444]\n",
      " [ 79.02409333 105.37893556 162.20478222  56.53679778]\n",
      " [ 40.17989778  30.98590444  56.53679778  68.25477333]]\n",
      "Eigenvalues (D): [311.16736846  58.05278743  36.97666605  21.75305028]\n",
      "Normalized Principal Eigenvector (P): [0.21864157 0.26507102 0.36204532 0.15424208]\n",
      "Combined Array (Stock Data, Market Average, PC):\n",
      " [[ 11.91        29.59        23.27        27.24        23.0025\n",
      "   23.07382172]\n",
      " [ 18.37        15.25        19.47        17.05        17.535\n",
      "   17.73762871]\n",
      " [  3.64         3.53        -6.58        10.2          2.6975\n",
      "    0.92256705]\n",
      " [ 24.37        17.67        15.08        20.26        19.345\n",
      "   18.59668812]\n",
      " [ 30.42        12.74        16.24        19.84        19.81\n",
      "   18.96786036]\n",
      " [ -1.45        -2.56       -15.05         1.51        -4.3875\n",
      "   -6.21148867]\n",
      " [ 20.11        25.46        17.8         12.24        18.9025\n",
      "   19.4779201 ]\n",
      " [  9.28         6.92        18.82        16.12        12.785\n",
      "   13.16336061]\n",
      " [ 17.63         9.73         3.05        22.93        13.335\n",
      "   11.07480113]\n",
      " [ 15.71        25.09        16.94         3.49        15.3075\n",
      "   16.75684371]]\n"
     ]
    }
   ],
   "source": [
    "#Q3\n",
    "import numpy as np\n",
    "\n",
    "# Data for stocks and index\n",
    "Index = np.array([12.3, 5.5, 4.3, 6.7, 9.7, 8.3, 5.6, 5.7, 5.7, 3.6])\n",
    "Stock_1 = np.array([11.91, 18.37, 3.64, 24.37, 30.42, -1.45, 20.11, 9.28, 17.63, 15.71])\n",
    "Stock_2 = np.array([29.59, 15.25, 3.53, 17.67, 12.74, -2.56, 25.46, 6.92, 9.73, 25.09])\n",
    "Stock_3 = np.array([23.27, 19.47, -6.58, 15.08, 16.24, -15.05, 17.80, 18.82, 3.05, 16.94])\n",
    "Stock_4 = np.array([27.24, 17.05, 10.20, 20.26, 19.84, 1.51, 12.24, 16.12, 22.93, 3.49])\n",
    "\n",
    "# Calculate the Market as the average of the four stocks\n",
    "Market = (Stock_1 + Stock_2 + Stock_3 + Stock_4) / 4\n",
    "\n",
    "# Create a matrix R of the stock data\n",
    "R = np.vstack([Stock_1, Stock_2, Stock_3, Stock_4]).T\n",
    "\n",
    "# Calculate the covariance matrix of R\n",
    "cov_R = np.cov(R.T)  # Transpose R to get stocks as variables (columns)\n",
    "\n",
    "# Calculate the eigenvalues and eigenvectors of the covariance matrix\n",
    "eigenvalues, eigenvectors = np.linalg.eig(cov_R)\n",
    "\n",
    "# Extract the principal component\n",
    "# The eigenvector corresponding to the largest eigenvalue is the principal component\n",
    "largest_eigenvalue_index = np.argmax(eigenvalues)\n",
    "principal_component = eigenvectors[:, largest_eigenvalue_index]\n",
    "\n",
    "# Normalize the principal component\n",
    "normalized_principal_component = principal_component / np.sum(principal_component)\n",
    "\n",
    "# Calculate the principal component scores for each stock\n",
    "PC_scores = R.dot(normalized_principal_component)\n",
    "\n",
    "# Print the covariance matrix\n",
    "print(\"Covariance matrix (R):\\n\", cov_R)\n",
    "\n",
    "eigenvalues, eigenvectors = np.linalg.eig(cov_R)\n",
    "\n",
    "# Eigenvalues (D)\n",
    "D = eigenvalues\n",
    "\n",
    "# Print the eigenvalues\n",
    "print(\"Eigenvalues (D):\", D)\n",
    "\n",
    "# Identify the eigenvector associated with the largest eigenvalue\n",
    "largest_eigenvalue_index = np.argmax(eigenvalues)\n",
    "principal_eigenvector = eigenvectors[:, largest_eigenvalue_index]\n",
    "\n",
    "# Normalize this eigenvector\n",
    "P = principal_eigenvector / np.sum(principal_eigenvector)\n",
    "print(\"Normalized Principal Eigenvector (P):\",P)\n",
    "\n",
    "# Calculate the principal component scores (PC)\n",
    "PC = R.dot(P)\n",
    "\n",
    "# Construct the final array including the transposed stock data, market data, and principal component scores\n",
    "final_array = np.column_stack([R, Market, PC])\n",
    "print(\"Combined Array (Stock Data, Market Average, PC):\\n\",final_array)"
   ]
  },
  {
   "cell_type": "code",
   "execution_count": 15,
   "id": "7007b92b",
   "metadata": {},
   "outputs": [
    {
     "name": "stdout",
     "output_type": "stream",
     "text": [
      "[0.0356933  0.59919864]\n",
      "B matrix:\n",
      "[[0.58389128 0.59919864]\n",
      " [0.59919864 1.        ]]\n",
      "b value: 0.5991986401165613\n",
      "a value: 0.03569329771733856\n"
     ]
    }
   ],
   "source": [
    "#Q5\n",
    "import numpy as np\n",
    "\n",
    "r = np.array([2, 34, 12, 34, 67, 11, 33, 56, 34, -28]) / 100\n",
    "F = np.array([40, 80, 14, 66, 90, 20, 18, 47, 21, -30]) / 100\n",
    "A = np.vstack((np.ones(10), F)).T\n",
    "\n",
    "# Compute the answer_8_5 using matrix operations\n",
    "answer_8_5 = np.linalg.inv(np.dot(A.T, A)).dot(A.T).dot(r)\n",
    "print(answer_8_5)\n",
    "\n",
    "# Compute B, b, and a\n",
    "B = np.cov(r, F, rowvar=False) / np.var(F, ddof=1)\n",
    "b = B[1, 0]\n",
    "a = np.mean(r) - np.mean(F) * b\n",
    "\n",
    "# Output results\n",
    "print(\"B matrix:\")\n",
    "print(B)\n",
    "print(\"b value:\", b)\n",
    "print(\"a value:\", a)"
   ]
  },
  {
   "cell_type": "code",
   "execution_count": null,
   "id": "18e074a3",
   "metadata": {},
   "outputs": [],
   "source": []
  }
 ],
 "metadata": {
  "kernelspec": {
   "display_name": "Python 3 (ipykernel)",
   "language": "python",
   "name": "python3"
  },
  "language_info": {
   "codemirror_mode": {
    "name": "ipython",
    "version": 3
   },
   "file_extension": ".py",
   "mimetype": "text/x-python",
   "name": "python",
   "nbconvert_exporter": "python",
   "pygments_lexer": "ipython3",
   "version": "3.9.13"
  }
 },
 "nbformat": 4,
 "nbformat_minor": 5
}
