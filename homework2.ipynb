{
 "cells": [
  {
   "cell_type": "code",
   "execution_count": 2,
   "id": "5d50e528",
   "metadata": {},
   "outputs": [
    {
     "name": "stdout",
     "output_type": "stream",
     "text": [
      "10 3.240976183724846\n",
      "9 3.240976183724846\n"
     ]
    }
   ],
   "source": [
    "#question 5\n",
    "npv1=0\n",
    "n1=0\n",
    "for n in range(0,100): \n",
    "    npv=-1+((n+1)/(1.1)**(n))\n",
    "    if npv>npv1:\n",
    "        npv1=npv\n",
    "        n1=n\n",
    "    elif npv==npv1 and npv!=0:\n",
    "        print(n,npv)\n",
    "print(n1,npv1)"
   ]
  },
  {
   "cell_type": "code",
   "execution_count": 3,
   "id": "0c59da5e",
   "metadata": {},
   "outputs": [
    {
     "name": "stdout",
     "output_type": "stream",
     "text": [
      "6 month PVa= -6268.088115392608\n",
      "6 month PVb= -5853.431239325119\n",
      "12 month PVa= -11367.628248219475\n",
      "12 month PVb= -11230.865423397529\n"
     ]
    }
   ],
   "source": [
    "#question 8\n",
    "def calculate_npv(happiness_scores, interest_rate):\n",
    "    npv = 0\n",
    "    for i, score in enumerate(happiness_scores):\n",
    "        npv += score / (1 + interest_rate) ** i\n",
    "    return npv\n",
    "\n",
    "# Define the happiness scores for each career path\n",
    "career_A = [-1900,-900,-900,-900,-900,-900]\n",
    "career_B = [-1000,-1000,-1000,-1000,-1000,-1000]\n",
    "#career_B = [120 - 5 * i for i in range(5)]\n",
    "career_C = [-1000,-1000,-1000,-1000,-1000,-1000,-1000,-1000,-1000,-1000,-1000,-1000]\n",
    "career_D = [-1900,-900,-900,-900,-900,-900,-900,-900,-900,-900,-900,-900]\n",
    "# Define the discount rate                                    \n",
    "discount_rate = 0.01\n",
    "\n",
    "# Calculate the NPV of happiness scores for both career paths\n",
    "npv_A = calculate_npv(career_A, discount_rate)\n",
    "npv_B = calculate_npv(career_B, discount_rate)\n",
    "npv_C = calculate_npv(career_C, discount_rate)\n",
    "npv_D = calculate_npv(career_D, discount_rate)\n",
    "print(\"6 month PVa=\",npv_A)\n",
    "print(\"6 month PVb=\",npv_B)\n",
    "print(\"12 month PVa=\",npv_C)\n",
    "print(\"12 month PVb=\",npv_D)"
   ]
  },
  {
   "cell_type": "code",
   "execution_count": 7,
   "id": "141da9da",
   "metadata": {},
   "outputs": [
    {
     "name": "stdout",
     "output_type": "stream",
     "text": [
      "The investment has an internal rate of return of 11.84%.\n",
      "The investment has an internal rate of return of -7.94%.\n"
     ]
    }
   ],
   "source": [
    "#problem 10\n",
    "import numpy as np\n",
    "from scipy.optimize import fsolve\n",
    "def IRR(cash_flow):\n",
    "    # Define the NPV function\n",
    "    def npv_function(r, cash_flow):\n",
    "        n = len(cash_flow)\n",
    "        return sum(cash_flow[i] / (1 + r)**i for i in range(n))\n",
    "\n",
    "    # Define the objective function for the IRR\n",
    "    def objective_function(r, cash_flow):\n",
    "        return npv_function(r, cash_flow)\n",
    "\n",
    "    result = fsolve(objective_function, 0.1, args=(cash_flow))\n",
    "    irr = result[0]\n",
    "    return(irr)\n",
    "cash_flow = [-24000, 6000,6000,6000,6000,10000]\n",
    "cash_flow1 = [-5000,400,400,400,400,2000]\n",
    "\n",
    "# Calculate internal rate of return\n",
    "IRR1=IRR(cash_flow)\n",
    "IRR2=IRR(cash_flow1)\n",
    "\n",
    "# Print out solution\n",
    "print(f\"The investment has an internal rate of return of {IRR1 * 100:.2f}%.\")\n",
    "print(f\"The investment has an internal rate of return of {IRR2 * 100:.2f}%.\")\n"
   ]
  },
  {
   "cell_type": "code",
   "execution_count": 9,
   "id": "71996974",
   "metadata": {},
   "outputs": [
    {
     "name": "stdout",
     "output_type": "stream",
     "text": [
      "The investment has an internal rate of return of 52.80%.\n",
      "521260.9310699589\n"
     ]
    }
   ],
   "source": [
    "#problem 12\n",
    "import numpy as np\n",
    "from scipy.optimize import fsolve\n",
    "def IRR(cash_flow):\n",
    "    # Define the NPV function\n",
    "    def npv_function(r, cash_flow):\n",
    "        n = len(cash_flow)\n",
    "        return sum(cash_flow[i] / (1 + r)**i for i in range(n))\n",
    "\n",
    "    # Define the objective function for the IRR\n",
    "    def objective_function(r, cash_flow):\n",
    "        return npv_function(r, cash_flow)\n",
    "\n",
    "    result = fsolve(objective_function, 0.1, args=(cash_flow))\n",
    "    irr = result[0]\n",
    "    return(irr)\n",
    "cash_flow = [-1000000,840000,707500,387500,177500,50000]\n",
    "\n",
    "# Calculate internal rate of return\n",
    "IRR1=IRR(cash_flow)\n",
    "\n",
    "# Print out solution\n",
    "print(f\"The investment has an internal rate of return of {IRR1 * 100:.2f}%.\")\n",
    "\n",
    "#Solution\n",
    "def calculate_npv(happiness_scores, interest_rate):\n",
    "    npv = 0\n",
    "    for i, score in enumerate(happiness_scores):\n",
    "        npv += score / (1 + interest_rate) ** i\n",
    "    return npv\n",
    "\n",
    "# Define the happiness scores for each career path\n",
    "career_A = [-1000000,840000,707500,387500,177500,50000]\n",
    "\n",
    "\n",
    "# Define the discount rate\n",
    "discount_rate = 0.2\n",
    "\n",
    "# Calculate the NPV of happiness scores for both career paths\n",
    "npv_A = calculate_npv(career_A, discount_rate)\n",
    "\n",
    "print(npv_A)\n"
   ]
  },
  {
   "cell_type": "code",
   "execution_count": null,
   "id": "126a84a8",
   "metadata": {},
   "outputs": [],
   "source": []
  }
 ],
 "metadata": {
  "kernelspec": {
   "display_name": "Python 3 (ipykernel)",
   "language": "python",
   "name": "python3"
  },
  "language_info": {
   "codemirror_mode": {
    "name": "ipython",
    "version": 3
   },
   "file_extension": ".py",
   "mimetype": "text/x-python",
   "name": "python",
   "nbconvert_exporter": "python",
   "pygments_lexer": "ipython3",
   "version": "3.9.13"
  }
 },
 "nbformat": 4,
 "nbformat_minor": 5
}
