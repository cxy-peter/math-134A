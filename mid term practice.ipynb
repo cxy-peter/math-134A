{
 "cells": [
  {
   "cell_type": "code",
   "execution_count": 1,
   "id": "577d1f86",
   "metadata": {},
   "outputs": [
    {
     "name": "stdout",
     "output_type": "stream",
     "text": [
      "0.12376241456867564 0.12376241456867555\n"
     ]
    }
   ],
   "source": [
    "import numpy as np\n",
    "from scipy.optimize import fsolve\n",
    "\n",
    "\n",
    "def IRRPoly(cash_flow):\n",
    "    # Create the polynomial coefficients\n",
    "    coefficients = np.flip(cash_flow)\n",
    "    \n",
    "    # Find the roots of the polynomial\n",
    "    roots = np.roots(coefficients)\n",
    "    \n",
    "    # Find the real positive root\n",
    "    irr_poly = np.real(roots[(roots >= 0)  & (np.iscomplex(roots) == False)])[0] \n",
    "    \n",
    "    # Solve for C=1/(1+r)\n",
    "    irr= (1-irr_poly)/irr_poly\n",
    "\n",
    "    return irr\n",
    "\n",
    "def IRR(cash_flow):\n",
    "    # Define the NPV function\n",
    "    def npv_function(r, cash_flow):\n",
    "        n = len(cash_flow)\n",
    "        return sum(cash_flow[i] / (1 + r)**i for i in range(n))\n",
    "\n",
    "    # Define the objective function for the IRR\n",
    "    def objective_function(r, cash_flow):\n",
    "        return npv_function(r, cash_flow)\n",
    "\n",
    "    result = fsolve(objective_function, 0.1, args=(cash_flow))\n",
    "    irr = result[0]\n",
    "    return(irr)\n",
    "#I prefer to use the second method, the first one only works for yearly IRR\n",
    "#cash flow=[...]\n",
    "#IRR1=IRRPoly(cash_flow)\n",
    "a=IRRPoly([-50,14,14,14,14,14])\n",
    "b=IRR([-50,14,14,14,14,14])\n",
    "print(a,b)\n",
    "\n",
    "# Print out solution\n",
    "#print(f\"The investment has an internal rate of return of {IRR1 * 100:.0f}%.\")"
   ]
  },
  {
   "cell_type": "code",
   "execution_count": 2,
   "id": "26c24a59",
   "metadata": {},
   "outputs": [
    {
     "data": {
      "text/plain": [
       "54"
      ]
     },
     "execution_count": 2,
     "metadata": {},
     "output_type": "execute_result"
    }
   ],
   "source": [
    "#2\n",
    "import numpy_financial as npf\n",
    "\n",
    "# Constants\n",
    "loan_amount = 800000  # Loan amount\n",
    "term_years = 30  # Term of the loan in years\n",
    "\n",
    "# Initial interest rate\n",
    "initial_rate = 0.04  # 4% annual interest rate\n",
    "monthly_rate_initial = initial_rate / 12  # Monthly interest rate\n",
    "\n",
    "# Calculating monthly payment for initial rate\n",
    "monthly_payment_initial = -npf.pmt(monthly_rate_initial, term_years * 12, loan_amount)\n",
    "\n",
    "# New interest rate\n",
    "new_rate = 0.08  # 8% annual interest rate\n",
    "monthly_rate_new = new_rate / 12  # Monthly interest rate\n",
    "\n",
    "# Calculating monthly payment for new rate\n",
    "monthly_payment_new = -npf.pmt(monthly_rate_new, term_years * 12, loan_amount)\n",
    "\n",
    "# Calculating the percentage increase in monthly payment\n",
    "percentage_increase = ((monthly_payment_new - monthly_payment_initial) / monthly_payment_initial) * 100\n",
    "\n",
    "# Rounding to the nearest integer\n",
    "rounded_percentage_increase = round(percentage_increase)\n",
    "\n",
    "rounded_percentage_increase\n"
   ]
  },
  {
   "cell_type": "code",
   "execution_count": null,
   "id": "042a630d",
   "metadata": {},
   "outputs": [],
   "source": [
    "#"
   ]
  },
  {
   "cell_type": "code",
   "execution_count": 3,
   "id": "289e5647",
   "metadata": {},
   "outputs": [
    {
     "data": {
      "text/plain": [
       "1"
      ]
     },
     "execution_count": 3,
     "metadata": {},
     "output_type": "execute_result"
    }
   ],
   "source": [
    "#3\n",
    "# Constants\n",
    "value_today = 1010  # Today's value of the bond portfolio\n",
    "yield_today = 0.10  # Today's yield (10%)\n",
    "\n",
    "value_yesterday = 1000  # Yesterday's value of the bond portfolio\n",
    "yield_yesterday = 0.11  # Yesterday's yield (11%)\n",
    "\n",
    "# Calculating the change in value and yield\n",
    "change_in_value = value_today - value_yesterday\n",
    "change_in_yield = yield_today - yield_yesterday\n",
    "\n",
    "# Calculating Modified Duration\n",
    "# Modified Duration = - (Percentage Change in Price) / (Change in Yield)\n",
    "modified_duration = - (change_in_value / value_yesterday) / change_in_yield\n",
    "\n",
    "# Rounding to the nearest integer\n",
    "rounded_modified_duration = round(modified_duration)\n",
    "\n",
    "rounded_modified_duration\n"
   ]
  },
  {
   "cell_type": "code",
   "execution_count": 5,
   "id": "8e391afd",
   "metadata": {},
   "outputs": [
    {
     "data": {
      "text/plain": [
       "7"
      ]
     },
     "execution_count": 5,
     "metadata": {},
     "output_type": "execute_result"
    }
   ],
   "source": [
    "#Q6\n",
    "# Corrected calculation for Macaulay Duration\n",
    "\n",
    "# Constants for the bond\n",
    "face_value = 1000  # Assuming a standard face value of $1000\n",
    "coupon_rate = 0.08  # 8% annual coupon rate\n",
    "annual_yield = 0.08  # 8% annual yield\n",
    "maturity_years = 10  # 10 years maturity\n",
    "frequency = 2  # Semi-annual coupons\n",
    "\n",
    "# Semi-annual coupon payment\n",
    "semi_annual_coupon = face_value * coupon_rate / frequency\n",
    "\n",
    "# Semi-annual yield\n",
    "semi_annual_yield = annual_yield / frequency\n",
    "\n",
    "# Number of periods\n",
    "n_periods = maturity_years * frequency\n",
    "\n",
    "# Macaulay Duration calculation\n",
    "duration = 0\n",
    "for t in range(1, n_periods + 1):\n",
    "    duration += t * semi_annual_coupon / ((1 + semi_annual_yield) ** t)\n",
    "duration += n_periods * face_value / ((1 + semi_annual_yield) ** n_periods)\n",
    "\n",
    "present_value = sum(semi_annual_coupon / ((1 + semi_annual_yield) ** t) for t in range(1, n_periods + 1)) + face_value / ((1 + semi_annual_yield) ** n_periods)\n",
    "\n",
    "duration /= present_value\n",
    "\n",
    "# Converting duration from periods to years\n",
    "macaulay_duration_years = duration / frequency\n",
    "\n",
    "# Rounding to the nearest integer\n",
    "rounded_macaulay_duration_years = round(macaulay_duration_years)\n",
    "\n",
    "rounded_macaulay_duration_years\n"
   ]
  },
  {
   "cell_type": "code",
   "execution_count": 4,
   "id": "fefebcdc",
   "metadata": {},
   "outputs": [
    {
     "data": {
      "text/plain": [
       "13"
      ]
     },
     "execution_count": 4,
     "metadata": {},
     "output_type": "execute_result"
    }
   ],
   "source": [
    "#Q7\n",
    "# Constants for the bond\n",
    "coupon_rate = 0.08  # 8% annual coupon rate\n",
    "yield_rate = 0.08  # 8% yield\n",
    "frequency = 2  # Semi-annual coupons\n",
    "\n",
    "# Macaulay duration formula for a perpetuity\n",
    "# Duration = (1 + yield_rate/frequency) / (yield_rate/frequency)\n",
    "macaulay_duration = (1 + yield_rate / frequency) / (yield_rate / frequency)\n",
    "\n",
    "# Since each period is half a year, we divide the duration by 2 to get the years\n",
    "macaulay_duration_years = macaulay_duration / frequency\n",
    "\n",
    "# Rounding to the nearest integer\n",
    "rounded_macaulay_duration_years = round(macaulay_duration_years)\n",
    "\n",
    "rounded_macaulay_duration_years\n"
   ]
  },
  {
   "cell_type": "code",
   "execution_count": 18,
   "id": "0dee68b4",
   "metadata": {},
   "outputs": [
    {
     "name": "stdout",
     "output_type": "stream",
     "text": [
      "Optimal number of units for each bond (8% constant yield):\n",
      "Bond 1 (8% yield): 1.00\n",
      "Bond 2 (8% yield): 2.00\n",
      "Bond 3 (8% yield): 3.00\n",
      "Bond 4 (8% yield): 4.00\n",
      "Bond 5 (8% yield): 5.00\n",
      "Bond 6 (8% yield): 6.00\n",
      "Bond 7 (8% yield): 7.00\n",
      "Bond 8 (8% yield): 8.00\n",
      "Bond 9 (8% yield): 9.00\n",
      "Bond 10 (8% yield): 10.00\n"
     ]
    }
   ],
   "source": [
    "#Q8\n",
    "import numpy as np\n",
    "from scipy.optimize import linprog\n",
    "\n",
    "# New bond information for zero-coupon bonds with a constant 8% yield\n",
    "years = 10  # Number of years\n",
    "face_value = 100  # Face value of each bond\n",
    "constant_yield = 0.08  # Constant annual yield of 8%\n",
    "obligations = np.array([100 * (i + 1) for i in range(years)])  # Increasing obligations\n",
    "\n",
    "# Calculate the price of each zero-coupon bond using the constant 8% yield\n",
    "bond_prices_constant_yield = np.array([face_value / ((1 + constant_yield) ** (i + 1)) for i in range(years)])\n",
    "\n",
    "# Objective function to minimize the total cost of the portfolio (using constant yield)\n",
    "c_constant_yield = bond_prices_constant_yield\n",
    "\n",
    "# Inequality constraint matrix for zero-coupon bonds (only pay at maturity)\n",
    "A = np.zeros((years, years))\n",
    "np.fill_diagonal(A, face_value)\n",
    "\n",
    "# Inequality constraint vector (obligations)\n",
    "b = obligations\n",
    "\n",
    "# Solve the linear programming problem with constant yield\n",
    "result_constant_yield = linprog(c_constant_yield, A_ub=-A, b_ub=-b, method=\"highs\")\n",
    "\n",
    "# Print the results for constant yield\n",
    "print(\"Optimal number of units for each bond (8% constant yield):\")\n",
    "for i, x in enumerate(result_constant_yield.x, 1):\n",
    "    print(f\"Bond {i} (8% yield): {x:.2f}\")\n"
   ]
  },
  {
   "cell_type": "code",
   "execution_count": 9,
   "id": "6d6f0729",
   "metadata": {},
   "outputs": [
    {
     "data": {
      "text/plain": [
       "603725"
      ]
     },
     "execution_count": 9,
     "metadata": {},
     "output_type": "execute_result"
    }
   ],
   "source": [
    "#Q9\n",
    "def calculate_max_purchase_price_corrected(future_value, initial_rent, inflation_rate, desired_return, years):\n",
    "    total_cash_flow = 0\n",
    "\n",
    "    # Calculate the total cash flow over the investment period\n",
    "    for year in range(1, years + 1):\n",
    "        # Rental income for each year, adjusted for inflation\n",
    "        annual_rent = initial_rent * ((1 + inflation_rate) ** (year - 1))\n",
    "        total_cash_flow += annual_rent / ((1 + desired_return) ** year)\n",
    "\n",
    "    # Add the future value of the property\n",
    "    total_cash_flow += future_value / ((1 + desired_return) ** years)\n",
    "\n",
    "    # The maximum purchase price is the total cash flow\n",
    "    max_purchase_price = total_cash_flow\n",
    "\n",
    "    return round(max_purchase_price)\n",
    "\n",
    "# Parameters\n",
    "future_value = 1000000  # future sale price\n",
    "initial_rent = 24000    # initial annual rental income\n",
    "inflation_rate = 0.10   # 10% inflation rate\n",
    "desired_return = 0.10   # 10% desired internal rate of return\n",
    "years = 10              # investment period in years\n",
    "\n",
    "# Calculate the maximum purchase price\n",
    "max_purchase_price_corrected = calculate_max_purchase_price_corrected(future_value, initial_rent, inflation_rate, desired_return, years)\n",
    "\n",
    "max_purchase_price_corrected"
   ]
  },
  {
   "cell_type": "code",
   "execution_count": 10,
   "id": "14a02366",
   "metadata": {},
   "outputs": [
    {
     "name": "stdout",
     "output_type": "stream",
     "text": [
      "The original monthly payment amount: $18180.73\n",
      "Remaining balance after 2 years: $3517696.24\n"
     ]
    }
   ],
   "source": [
    "#Q10\n",
    "def calculate_monthly_payment(P, r, n):\n",
    "    return P * r * (1 + r)**n / ((1 + r)**n - 1)\n",
    "\n",
    "mortgage_value = 4500000 \n",
    "monthly_rate = 0.0267 / 12\n",
    "num_payments = 30 * 12\n",
    "\n",
    "original_monthly_payment = calculate_monthly_payment(mortgage_value, monthly_rate, num_payments)\n",
    "print(f\"The original monthly payment amount: ${original_monthly_payment:.2f}\")\n",
    "\n",
    "new_monthly_rate = 0.0467/ 12\n",
    "def calculate_remaining_balance(A, r, n):\n",
    "    remaining_balance = (A/r)*(1-1/(1+r)**n)\n",
    "    return remaining_balance\n",
    "\n",
    "remaining_balance = calculate_remaining_balance(original_monthly_payment, new_monthly_rate, num_payments)\n",
    "print(f'Remaining balance after 2 years: ${remaining_balance:.2f}')"
   ]
  },
  {
   "cell_type": "code",
   "execution_count": null,
   "id": "feb4fa18",
   "metadata": {},
   "outputs": [],
   "source": []
  }
 ],
 "metadata": {
  "kernelspec": {
   "display_name": "Python 3 (ipykernel)",
   "language": "python",
   "name": "python3"
  },
  "language_info": {
   "codemirror_mode": {
    "name": "ipython",
    "version": 3
   },
   "file_extension": ".py",
   "mimetype": "text/x-python",
   "name": "python",
   "nbconvert_exporter": "python",
   "pygments_lexer": "ipython3",
   "version": "3.9.13"
  }
 },
 "nbformat": 4,
 "nbformat_minor": 5
}
