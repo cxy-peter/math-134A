{
 "cells": [
  {
   "cell_type": "code",
   "execution_count": 16,
   "id": "43b7b341",
   "metadata": {},
   "outputs": [
    {
     "name": "stdout",
     "output_type": "stream",
     "text": [
      "d0k: [0.9523809523809523, 0.901868581514039, 0.8491965975178783, 0.7981000338041193, 0.747258172866057, 0.7009833403416522]\n",
      "9.497876784246984\n"
     ]
    }
   ],
   "source": [
    "#11-1\n",
    "s = [5.0, 5.3, 5.6, 5.8, 6.0, 6.1]\n",
    "x = [-40,10, 10, 10, 10, 10, 10]\n",
    "period=[1,2,3,4,5,6]\n",
    "c=[]\n",
    "NPV=0\n",
    "def discount(r, life):\n",
    "    #discount=1/(1+r)**life\n",
    "    discount=1/(1+r)**life\n",
    "    return discount\n",
    "for i in range(0,6):\n",
    "    discount1=discount(s[i]/100,period[i])\n",
    "    #print(discount1)\n",
    "    c.append(discount1)\n",
    "print(\"d0k:\",c)\n",
    "for j in range(0,6):\n",
    "    NPV+=x[j+1]*c[j]\n",
    "print(NPV-40)"
   ]
  },
  {
   "cell_type": "code",
   "execution_count": 22,
   "id": "1bb16f72",
   "metadata": {},
   "outputs": [
    {
     "name": "stdout",
     "output_type": "stream",
     "text": [
      "[[0.94696201]\n",
      " [0.94159683]\n",
      " [0.93982952]\n",
      " [0.93629638]\n",
      " [0.93807384]\n",
      " [0.        ]]\n"
     ]
    }
   ],
   "source": [
    "#11-2\n",
    "import numpy as np\n",
    "d = np.zeros(shape=(6,1))\n",
    "f = np.zeros(shape=(6,1))\n",
    "pv = np.zeros(shape=(7,1))\n",
    "cashflow = np.array([-40,10,10,10,10,10,10])\n",
    "s = np.array([5.0,5.3,5.6,5.8,6.0,6.1])\n",
    "for i in range (0,5):\n",
    "    f[i] = ((1+s[i+1]/100)**(i+2)/(1+s[i]/100)**(i+1))-1\n",
    "    d[i] = 1/(1+f[i])\n",
    "print(d)"
   ]
  },
  {
   "cell_type": "code",
   "execution_count": 25,
   "id": "c366e864",
   "metadata": {},
   "outputs": [
    {
     "name": "stdout",
     "output_type": "stream",
     "text": [
      "[-14.02731012  31.1166465 ]\n"
     ]
    }
   ],
   "source": [
    "#15\n",
    "F1= 100; #face value\n",
    "y1 = 0.09; #yield to maturity\n",
    "m1 = 2; #number of coupon payments per year\n",
    "n1 = 10; #number of coupon periods\n",
    "c1 = 0.08; #yearly coupy payment, how many percent bond\n",
    "\n",
    "P1 = F1/((1+y1/m1)**n1)+(c1/y1)*(1-(1/(1+y1/m1)**n1))\n",
    "D1 = ((1+y1/m1)/(m1*y1/m1))-(1+y1/m1+n1*m1*(c1/m1-y1/m1))/(m1*(c1/m1)*((1+y1/m1)**(n1*m1)-1)+m1*y1/m1)\n",
    "import numpy as np\n",
    "s = np.array([0.0767, 0.0827, 0.0881, 0.0931, 0.0975, 0.1016, 0.1052, 0.1085, 0.1115, 0.1142, 0.1167, 0.1189])\n",
    "b1 = np.array([6,6,6,6,6,6,6,6,6,6,6,106])\n",
    "PV1 = np.zeros(shape=(12,1))\n",
    "for i in range(0,12):\n",
    "    PV1[i] = b1[i]/(1+s[i])**(i+1)\n",
    "P1 = np.sum(PV1)\n",
    "minusPV1prime = np.zeros(shape=(12,1))\n",
    "for i in range(0,12):\n",
    "    minusPV1prime[i] = (b1[i]*(i+1))/(1+s[i])**(i+2)\n",
    "minusdP1dLambda = np.sum(minusPV1prime)\n",
    "D1 = minusdP1dLambda/P1\n",
    "s = np.array([0.0767, 0.0827, 0.0881, 0.0931, 0.0975, 0.1016, 0.1052, 0.1085, 0.1115, 0.1142, 0.1167, 0.1189])\n",
    "b2 = np.array([10,10,10,10,110])\n",
    "PV2 = np.zeros(shape=(5,1))\n",
    "for i in range(0,5):\n",
    "    PV2[i] = b2[i]/(1+s[i])**(i+1)\n",
    "P2 = np.sum(PV2)\n",
    "minusPV2prime = np.zeros(shape=(5,1))\n",
    "for i in range(0,5):\n",
    "    minusPV2prime[i] = (b2[i]*(i+1))/(1+s[i])**(i+2)\n",
    "minusdP2dLambda = np.sum(minusPV2prime)\n",
    "D2 = minusdP2dLambda/P2\n",
    "ob = np.array([500,900,600,500,100,100,100,50])\n",
    "PVob = np.zeros(shape=(8,1))\n",
    "for i in range (0,8):\n",
    "    PVob[i] = ob[i]/(1+s[i])**(i+1)\n",
    "Pob = np.sum(PVob)\n",
    "minusPVobprime = np.zeros(shape=(8,1))\n",
    "for i in range(0,8):\n",
    "    minusPVobprime[i] = (ob[i]*(i+1))/(1+s[i])**(i+2)\n",
    "minusdPobdLambda = np.sum(minusPVobprime)\n",
    "Dob = minusdPobdLambda/Pob\n",
    "A = np.array([[P1, P2], [P1*D1, P2*D2]])\n",
    "B = np.array([Pob, Pob*Dob])\n",
    "X = np.linalg.inv(A).dot(B)\n",
    "print(X)"
   ]
  },
  {
   "cell_type": "code",
   "execution_count": null,
   "id": "acc4c388",
   "metadata": {},
   "outputs": [],
   "source": []
  }
 ],
 "metadata": {
  "kernelspec": {
   "display_name": "Python 3 (ipykernel)",
   "language": "python",
   "name": "python3"
  },
  "language_info": {
   "codemirror_mode": {
    "name": "ipython",
    "version": 3
   },
   "file_extension": ".py",
   "mimetype": "text/x-python",
   "name": "python",
   "nbconvert_exporter": "python",
   "pygments_lexer": "ipython3",
   "version": "3.9.13"
  }
 },
 "nbformat": 4,
 "nbformat_minor": 5
}
