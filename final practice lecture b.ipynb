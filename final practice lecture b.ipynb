{
 "cells": [
  {
   "cell_type": "code",
   "execution_count": 5,
   "id": "7cb2f52d",
   "metadata": {},
   "outputs": [
    {
     "data": {
      "text/plain": [
       "(-2216.560382053845, 5003.967355938829)"
      ]
     },
     "execution_count": 5,
     "metadata": {},
     "output_type": "execute_result"
    }
   ],
   "source": [
    "#Lecture B\n",
    "#last year final exam\n",
    "#final practice\n",
    "#Q1 (unit, may need to divide 1000)\n",
    "def cash_flow_present_value(cash_flow, effective_rate):\n",
    "    #\"\"\"Enter effective rate in percentage\"\"\"\n",
    "    if isinstance(effective_rate, list) or isinstance(effective_rate, tuple):\n",
    "        spr = [1] + [1 + r/100 for r in effective_rate]\n",
    "        p = 0.\n",
    "        for i, ai in enumerate(cash_flow):\n",
    "            p += ai / (spr[i]) ** i\n",
    "        return p\n",
    "    r = 1 + effective_rate / 100\n",
    "    res = 0\n",
    "    for i, ai in enumerate(cash_flow):\n",
    "        res += ai / r ** i\n",
    "    return res\n",
    "\n",
    "class Bond:\n",
    "    #\"\"\"Implementation of a bond. A face value $30000, 9% bond that matures in 30 periods (years) that pays its coupons twice a period (year) should be entered as Bond(9, 30, 2, 300)\"\"\"\n",
    "    def __init__(self, coupon_percentage, maturity_years, coupon_freq, face_value):\n",
    "        self.percentage = coupon_percentage / 100\n",
    "        self.maturity_years = maturity_years\n",
    "        self.coupon_freq = coupon_freq\n",
    "        self.face_value = face_value\n",
    "        flow = [0] + [coupon_percentage / coupon_freq] * maturity_years * coupon_freq\n",
    "        flow[-1] += face_value\n",
    "        self.flow = tuple(flow)\n",
    "    \n",
    "    @property\n",
    "    def coupon_payment(self):\n",
    "        return self.percentage * self.face_value / self.coupon_freq\n",
    "\n",
    "def QM_duration(cash_flow_or_bond, rates, compound_freq):\n",
    "    #\"\"\"Enter a list of spot rates (in percentage) to calculate the quasi-modified duration.\n",
    "    #Keep in mind if the price at rates = sk + y is P(y), then P'(0) = -Dq * P(0)\n",
    "\n",
    "    #This trims the first term to keep consistent with the bond calculations. i.e. following the book. calculating the\n",
    "    #quasimodified duration for (x0, x1, ..., xn) where x0 is the flow on year 0\n",
    "    \n",
    "    #You can actually feed a bond into this function and we will handle it for you\"\"\"\n",
    "    \n",
    "    if isinstance(cash_flow_or_bond, Bond):\n",
    "        cash_flow = cash_flow_or_bond.flow\n",
    "    else:\n",
    "        cash_flow = cash_flow_or_bond\n",
    "    \n",
    "    assert len(cash_flow) <= len(rates) + 1, f\"Wrong number of periods: we have {len(rates)} years of spot rates but {len(cash_flow)} years bond\"\n",
    "\n",
    "    # First calculate the pv of cash flow\n",
    "    spr = [1] + [1 + r/100 for r in rates]\n",
    "    res = 0\n",
    "    for i, ai in enumerate(cash_flow):\n",
    "        res += ai / (spr[i]) ** i\n",
    "    PV = res\n",
    "\n",
    "    x = cash_flow[1:]\n",
    "    s = [1 + r/100 for r in rates]\n",
    "    m = compound_freq\n",
    "    n = len(cash_flow) - 1\n",
    "    res = 0.\n",
    "    for _k in range(n):\n",
    "        k = _k + 1\n",
    "        rs = (k/m) * x[_k] * (s[_k]) ** (-k-1)\n",
    "        res += rs\n",
    "    return res/PV\n",
    "\n",
    "def immunize_parallel(bond1: Bond, bond2: Bond, obligation_cash_flow, rates, verbose: bool = False):\n",
    "    # Calculate the PVob, Dob of obligation\n",
    "    # Calculate the PV1, D1 of bond1\n",
    "    # Calculate the PV2, D2 of bond2\n",
    "\n",
    "    obligation = obligation_cash_flow\n",
    "\n",
    "    # First do error checking\n",
    "    num_years_total = max(bond1.maturity_years, bond2.maturity_years, len(obligation) - 1)\n",
    "    enough_rates = len(rates) >= num_years_total\n",
    "    if not enough_rates:\n",
    "        raise ValueError(f\"Expected at least {num_years_total} years of rates, found {len(rates)}\")\n",
    "\n",
    "    PVob = cash_flow_present_value(obligation, rates)\n",
    "    PV1 = cash_flow_present_value(bond1.flow, rates)\n",
    "    PV2 = cash_flow_present_value(bond2.flow, rates)\n",
    "    \n",
    "    Dob = QM_duration(obligation, rates, 1)\n",
    "    D1 = QM_duration(bond1, rates, 1)\n",
    "    D2 = QM_duration(bond2, rates, 1)\n",
    "\n",
    "    if verbose:\n",
    "        print(f\"Duration of bond 1: {D1}\")\n",
    "        print(f\"Duration of bond 2: {D2}\")\n",
    "        print(f\"Duration of obligation: {Dob}\")\n",
    "        print(f\"Present value of bond 1: {PV1}\")\n",
    "        print(f\"Present value of bond 2: {PV2}\")\n",
    "        print(f\"Present value of obligation: {PVob}\")\n",
    "\n",
    "    # Solve for\n",
    "    # PV1   PV2     x1 = PVob\n",
    "    # PV1D1 PV2D2   x2 = PVob Dob\n",
    "\n",
    "    # Hence\n",
    "    # x1 =  |PV1   PV2  |-1  |PVob    |\n",
    "    # x2 =  |PV1D1 PV2D2|    |PVob Dob|\n",
    "    det = PV1 * PV2 * D2 - PV2 * PV1 * D1\n",
    "    if abs(det) < 1e-5:\n",
    "        raise ValueError(\"This portfolio cannot be immunized - the equations have no solutions\")\n",
    "\n",
    "    x1 = 1/det * (PV2 * PVob * D2 - PVob * Dob * PV2)\n",
    "    x2 = 1/det * (PV1 * PVob * Dob - PVob * D1 * PV1)\n",
    "\n",
    "    if verbose:\n",
    "        print(f\"Buy {x1} units of bond 1 and {x2} units of bond 2\")\n",
    "\n",
    "    return x1, x2\n",
    "\n",
    "\n",
    "## The inputs: in percentage\n",
    "spot_rates = [5.25, 5.50, 5.75, 6.00, 6.25]\n",
    "bond1 = Bond(6, 5, 1, 100)\n",
    "bond2 = Bond(10, 4, 1, 100)\n",
    "obligation = (0, 50000, 51000 + 51000, 52000 + 52000, 53000 + 53000, 54000)\n",
    "immunize_parallel(bond1, bond2, obligation, spot_rates)\n"
   ]
  },
  {
   "cell_type": "code",
   "execution_count": 6,
   "id": "4ee6a399",
   "metadata": {},
   "outputs": [
    {
     "name": "stdout",
     "output_type": "stream",
     "text": [
      "Orginal Payment: 5368.216230121399\n"
     ]
    },
    {
     "data": {
      "text/plain": [
       "7087.490482768596"
      ]
     },
     "execution_count": 6,
     "metadata": {},
     "output_type": "execute_result"
    }
   ],
   "source": [
    "#Q2\n",
    "def new_paymt(P, n1, m, r1, r2, n2): \n",
    "    A1 = r1/m*P*(1-1/(1+r1/m)**(n1*m))**(-1)\n",
    "    print('Orginal Payment:', A1)\n",
    "    P1 = A1/(r1/m)*(1-1/(1+r1/m)**((n1-n2)*m))\n",
    "    A2 = r2/m*P1*(1-1/(1+r2/m)**((n1-n2)*m))**(-1)\n",
    "    return A2\n",
    "\n",
    "new_paymt(P=1000000, n1=30, m=12, r1=0.05, r2=0.08, n2=5)"
   ]
  },
  {
   "cell_type": "code",
   "execution_count": 3,
   "id": "d78fef59",
   "metadata": {},
   "outputs": [
    {
     "data": {
      "text/plain": [
       "(8, 156369.0359294578)"
      ]
     },
     "execution_count": 3,
     "metadata": {},
     "output_type": "execute_result"
    }
   ],
   "source": [
    "#Q3\n",
    "# Parameters as per the user's description\n",
    "initial_cost = 26000  \n",
    "replacement_cost = 26000\n",
    "annual_increase = 1000\n",
    "interest_rate = 0.06\n",
    "operating_cost_first_year = 2000\n",
    "\n",
    "# Define the operating costs for a maximum of 30 years\n",
    "years = 30\n",
    "operating_costs = [operating_cost_first_year + i * annual_increase for i in range(years)]\n",
    "\n",
    "# Function to calculate present value of costs\n",
    "def present_value(cost, rate, year):\n",
    "    return cost / ((1 + rate) ** year)\n",
    "\n",
    "# Calculate the present value of the operating costs for each year\n",
    "present_values_operating = [present_value(oc, interest_rate, year) for year, oc in enumerate(operating_costs, start=1)]\n",
    "\n",
    "# Function to calculate the total cost for a given replacement period n\n",
    "def total_cost(n):\n",
    "    # Present value of initial cost\n",
    "    pv_initial_cost = present_value(initial_cost, interest_rate, 0)\n",
    "    # Sum of present values of operating costs up to year n\n",
    "    pv_operating_costs = sum(present_values_operating[:n])\n",
    "    # Total present value cost of owning the machine for n years (including replacement every n years indefinitely)\n",
    "    # is the initial cost plus operating costs times the series sum of (1 - (1 + r)^(-n))^-1\n",
    "    # This is the present value annuity factor for a perpetuity with payments every n years\n",
    "    annuity_factor = (1 - (1 + interest_rate)**(-n))**(-1)\n",
    "    total_pv_cost = (pv_initial_cost + pv_operating_costs) * annuity_factor\n",
    "    return total_pv_cost\n",
    "\n",
    "# Initialize the minimum cost to a large number and optimal n to None\n",
    "min_cost = float('inf')\n",
    "optimal_n = None\n",
    "\n",
    "# Check for the optimal replacement period from 1 to 30 years\n",
    "for n in range(1, years + 1):\n",
    "    cost_n = total_cost(n)\n",
    "    if cost_n < min_cost:\n",
    "        min_cost = cost_n\n",
    "        optimal_n = n\n",
    "\n",
    "optimal_n, min_cost\n"
   ]
  },
  {
   "cell_type": "code",
   "execution_count": 7,
   "id": "88a2b169",
   "metadata": {},
   "outputs": [
    {
     "data": {
      "text/plain": [
       "1400.0"
      ]
     },
     "execution_count": 7,
     "metadata": {},
     "output_type": "execute_result"
    }
   ],
   "source": [
    "#Q4\n",
    "def allocate_a(n, rb, rm, rf):   # $n dollars, a in market portfolio, n-a in risk-free asset, return a\n",
    "    # n*rb = a*rm + (n-a)*rf\n",
    "    return n*(rb-rf) / (rm-rf)\n",
    "\n",
    "allocate_a(n=1000, rb=0.2, rm=0.16, rf=0.06)"
   ]
  },
  {
   "cell_type": "code",
   "execution_count": 1,
   "id": "fafe9b40",
   "metadata": {},
   "outputs": [
    {
     "data": {
      "text/plain": [
       "(array([ 0.0971984 ,  0.53230417, -0.15208691,  0.60777587, -0.08519154]),\n",
       " 0.12381360777587194)"
      ]
     },
     "execution_count": 1,
     "metadata": {},
     "output_type": "execute_result"
    }
   ],
   "source": [
    "#Q5 同Q10 final exam practice\n",
    "import numpy as np\n",
    "\n",
    "# Covariance matrix V\n",
    "V = np.array([\n",
    "    [0.21, 0.12, 0.17, 0.13, 0.16],\n",
    "    [0.12, 0.15, 0.12, 0.10, 0.12],\n",
    "    [0.17, 0.12, 0.19, 0.14, 0.15],\n",
    "    [0.13, 0.10, 0.14, 0.15, 0.14],\n",
    "    [0.16, 0.12, 0.15, 0.14, 0.21]\n",
    "])\n",
    "\n",
    "# Augmenting the covariance matrix with ones to account for the constraint\n",
    "augmented_matrix = np.vstack([V, np.ones(V.shape[1])])\n",
    "augmented_matrix = np.hstack([augmented_matrix, np.ones((augmented_matrix.shape[0], 1))])\n",
    "augmented_matrix[-1, -1] = 0\n",
    "\n",
    "# Right-hand side vector\n",
    "b = np.zeros(V.shape[1] + 1)\n",
    "b[-1] = 1\n",
    "\n",
    "# Solving the linear system\n",
    "solution = np.linalg.solve(augmented_matrix, b)\n",
    "\n",
    "# Extracting the weights\n",
    "weights = solution[:-1]\n",
    "\n",
    "weights, np.dot(weights.T, np.dot(V, weights))"
   ]
  },
  {
   "cell_type": "code",
   "execution_count": 3,
   "id": "4171c24a",
   "metadata": {},
   "outputs": [
    {
     "data": {
      "text/plain": [
       "array([[-0.57952824],\n",
       "       [-0.07124196],\n",
       "       [ 0.50596584],\n",
       "       [ 0.91625997],\n",
       "       [ 0.22854439],\n",
       "       [ 0.35407861],\n",
       "       [-0.16231041]])"
      ]
     },
     "execution_count": 3,
     "metadata": {},
     "output_type": "execute_result"
    }
   ],
   "source": [
    "import numpy as np\n",
    "V = np.array([\n",
    "    [0.21, 0.12, 0.17, 0.13, 0.16],\n",
    "    [0.12, 0.15, 0.12, 0.10, 0.12],\n",
    "    [0.17, 0.12, 0.19, 0.14, 0.15],\n",
    "    [0.13, 0.10, 0.14, 0.15, 0.14],\n",
    "    [0.16, 0.12, 0.15, 0.14, 0.21]\n",
    "])\n",
    "r_bar = np.array([0.69, 0.65, 0.44, 0.36, 0.41]).reshape(-1, 1)\n",
    "var_v = 0.04\n",
    "beta = np.array([1.16, 0.70, 1.15, 0.98, 1.01]).reshape(-1, 1)\n",
    "cov_v = beta * var_v\n",
    "\n",
    "# Constructing the matrices for the linear system\n",
    "A = np.block([\n",
    "    [2 * V, -np.ones((5, 1)), -2*r_bar],\n",
    "    [np.ones((1, 5)), 0, 0],\n",
    "    [r_bar.T, 0, 0]\n",
    "])\n",
    "b = np.vstack((2 * cov_v, 1, 0.2))\n",
    "\n",
    "# Solving the linear system\n",
    "OPW_13 = np.linalg.solve(A, b)\n",
    "OPW_13"
   ]
  },
  {
   "cell_type": "code",
   "execution_count": 2,
   "id": "3345ba82",
   "metadata": {},
   "outputs": [
    {
     "name": "stdout",
     "output_type": "stream",
     "text": [
      "The optimal weights for the portfolio are:\n",
      "[-0.21472997  0.35810435  0.06266244  0.7540105   0.03995268]\n"
     ]
    }
   ],
   "source": [
    "#Q6 not right\n",
    "import cvxpy as cp\n",
    "import numpy as np\n",
    "\n",
    "# Given data\n",
    "V = np.array([  # covariance matrix\n",
    "    [0.21, 0.12, 0.17, 0.13, 0.16],\n",
    "    [0.12, 0.15, 0.12, 0.10, 0.12],\n",
    "    [0.17, 0.12, 0.19, 0.14, 0.15],\n",
    "    [0.13, 0.10, 0.14, 0.15, 0.14],\n",
    "    [0.16, 0.12, 0.15, 0.14, 0.21]\n",
    "])\n",
    "r_bar = np.array([0.69, 0.65, 0.44, 0.36, 0.41])  # expected returns\n",
    "target_return = 0.20  # Target portfolio mean return\n",
    "variance_SnP500 = 0.04  # Variance of the S&P 500 index returns\n",
    "\n",
    "# The variable we are solving for (portfolio weights)\n",
    "weights = cp.Variable(5)\n",
    "\n",
    "# The objective is to minimize the portfolio variance\n",
    "risk = cp.quad_form(weights, V)\n",
    "return_portfolio = r_bar @ weights\n",
    "objective = cp.Minimize(risk)\n",
    "\n",
    "# Constraints\n",
    "constraints = [\n",
    "    return_portfolio == 2 * target_return,  # Double the target return\n",
    "    cp.sum(weights) == 1,  # Sum of weights equals 1\n",
    "    weights >= -1  # Allow short positions (negative weights)\n",
    "]\n",
    "\n",
    "# Solving the problem\n",
    "prob = cp.Problem(objective, constraints)\n",
    "prob.solve()\n",
    "\n",
    "# The optimal weights\n",
    "optimal_weights = weights.value\n",
    "\n",
    "# Output the optimal weights\n",
    "print(\"The optimal weights for the portfolio are:\")\n",
    "print(optimal_weights)\n"
   ]
  },
  {
   "cell_type": "code",
   "execution_count": 8,
   "id": "5e687ecd",
   "metadata": {},
   "outputs": [
    {
     "data": {
      "text/plain": [
       "168.47"
      ]
     },
     "execution_count": 8,
     "metadata": {},
     "output_type": "execute_result"
    }
   ],
   "source": [
    "#Q7\n",
    "import numpy as np\n",
    "from scipy.optimize import fsolve\n",
    "\n",
    "# Function to calculate the price of a bond given its yield to maturity (YTM)\n",
    "def bond_price(face_value, coupon_rate, n_periods, YTM):\n",
    "    coupon = face_value * coupon_rate / 2  # Semi-annual coupon payment\n",
    "    discount_factors = [(1 + YTM / 2)**-i for i in range(1, n_periods + 1)]\n",
    "    price = sum(coupon * df for df in discount_factors) + face_value * discount_factors[-1]\n",
    "    return price\n",
    "\n",
    "# Function to calculate the yield to maturity of a bond\n",
    "def bond_yield_to_maturity(price, face_value, coupon_rate, n_periods):\n",
    "    # Function to be solved for the yield (the difference between market price and calculated price)\n",
    "    func = lambda YTM: bond_price(face_value, coupon_rate, n_periods, YTM) - price\n",
    "    # Initial guess for the yield (close to the coupon rate)\n",
    "    YTM_initial_guess = coupon_rate\n",
    "    # Solve for the yield to maturity\n",
    "    YTM, = fsolve(func, YTM_initial_guess)\n",
    "    return YTM\n",
    "\n",
    "# Given values for the 5-year bond\n",
    "price_5_year = 108  # Given market price of the 5-year bond\n",
    "face_value = 100\n",
    "coupon_rate_5_year = 0.04\n",
    "n_periods_5_year = 5 * 2  # 5 years, semi-annual coupons\n",
    "\n",
    "# Calculate the YTM for the 5-year bond\n",
    "YTM_5_year = bond_yield_to_maturity(price_5_year, face_value, coupon_rate_5_year, n_periods_5_year)\n",
    "\n",
    "# Now, calculate the price of the 10-year bond using the YTM of the 5-year bond\n",
    "coupon_rate_10_year = 0.10\n",
    "n_periods_10_year = 10 * 2  # 10 years, semi-annual coupons\n",
    "\n",
    "# Calculate the price of the 10-year bond using the YTM of the 5-year bond\n",
    "price_10_year = bond_price(face_value, coupon_rate_10_year, n_periods_10_year, YTM_5_year)\n",
    "\n",
    "# Round the price to two decimal places\n",
    "price_10_year_rounded = round(price_10_year, 2)\n",
    "\n",
    "price_10_year_rounded"
   ]
  },
  {
   "cell_type": "code",
   "execution_count": 1,
   "id": "a2b62ea9",
   "metadata": {},
   "outputs": [
    {
     "name": "stdout",
     "output_type": "stream",
     "text": [
      "[  2.   2.   2.   2.   2.   2.   2.   2.   2. 102.]\n",
      "[-108.    2.    2.    2.    2.    2.    2.    2.    2.    2.  102.]\n",
      "The bond's yield to maturity is 2.30%\n"
     ]
    },
    {
     "data": {
      "text/plain": [
       "168.4718119347604"
      ]
     },
     "execution_count": 1,
     "metadata": {},
     "output_type": "execute_result"
    }
   ],
   "source": [
    "import numpy as np\n",
    "\n",
    "def IRRPoly(cash_flow, m):\n",
    "    coefficients = np.flip(cash_flow)\n",
    "    roots = np.roots(coefficients)\n",
    "    irr_poly = np.real(roots[(roots >= 0)  & (np.iscomplex(roots) == False)])[0]\n",
    "    irr = m*(1 - irr_poly) / irr_poly\n",
    "    return irr\n",
    "\n",
    "# Bond characteristics\n",
    "face_value = 100\n",
    "coupon_payment = 4  #yearly\n",
    "payments_per_year = 2\n",
    "years_to_maturity = 5\n",
    "current_price = 108\n",
    "\n",
    "# Cash flows for the bond\n",
    "\n",
    "cash_flows = (coupon_payment / payments_per_year)*np.ones(years_to_maturity * payments_per_year)\n",
    "cash_flows[-1] += face_value\n",
    "print(cash_flows)\n",
    "cash_flows = np.insert(cash_flows, 0, -current_price)\n",
    "print(cash_flows)\n",
    "\n",
    "# Find YTM using IRRPoly function\n",
    "ytm = IRRPoly( cash_flows, payments_per_year)\n",
    "\n",
    "# Convert to a percentage and display the result\n",
    "ytm_percentage = ytm * 100\n",
    "print(f\"The bond's yield to maturity is {ytm_percentage:.2f}%\")\n",
    "\n",
    "def bond_price(F, C, lamb, m, n):\n",
    "    '''\n",
    "    F is the face value of the bond\n",
    "    C is the yearly coupon payment\n",
    "    lamb is the yield of the bond \n",
    "    m is the number of coupon payments per year\n",
    "    n is the number of coupon payments remaning\n",
    "    '''\n",
    "    r = lamb / m  # Semi-annual yield\n",
    "    discount_factor = (1 + r) ** n\n",
    "    bond_price = (C / r) * (1 - 1 / discount_factor) + F / discount_factor\n",
    "    return bond_price\n",
    "\n",
    "face_value = 100\n",
    "coupon_rate = 0.1\n",
    "periods=10\n",
    "frequency = 2\n",
    "coupon_payment_per_period = face_value * coupon_rate / frequency\n",
    "bond_price(face_value, coupon_payment_per_period, ytm, frequency, periods * frequency)"
   ]
  },
  {
   "cell_type": "code",
   "execution_count": 4,
   "id": "c76d8d14",
   "metadata": {},
   "outputs": [
    {
     "name": "stdout",
     "output_type": "stream",
     "text": [
      "The optimal portfolio weight for the risky asset with the maximum Sharpe ratio is approximately: 1.9801980198019802\n"
     ]
    }
   ],
   "source": [
    "#Q8\n",
    "def sum_sharpe_ratios(num_assets):\n",
    "    return sum(range(1, num_assets + 1))\n",
    "\n",
    "def optimal_portfolio_weight(num_assets):\n",
    "    return 1 / sum_sharpe_ratios(num_assets)\n",
    "\n",
    "num_assets = 100\n",
    "\n",
    "optimal_weight = optimal_portfolio_weight(num_assets)\n",
    "optimal_weight_percentage = optimal_weight * 100\n",
    "optimal_max_sharpe = optimal_weight_percentage * 100\n",
    "\n",
    "print(\"The optimal portfolio weight for the risky asset with the maximum Sharpe ratio is approximately:\",optimal_max_sharpe) \n",
    "\n",
    "#答案除以100"
   ]
  },
  {
   "cell_type": "code",
   "execution_count": 9,
   "id": "1c72ab61",
   "metadata": {},
   "outputs": [
    {
     "data": {
      "text/plain": [
       "149588.78293578638"
      ]
     },
     "execution_count": 9,
     "metadata": {},
     "output_type": "execute_result"
    }
   ],
   "source": [
    "#Q9\n",
    "from scipy.optimize import minimize\n",
    "\n",
    "bonds = [\n",
    "    Bond(0, 5, 1, 100),\n",
    "    Bond(0, 10, 1, 100),\n",
    "    Bond(0, 15, 1, 100),\n",
    "    Bond(0, 20, 1, 100),\n",
    "    Bond(0, 25, 1, 100),\n",
    "    Bond(0, 30, 1, 100)\n",
    "]\n",
    "\n",
    "yield_curves = [1, 2.5, 2.5, 2.9, 3, 3.1]\n",
    "\n",
    "def bond_price(bond, yield_to_maturity: float, remaining_periods = None):\n",
    "    #\"\"\"Calculate the price of the bond based on its yield to maturity. The price and yield operations should be inverses to each other, given the same number of remaining periods until maturity.\n",
    "    #Please enter your yield to maturity in percentages\"\"\"\n",
    "    if remaining_periods is None:\n",
    "        remaining_periods = bond.coupon_freq * bond.maturity_years\n",
    "    \n",
    "    m = bond.coupon_freq\n",
    "    F = bond.face_value\n",
    "    C = bond.percentage * bond.face_value\n",
    "    y = yield_to_maturity / 100\n",
    "    n = remaining_periods\n",
    "\n",
    "    fac = 1 / (1 + y / m) ** n\n",
    "    return F * fac + C / y * (1 - fac)\n",
    "\n",
    "def treasury_yield_my_ass(bonds, yield_curves):\n",
    "    prices = [bond_price(bond, rate) for bond, rate in zip(bonds, yield_curves)]\n",
    "\n",
    "    # Lets say we have these weights\n",
    "    s = [1, 0, 0, 0, 0, 0]\n",
    "\n",
    "    def optimize_this(s):\n",
    "        cost = sum(a * b for a, b in zip(s, prices))\n",
    "\n",
    "        # In five years let's say we sell eveything\n",
    "        y5 = 100 * s[0]\n",
    "        for i in range(5):\n",
    "            y5 += s[i+1] * prices[i]\n",
    "        # We want biggest profit/cost ratio, hence smallest cost/profit\n",
    "        return cost/y5\n",
    "\n",
    "    ms = minimize(optimize_this, [1, 0, 0, 0, 0, 0], bounds = [(0, 1), (0, 1), (0, 1), (0, 1), (0, 1), (0, 1)])\n",
    "\n",
    "    weights = ms.x\n",
    "    return 1/optimize_this(weights)\n",
    "\n",
    "five_year_max_return_ratio = treasury_yield_my_ass(bonds, yield_curves)\n",
    "\n",
    "# Do the five year thing twice\n",
    "1e5 * five_year_max_return_ratio * five_year_max_return_ratio"
   ]
  },
  {
   "cell_type": "code",
   "execution_count": 3,
   "id": "219164b8",
   "metadata": {},
   "outputs": [
    {
     "name": "stdout",
     "output_type": "stream",
     "text": [
      "The optimal weights for the portfolio are:\n",
      "[ 2.39308176  1.81446541 -1.7327044  -0.46855346 -1.00628931]\n",
      "The optimal weight for AMZN Platforms, Inc. (AMZN) is: 1.81\n"
     ]
    }
   ],
   "source": [
    "#Q10 不理解，题目一样结果不一样\n",
    "import cvxpy as cp\n",
    "\n",
    "# Given data\n",
    "V = np.array([ # covariance matrix\n",
    "    [0.21, 0.12, 0.17, 0.13, 0.16],\n",
    "    [0.12, 0.15, 0.12, 0.10, 0.12],\n",
    "    [0.17, 0.12, 0.19, 0.14, 0.15],\n",
    "    [0.13, 0.10, 0.14, 0.15, 0.14],\n",
    "    [0.16, 0.12, 0.15, 0.14, 0.21]\n",
    "])\n",
    "r_bar = np.array([0.69, 0.65, 0.44, 0.36, 0.41]) # expected returns\n",
    "\n",
    "# The variable we are solving for\n",
    "weights = cp.Variable(5)\n",
    "\n",
    "# The objective is to minimize the portfolio variance\n",
    "# and maximize the expected return\n",
    "risk = cp.quad_form(weights, V)\n",
    "return_portfolio = r_bar @ weights\n",
    "objective = cp.Minimize(risk - return_portfolio)\n",
    "\n",
    "# The sum of the weights must be 1\n",
    "constraints = [cp.sum(weights) == 1]\n",
    "\n",
    "# Solving the problem\n",
    "prob = cp.Problem(objective, constraints)\n",
    "prob.solve()\n",
    "\n",
    "# The optimal weights\n",
    "optimal_weights = weights.value\n",
    "\n",
    "# Output the optimal weights\n",
    "print(\"The optimal weights for the portfolio are:\")\n",
    "print(optimal_weights)\n",
    "\n",
    "# Specifically, to output the weight for Meta Platforms, Inc. (formerly Facebook, ticker META):\n",
    "AMZN_weight = optimal_weights[1]  # Assuming the 5th stock in the list is Meta/Facebook\n",
    "print(f\"The optimal weight for AMZN Platforms, Inc. (AMZN) is: {AMZN_weight:.2f}\")\n"
   ]
  },
  {
   "cell_type": "code",
   "execution_count": null,
   "id": "44cb68c6",
   "metadata": {},
   "outputs": [],
   "source": [
    "#6，10(感觉是对的)"
   ]
  }
 ],
 "metadata": {
  "kernelspec": {
   "display_name": "Python 3 (ipykernel)",
   "language": "python",
   "name": "python3"
  },
  "language_info": {
   "codemirror_mode": {
    "name": "ipython",
    "version": 3
   },
   "file_extension": ".py",
   "mimetype": "text/x-python",
   "name": "python",
   "nbconvert_exporter": "python",
   "pygments_lexer": "ipython3",
   "version": "3.9.13"
  }
 },
 "nbformat": 4,
 "nbformat_minor": 5
}
