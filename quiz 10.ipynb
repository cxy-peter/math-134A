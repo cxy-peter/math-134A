{
 "cells": [
  {
   "cell_type": "code",
   "execution_count": 1,
   "id": "44de62c7",
   "metadata": {},
   "outputs": [
    {
     "data": {
      "text/plain": [
       "(array([ 0.25521027,  2.73456352, -1.10150642, -0.88826736]),\n",
       " 109.88341229942165)"
      ]
     },
     "execution_count": 1,
     "metadata": {},
     "output_type": "execute_result"
    }
   ],
   "source": [
    "import numpy as np\n",
    "import pandas as pd\n",
    "from scipy.optimize import minimize\n",
    "\n",
    "# Assuming 'returns' is a pandas DataFrame containing the annual rates of return for the assets\n",
    "# Let's recreate the DataFrame from the data you've provided\n",
    "data = {\n",
    "    'YEAR': list(range(2010, 2020)),\n",
    "    'BRK/A': [21.4, -4.7, 16.8, 32.7, 27, -12.5, 23.4, 21.9, 2.8, 11],\n",
    "    'SPX': [15.1, 2.1, 16, 32.4, 13.7, 1.4, 12, 21.8, -4.4, 31.5],\n",
    "    'NDX': [19.22, 2.7, 16.82, 34.99, 17.94, 8.43, 5.89, 31.52, -1.04, 37.96],\n",
    "    'RUT': [26.85, -4.18, 16.35, 38.82, 4.89, -4.41, 21.31, 14.65, -11.01, 25.52]\n",
    "}\n",
    "returns = pd.DataFrame(data)\n",
    "returns.set_index('YEAR', inplace=True)\n",
    "\n",
    "# Calculate the covariance matrix from the returns\n",
    "cov_matrix = returns.cov()\n",
    "\n",
    "# Set the initial guess for the weights\n",
    "num_assets = len(returns.columns)\n",
    "initial_guess = np.array(num_assets * [1. / num_assets])\n",
    "\n",
    "# Define the constraints and bounds\n",
    "constraints = ({'type': 'eq', 'fun': lambda x: np.sum(x) - 1})\n",
    "bounds = tuple((None, None) for _ in range(num_assets))\n",
    "\n",
    "# Define the portfolio variance function\n",
    "def portfolio_variance(weights, cov_matrix):\n",
    "    return weights.T @ cov_matrix @ weights\n",
    "\n",
    "# Minimize the portfolio variance\n",
    "result = minimize(portfolio_variance, initial_guess, args=(cov_matrix), method='SLSQP', bounds=bounds, constraints=constraints)\n",
    "\n",
    "# Extract the optimized weights and the minimum variance\n",
    "optimized_weights = result.x\n",
    "min_variance = result.fun\n",
    "\n",
    "# The optimized weights are the solution to your problem\n",
    "optimized_weights, min_variance\n"
   ]
  },
  {
   "cell_type": "code",
   "execution_count": 4,
   "id": "62d7d6f1",
   "metadata": {},
   "outputs": [
    {
     "data": {
      "text/plain": [
       "(array([ 0.63764966, -0.90053972,  1.725156  , -0.46226594]),\n",
       " 0.20301072893164834,\n",
       " 0.02087017102064359)"
      ]
     },
     "execution_count": 4,
     "metadata": {},
     "output_type": "execute_result"
    }
   ],
   "source": [
    "import numpy as np\n",
    "import pandas as pd\n",
    "\n",
    "# The returns data for each asset\n",
    "data = {\n",
    "    'BRK/A': [21.4, -4.7, 16.8, 32.7, 27, -12.5, 23.4, 21.9, 2.8, 11],\n",
    "    'SPX': [15.1, 2.1, 16, 32.4, 13.7, 1.4, 12, 21.8, -4.4, 31.5],\n",
    "    'NDX': [19.22, 2.7, 16.82, 34.99, 17.94, 8.43, 5.89, 31.52, -1.04, 37.96],\n",
    "    'RUT': [26.85, -4.18, 16.35, 38.82, 4.89, -4.41, 21.31, 14.65, -11.01, 25.52]\n",
    "}\n",
    "\n",
    "# Convert the data into a DataFrame\n",
    "df_returns = pd.DataFrame(data)\n",
    "\n",
    "# Calculate the mean returns and the covariance matrix from the returns data\n",
    "mean_returns = df_returns.mean() / 100  # Convert to decimal\n",
    "cov_matrix = df_returns.cov() / 10000  # Convert to decimal and match scale to mean returns\n",
    "\n",
    "# Risk-free rate\n",
    "risk_free_rate = 0.02\n",
    "\n",
    "# Calculate excess returns over the risk-free rate\n",
    "excess_returns = mean_returns - risk_free_rate\n",
    "\n",
    "# Solve for weights of the tangent portfolio\n",
    "V_inv = np.linalg.inv(cov_matrix.values)\n",
    "v_1 = V_inv @ excess_returns.values\n",
    "w_1 = v_1 / np.sum(v_1)\n",
    "\n",
    "# Mean return and variance of the tangent portfolio\n",
    "MR1 = mean_returns.values.T @ w_1\n",
    "Var1 = w_1.T @ cov_matrix.values @ w_1\n",
    "\n",
    "# Display the weights of the tangent portfolio, the mean return, and the variance\n",
    "w_1, MR1, Var1\n"
   ]
  },
  {
   "cell_type": "code",
   "execution_count": null,
   "id": "ad0d15c3",
   "metadata": {},
   "outputs": [],
   "source": []
  }
 ],
 "metadata": {
  "kernelspec": {
   "display_name": "Python 3 (ipykernel)",
   "language": "python",
   "name": "python3"
  },
  "language_info": {
   "codemirror_mode": {
    "name": "ipython",
    "version": 3
   },
   "file_extension": ".py",
   "mimetype": "text/x-python",
   "name": "python",
   "nbconvert_exporter": "python",
   "pygments_lexer": "ipython3",
   "version": "3.9.13"
  }
 },
 "nbformat": 4,
 "nbformat_minor": 5
}
