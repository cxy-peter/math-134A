{
 "cells": [
  {
   "cell_type": "code",
   "execution_count": 1,
   "id": "fa725f42",
   "metadata": {},
   "outputs": [
    {
     "name": "stdout",
     "output_type": "stream",
     "text": [
      "0.13\n"
     ]
    }
   ],
   "source": [
    "#Q1\n",
    "# Given data for stocks A and B\n",
    "shares_outstanding_A = 100\n",
    "price_per_share_A = 1.50\n",
    "expected_return_A = 0.15  # 15% expressed as a decimal\n",
    "\n",
    "shares_outstanding_B = 150\n",
    "price_per_share_B = 2.00\n",
    "expected_return_B = 0.12  # 12% expressed as a decimal\n",
    "\n",
    "# Calculate market values of stocks A and B\n",
    "market_value_A = shares_outstanding_A * price_per_share_A\n",
    "market_value_B = shares_outstanding_B * price_per_share_B\n",
    "\n",
    "# Calculate weights of stocks A and B in the market portfolio\n",
    "total_market_value = market_value_A + market_value_B\n",
    "weight_A = market_value_A / total_market_value\n",
    "weight_B = market_value_B / total_market_value\n",
    "\n",
    "# Calculate the expected return of the market portfolio\n",
    "expected_return_market = (weight_A * expected_return_A) + (weight_B * expected_return_B)\n",
    "\n",
    "# Round to two decimal places\n",
    "expected_return_market_rounded = round(expected_return_market, 2)\n",
    "print(expected_return_market_rounded)\n"
   ]
  },
  {
   "cell_type": "code",
   "execution_count": 2,
   "id": "3a89b7d3",
   "metadata": {},
   "outputs": [
    {
     "name": "stdout",
     "output_type": "stream",
     "text": [
      "0.09\n"
     ]
    }
   ],
   "source": [
    "#Q2\n",
    "# Given standard deviations for stocks A and B\n",
    "standard_deviation_A = 0.15  # 15% expressed as a decimal\n",
    "standard_deviation_B = 0.09  # 9% expressed as a decimal\n",
    "\n",
    "# Given correlation coefficient between the returns of stocks A and B\n",
    "correlation_coefficient_AB = 1/3\n",
    "\n",
    "# Weights of the stocks in the market portfolio (previously calculated)\n",
    "# weight_A and weight_B are derived from the previous code\n",
    "\n",
    "# Calculate the standard deviation of the market portfolio\n",
    "standard_deviation_market = ((weight_A * standard_deviation_A) ** 2 + \n",
    "                             (weight_B * standard_deviation_B) ** 2 + \n",
    "                             2 * weight_A * weight_B * standard_deviation_A * standard_deviation_B * correlation_coefficient_AB) ** 0.5\n",
    "\n",
    "# Round to two decimal places\n",
    "standard_deviation_market_rounded = round(standard_deviation_market, 2)\n",
    "print(standard_deviation_market_rounded)\n",
    "\n"
   ]
  },
  {
   "cell_type": "code",
   "execution_count": null,
   "id": "08557cf7",
   "metadata": {},
   "outputs": [],
   "source": [
    "#Q3 书P233\n",
    "# Given standard deviations and correlation coefficient for stocks A and B\n",
    "std_dev_A = 0.15  # 15% as a decimal\n",
    "std_dev_B = 0.09  # 9% as a decimal\n",
    "correlation_AB = 1/3\n",
    "\n",
    "# The weights are derived from the number of shares outstanding and the price per share.\n",
    "# For this case, based on the provided formula, it seems like the weights are 1/3 for stock A and 2/3 for stock B.\n",
    "weight_A = 1/3\n",
    "weight_B = 2/3\n",
    "\n",
    "# Calculate market variance using the weights and standard deviations\n",
    "market_variance = (weight_A * std_dev_A) ** 2 + (weight_B * std_dev_B) ** 2 + \\\n",
    "                  2 * weight_A * weight_B * correlation_AB * std_dev_A * std_dev_B\n",
    "\n",
    "# Calculate the covariance of stock A with the market (σAM) using the provided formula\n",
    "covariance_A_market = (1/3) * (std_dev_A ** 2) + (2/3) * correlation_AB * std_dev_A * std_dev_B\n",
    "\n",
    "# Calculate beta of stock A (βA) using the covariance and market variance\n",
    "beta_A = covariance_A_market / market_variance\n",
    "\n",
    "# Round beta to 4 decimal places as per the formula provided\n",
    "beta_A_rounded = round(beta_A, 4)\n",
    "\n",
    "beta_A_rounded\n"
   ]
  },
  {
   "cell_type": "code",
   "execution_count": 1,
   "id": "c2e79001",
   "metadata": {},
   "outputs": [
    {
     "data": {
      "text/plain": [
       "0.0625"
      ]
     },
     "execution_count": 1,
     "metadata": {},
     "output_type": "execute_result"
    }
   ],
   "source": [
    "#Q4\n",
    "# Provided data from the problem statement\n",
    "expected_return_A = 0.15  # Expected return of stock A\n",
    "beta_A = 1.2963  # Beta of stock A, previously calculated\n",
    "expected_market_return = 0.13  # Expected return of the market portfolio, previously calculated\n",
    "\n",
    "# Calculate the risk-free rate using the CAPM formula\n",
    "risk_free_rate = (expected_return_A - beta_A * expected_market_return) / (1 - beta_A)\n",
    "\n",
    "# Round the risk-free rate to four decimal places\n",
    "risk_free_rate_rounded = round(risk_free_rate, 4)\n",
    "\n",
    "risk_free_rate_rounded\n"
   ]
  },
  {
   "cell_type": "code",
   "execution_count": 2,
   "id": "e4c1914e",
   "metadata": {},
   "outputs": [
    {
     "data": {
      "text/plain": [
       "(0, 1)"
      ]
     },
     "execution_count": 2,
     "metadata": {},
     "output_type": "execute_result"
    }
   ],
   "source": [
    "#Q5\n",
    "#derives the weights by maximizing the Sharpe ratio, which inherently leads to \n",
    "#the market portfolio under equilibrium.\n",
    "#In the CAPM framework, the market portfolio is the one that offers the highest \n",
    "#Sharpe ratio, which is the slope of the Capital Market Line (CML). By maximizing\n",
    "#the Sharpe ratio, we are effectively finding the weights of the risky assets in \n",
    "#the market portfolio that all investors would choose to hold in equilibrium, \n",
    "#assuming they can lend and borrow at the risk-free rate.\n",
    "import sympy as sp\n",
    "\n",
    "# Define the symbols\n",
    "w1 = sp.symbols('w1')\n",
    "\n",
    "# Given values\n",
    "r1 = 0.10  # Expected return on asset 1\n",
    "r2 = 0.20  # Expected return on asset 2\n",
    "sigma1_squared = 0.04  # Variance of asset 1\n",
    "sigma2_squared = 0.09  # Variance of asset 2\n",
    "sigma1_2 = 0.03  # Covariance between asset 1 and asset 2\n",
    "rf = 0.05  # Risk-free rate\n",
    "\n",
    "# The expected return on the portfolio is the weighted average of the expected returns on the assets\n",
    "rp = w1 * r1 + (1 - w1) * r2\n",
    "\n",
    "# The variance on the portfolio is given by the formula:\n",
    "varp = w1**2 * sigma1_squared + (1 - w1)**2 * sigma2_squared + 2 * w1 * (1 - w1) * sigma1_2\n",
    "\n",
    "# Sharpe ratio for the portfolio\n",
    "sharpe_ratio = (rp - rf) / sp.sqrt(varp)\n",
    "\n",
    "# To maximize the Sharpe ratio, we take the derivative with respect to w1 and set it to zero\n",
    "d_sharpe_ratio_dw1 = sp.diff(sharpe_ratio, w1)\n",
    "solution = sp.solve(d_sharpe_ratio_dw1, w1)\n",
    "\n",
    "# Since there could be multiple solutions, we select the solution that is between 0 and 1 because weights cannot be negative and cannot be more than 1\n",
    "valid_solutions = [sol.evalf() for sol in solution if 0 <= sol <= 1]\n",
    "w1_solution = valid_solutions[0] if valid_solutions else None\n",
    "\n",
    "# Once we have w1, we can easily find w2\n",
    "w2_solution = 1 - w1_solution if w1_solution is not None else None\n",
    "\n",
    "w1_solution, w2_solution\n"
   ]
  },
  {
   "cell_type": "code",
   "execution_count": null,
   "id": "1e799fa9",
   "metadata": {},
   "outputs": [],
   "source": []
  }
 ],
 "metadata": {
  "kernelspec": {
   "display_name": "Python 3 (ipykernel)",
   "language": "python",
   "name": "python3"
  },
  "language_info": {
   "codemirror_mode": {
    "name": "ipython",
    "version": 3
   },
   "file_extension": ".py",
   "mimetype": "text/x-python",
   "name": "python",
   "nbconvert_exporter": "python",
   "pygments_lexer": "ipython3",
   "version": "3.9.13"
  }
 },
 "nbformat": 4,
 "nbformat_minor": 5
}
