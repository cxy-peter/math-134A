{
 "cells": [
  {
   "cell_type": "code",
   "execution_count": 1,
   "id": "64491ea1",
   "metadata": {},
   "outputs": [
    {
     "name": "stdout",
     "output_type": "stream",
     "text": [
      "The (after-tax) present value of the new vaccine project is: $3279795\n"
     ]
    }
   ],
   "source": [
    "#Q1\n",
    "# Function to calculate the after-tax present value of the vaccine project\n",
    "def calculate_npv(initial_investment, sales_per_unit, units_sold_annually, wage_rate_per_hour, \n",
    "                  hours_of_labor_annually, cost_per_ton_raw_material, tons_of_raw_material_annually, \n",
    "                  inflation_rate, corporate_tax_rate, depreciation, interest_rate, years):\n",
    "    # Initialize list to hold the cash flows\n",
    "    cash_flows = []\n",
    "\n",
    "    # Calculate the cash flows for each year\n",
    "    for year in range(1, years + 1):\n",
    "        # Adjust for inflation\n",
    "        sales = sales_per_unit * (1 + inflation_rate) ** (year - 1) * units_sold_annually\n",
    "        labor_cost = wage_rate_per_hour * (1 + inflation_rate) ** (year - 1) * hours_of_labor_annually\n",
    "        material_cost = cost_per_ton_raw_material * (1 + inflation_rate) ** (year - 1) * tons_of_raw_material_annually\n",
    "        operating_income = sales - (labor_cost + material_cost)\n",
    "        profit_before_tax = operating_income - depreciation\n",
    "        tax = profit_before_tax * corporate_tax_rate\n",
    "        profit_after_tax = profit_before_tax - tax\n",
    "        cash_flow = profit_after_tax + depreciation # Add back depreciation as it's a non-cash charge\n",
    "        cash_flows.append(cash_flow)\n",
    "    \n",
    "    # Calculate the present value of the cash flows\n",
    "    npv = -initial_investment\n",
    "    for i, cash_flow in enumerate(cash_flows, start=1):\n",
    "        npv += cash_flow / (1 + interest_rate) ** i\n",
    "    \n",
    "    # Return the NPV rounded to the nearest dollar\n",
    "    return round(npv)\n",
    "\n",
    "# Define the parameters based on the provided scenario\n",
    "initial_investment = 10000000\n",
    "sales_per_unit = 3.30\n",
    "units_sold_annually = 1000000\n",
    "wage_rate_per_hour = 30\n",
    "hours_of_labor_annually = 10000\n",
    "cost_per_ton_raw_material = 100\n",
    "tons_of_raw_material_annually = 100\n",
    "inflation_rate = 0.10  # 10% inflation rate\n",
    "corporate_tax_rate = 0.34\n",
    "depreciation = initial_investment / 5\n",
    "interest_rate = 0.05\n",
    "years = 5\n",
    "\n",
    "# Calculate the NPV\n",
    "npv = calculate_npv(initial_investment, sales_per_unit, units_sold_annually, wage_rate_per_hour, \n",
    "                    hours_of_labor_annually, cost_per_ton_raw_material, tons_of_raw_material_annually, \n",
    "                    inflation_rate, corporate_tax_rate, depreciation, interest_rate, years)\n",
    "\n",
    "print(f\"The (after-tax) present value of the new vaccine project is: ${npv}\")\n"
   ]
  },
  {
   "cell_type": "code",
   "execution_count": 6,
   "id": "2f5002d6",
   "metadata": {},
   "outputs": [
    {
     "name": "stdout",
     "output_type": "stream",
     "text": [
      "Result: 3279795\n"
     ]
    }
   ],
   "source": [
    "import numpy as np\n",
    "\n",
    "# Costs\n",
    "c = 30 * 10000 * (1 + 0.1) ** np.arange(5) + 100 * 100 * (1 + 0.1) ** np.arange(5)\n",
    "\n",
    "# Revenue\n",
    "r = 3.3 * 1000000 * (1 + 0.1) ** np.arange(5)\n",
    "\n",
    "# Profit\n",
    "p = r - c\n",
    "\n",
    "# Tax calculation\n",
    "tax = (p - 10e6 / 5 * np.ones(5)) * 0.34\n",
    "\n",
    "# Profit after tax\n",
    "p1 = p - tax\n",
    "\n",
    "# Discounting future cash flows to present value\n",
    "discounted_cash_flows = np.array([-10e6] + list(p1)) / (1.05) ** np.arange(6)\n",
    "#revise 1.03->1.05\n",
    "\n",
    "# Rounding the sum of discounted cash flows\n",
    "result = round(np.sum(discounted_cash_flows))\n",
    "print(\"Result:\", result)\n"
   ]
  },
  {
   "cell_type": "code",
   "execution_count": 1,
   "id": "fdb5d86e",
   "metadata": {},
   "outputs": [
    {
     "data": {
      "text/plain": [
       "60"
      ]
     },
     "execution_count": 1,
     "metadata": {},
     "output_type": "execute_result"
    }
   ],
   "source": [
    "#Q2\n",
    "2*80-100"
   ]
  },
  {
   "cell_type": "code",
   "execution_count": 7,
   "id": "ac2e2226",
   "metadata": {},
   "outputs": [
    {
     "name": "stdout",
     "output_type": "stream",
     "text": [
      "X: [ 2. -1.]\n",
      "P: 60.0\n",
      "S: 0.05240977914892553\n"
     ]
    }
   ],
   "source": [
    "#Q2\n",
    "import numpy as np\n",
    "\n",
    "# Given values\n",
    "P1 = 80\n",
    "P2 = 100\n",
    "C1 = 0.03\n",
    "C2 = 0.06\n",
    "F = 100\n",
    "T = 10\n",
    "\n",
    "# Solving the system of linear equations\n",
    "X = np.linalg.solve([[F, F], [C1, C2]], [F, 0])\n",
    "\n",
    "# Calculating the price P\n",
    "P = np.dot(X, [P1, P2])\n",
    "\n",
    "# Calculating the yield to maturity S\n",
    "S = (F / P) ** (1 / T) - 1\n",
    "\n",
    "print(\"X:\", X)\n",
    "print(\"P:\", P)\n",
    "print(\"S:\", S)"
   ]
  },
  {
   "cell_type": "code",
   "execution_count": 4,
   "id": "5b9089f9",
   "metadata": {},
   "outputs": [
    {
     "data": {
      "text/plain": [
       "87.5845978486002"
      ]
     },
     "execution_count": 4,
     "metadata": {},
     "output_type": "execute_result"
    }
   ],
   "source": [
    "#Q3\n",
    "import math\n",
    "#P = mortegage value n1 = original terms, n2= rest terms, r1 = ir1, r2 =ir2\n",
    "def ext_term(P, n1, m, r1, r2, n2): \n",
    "    A1 = r1/m*P*(1-1/(1+r1/m)**(n1*m))**(-1)\n",
    "    P1 = A1/(r1/m)*(1-1/(1+r1/m)**((n1-n2)*m))\n",
    "    a = P1 * r2/m / A1\n",
    "    b = 1 - a\n",
    "    t = -math.log(b, (1+r2/m))\n",
    "    return t - (n1-n2)*m\n",
    "\n",
    "ext_term(P=1000000, n1=30, m=12, r1=0.05, r2=0.06, n2=5)"
   ]
  },
  {
   "cell_type": "code",
   "execution_count": 3,
   "id": "bf159961",
   "metadata": {},
   "outputs": [
    {
     "data": {
      "text/plain": [
       "(-2216.560382053845, 5003.967355938829)"
      ]
     },
     "execution_count": 3,
     "metadata": {},
     "output_type": "execute_result"
    }
   ],
   "source": [
    "#Q4\n",
    "def cash_flow_present_value(cash_flow, effective_rate):\n",
    "    #\"\"\"Enter effective rate in percentage\"\"\"\n",
    "    if isinstance(effective_rate, list) or isinstance(effective_rate, tuple):\n",
    "        spr = [1] + [1 + r/100 for r in effective_rate]\n",
    "        p = 0.\n",
    "        for i, ai in enumerate(cash_flow):\n",
    "            p += ai / (spr[i]) ** i\n",
    "        return p\n",
    "    r = 1 + effective_rate / 100\n",
    "    res = 0\n",
    "    for i, ai in enumerate(cash_flow):\n",
    "        res += ai / r ** i\n",
    "    return res\n",
    "\n",
    "class Bond:\n",
    "    #\"\"\"Implementation of a bond. A face value $30000, 9% bond that matures in 30 periods (years) that pays its coupons twice a period (year) should be entered as Bond(9, 30, 2, 300)\"\"\"\n",
    "    def __init__(self, coupon_percentage, maturity_years, coupon_freq, face_value):\n",
    "        self.percentage = coupon_percentage / 100\n",
    "        self.maturity_years = maturity_years\n",
    "        self.coupon_freq = coupon_freq\n",
    "        self.face_value = face_value\n",
    "        flow = [0] + [coupon_percentage / coupon_freq] * maturity_years * coupon_freq\n",
    "        flow[-1] += face_value\n",
    "        self.flow = tuple(flow)\n",
    "    \n",
    "    @property\n",
    "    def coupon_payment(self):\n",
    "        return self.percentage * self.face_value / self.coupon_freq\n",
    "\n",
    "def QM_duration(cash_flow_or_bond, rates, compound_freq):\n",
    "    #\"\"\"Enter a list of spot rates (in percentage) to calculate the quasi-modified duration.\n",
    "    #Keep in mind if the price at rates = sk + y is P(y), then P'(0) = -Dq * P(0)\n",
    "\n",
    "    #This trims the first term to keep consistent with the bond calculations. i.e. following the book. calculating the\n",
    "    #quasimodified duration for (x0, x1, ..., xn) where x0 is the flow on year 0\n",
    "    \n",
    "    #You can actually feed a bond into this function and we will handle it for you\"\"\"\n",
    "    \n",
    "    if isinstance(cash_flow_or_bond, Bond):\n",
    "        cash_flow = cash_flow_or_bond.flow\n",
    "    else:\n",
    "        cash_flow = cash_flow_or_bond\n",
    "    \n",
    "    assert len(cash_flow) <= len(rates) + 1, f\"Wrong number of periods: we have {len(rates)} years of spot rates but {len(cash_flow)} years bond\"\n",
    "\n",
    "    # First calculate the pv of cash flow\n",
    "    spr = [1] + [1 + r/100 for r in rates]\n",
    "    res = 0\n",
    "    for i, ai in enumerate(cash_flow):\n",
    "        res += ai / (spr[i]) ** i\n",
    "    PV = res\n",
    "\n",
    "    x = cash_flow[1:]\n",
    "    s = [1 + r/100 for r in rates]\n",
    "    m = compound_freq\n",
    "    n = len(cash_flow) - 1\n",
    "    res = 0.\n",
    "    for _k in range(n):\n",
    "        k = _k + 1\n",
    "        rs = (k/m) * x[_k] * (s[_k]) ** (-k-1)\n",
    "        res += rs\n",
    "    return res/PV\n",
    "\n",
    "def immunize_parallel(bond1: Bond, bond2: Bond, obligation_cash_flow, rates, verbose: bool = False):\n",
    "    # Calculate the PVob, Dob of obligation\n",
    "    # Calculate the PV1, D1 of bond1\n",
    "    # Calculate the PV2, D2 of bond2\n",
    "\n",
    "    obligation = obligation_cash_flow\n",
    "\n",
    "    # First do error checking\n",
    "    num_years_total = max(bond1.maturity_years, bond2.maturity_years, len(obligation) - 1)\n",
    "    enough_rates = len(rates) >= num_years_total\n",
    "    if not enough_rates:\n",
    "        raise ValueError(f\"Expected at least {num_years_total} years of rates, found {len(rates)}\")\n",
    "\n",
    "    PVob = cash_flow_present_value(obligation, rates)\n",
    "    PV1 = cash_flow_present_value(bond1.flow, rates)\n",
    "    PV2 = cash_flow_present_value(bond2.flow, rates)\n",
    "    \n",
    "    Dob = QM_duration(obligation, rates, 1)\n",
    "    D1 = QM_duration(bond1, rates, 1)\n",
    "    D2 = QM_duration(bond2, rates, 1)\n",
    "\n",
    "    if verbose:\n",
    "        print(f\"Duration of bond 1: {D1}\")\n",
    "        print(f\"Duration of bond 2: {D2}\")\n",
    "        print(f\"Duration of obligation: {Dob}\")\n",
    "        print(f\"Present value of bond 1: {PV1}\")\n",
    "        print(f\"Present value of bond 2: {PV2}\")\n",
    "        print(f\"Present value of obligation: {PVob}\")\n",
    "\n",
    "    # Solve for\n",
    "    # PV1   PV2     x1 = PVob\n",
    "    # PV1D1 PV2D2   x2 = PVob Dob\n",
    "\n",
    "    # Hence\n",
    "    # x1 =  |PV1   PV2  |-1  |PVob    |\n",
    "    # x2 =  |PV1D1 PV2D2|    |PVob Dob|\n",
    "    det = PV1 * PV2 * D2 - PV2 * PV1 * D1\n",
    "    if abs(det) < 1e-5:\n",
    "        raise ValueError(\"This portfolio cannot be immunized - the equations have no solutions\")\n",
    "\n",
    "    x1 = 1/det * (PV2 * PVob * D2 - PVob * Dob * PV2)\n",
    "    x2 = 1/det * (PV1 * PVob * Dob - PVob * D1 * PV1)\n",
    "\n",
    "    if verbose:\n",
    "        print(f\"Buy {x1} units of bond 1 and {x2} units of bond 2\")\n",
    "\n",
    "    return x1, x2\n",
    "\n",
    "\n",
    "## The inputs: in percentage\n",
    "spot_rates = [5.25, 5.50, 5.75, 6.00, 6.25]\n",
    "bond1 = Bond(6, 5, 1, 100)\n",
    "bond2 = Bond(10, 4, 1, 100)\n",
    "obligation = (0, 50000, 51000 + 51000, 52000 + 52000, 53000 + 53000, 54000)\n",
    "immunize_parallel(bond1, bond2, obligation, spot_rates)\n"
   ]
  },
  {
   "cell_type": "code",
   "execution_count": 9,
   "id": "33553bec",
   "metadata": {},
   "outputs": [
    {
     "name": "stdout",
     "output_type": "stream",
     "text": [
      "x: [-2216.56   5003.967]\n"
     ]
    }
   ],
   "source": [
    "import numpy as np\n",
    "\n",
    "# Defining the spot rates\n",
    "s = np.array([525, 550, 575, 600, 625]) / 1e4\n",
    "\n",
    "# Calculations for the first set of cash flows\n",
    "pv1 = np.array([6] * 4 + [106]) / (1 + s) ** np.arange(1, 6)\n",
    "P1 = np.sum(pv1)\n",
    "dP1dlambda = np.array([6] * 4 + [106]) * np.arange(1, 6) * (1 + s) ** -np.arange(2, 7)\n",
    "D1 = np.sum(dP1dlambda) / P1\n",
    "\n",
    "# Calculations for the second set of cash flows\n",
    "pv2 = np.array([10] * 3 + [110]) / (1 + s[:4]) ** np.arange(1, 5)\n",
    "P2 = np.sum(pv2)\n",
    "dP2dlambda = np.array([10] * 3 + [110]) * np.arange(1, 5) * (1 + s[:4]) ** -np.arange(2, 6)\n",
    "D2 = np.sum(dP2dlambda) / P2\n",
    "\n",
    "# Calculations for the observed cash flows\n",
    "ob = np.array([50000, 102000, 104000, 106000, 54000])\n",
    "P_ob = np.sum(ob / (1 + s) ** np.arange(1, 6))\n",
    "D_ob = np.sum(ob * np.arange(1, 6) * (1 + s) ** -np.arange(2, 7)) / P_ob\n",
    "\n",
    "# Solving the linear equations\n",
    "x = np.round(np.linalg.solve([[P1, P2], [P1 * D1, P2 * D2]], [P_ob, P_ob * D_ob]), 3)\n",
    "\n",
    "print(\"x:\", x)\n"
   ]
  },
  {
   "cell_type": "code",
   "execution_count": 5,
   "id": "6b7318b9",
   "metadata": {},
   "outputs": [],
   "source": [
    "import numpy as np\n",
    "from numpy import ndarray\n",
    "class OptimizeStockPortfolio:\n",
    "    def __init__(self, expected_returns: list[float], covariances: np.ndarray[np.float64]):\n",
    "        #\"\"\"Solves the Markovitz problem. Refer to the example below\"\"\"\n",
    "        r, w = covariances.shape\n",
    "        self.n = len(expected_returns)\n",
    "\n",
    "        if r != w or r != self.n:\n",
    "            raise ValueError(f\"Expected number of stocks equal number of correlations... got number of stocks: {self.n}, correlation array: {r}x{w}\")\n",
    "\n",
    "        if not np.all(covariances - covariances.T < 1e-6): #type: ignore\n",
    "            raise ValueError(f\"Expected the covariance to be a symmetric matrix\")\n",
    "\n",
    "        # if np.all(np.abs(covariances.diagonal() - 1) < 1e-6): #type: ignore\n",
    "        #     print(\"All diagonal entries are 1, did you enter the correlation matrix?\")\n",
    "\n",
    "        self.expecteds = np.array(expected_returns)\n",
    "        self.covariances = np.array(covariances)\n",
    "\n",
    "    def returns(self, weights: ndarray[np.float64]) -> tuple[float,float]: #type: ignore\n",
    "        r = weights.dot(self.expecteds)\n",
    "        sd = weights.T @ self.covariances @ weights\n",
    "        return r, sd #type: ignore\n",
    "\n",
    "    def solve_analytical(self):\n",
    "        n, = self.expecteds.shape\n",
    "        A = np.array(self.covariances)\n",
    "        b = np.ones((n,))\n",
    "\n",
    "        A_inv: ndarray[np.float64]\n",
    "\n",
    "        try:\n",
    "            A_inv = np.linalg.inv(A)\n",
    "        except LinAlgError:\n",
    "            raise ValueError(\"The matrix is not invertible. Try solving it the numerical way\")\n",
    "\n",
    "        x = A_inv @ b\n",
    "        best_weight = x[:n] / np.sum(x[:n])\n",
    "        best_r, best_sd = self.returns(best_weight)\n",
    "\n",
    "        print(f\"Best average return: {best_r}\")\n",
    "        print(f\"Minimum standard deviation: {best_sd}\")\n",
    "        print(f\"Best weights: {best_weight}\")\n",
    "\n",
    "        return best_weight\n",
    "\n",
    "    def solve_analytical_target_return(self, target_mean_return: float):\n",
    "       # \"\"\"Solves the Markowitz problem analytically. Enter the target mean return r-bar in percentage\"\"\"\n",
    "        r_bar = target_mean_return\n",
    "        n, = self.expecteds.shape\n",
    "\n",
    "        # There are n + 2 variables in total, the equations (in compact form) are:\n",
    "        # w1 + ... + wn = 1\n",
    "        # w1r1 + w2r2 + ... + wnrn = r_bar\n",
    "        # C w - l r - m = 0\n",
    "        # where the n + 2 variables are w1 ... wn and l and m\n",
    "\n",
    "        # So in the spirit of solving system of linear equations, we make the matrix A and vector b so that we solve Ax = b\n",
    "\n",
    "        A = np.zeros((n+2, n+2))\n",
    "        b = np.zeros((n+2,))\n",
    "\n",
    "        # First equation\n",
    "        A[0, :n] = 1\n",
    "        b[0] = 1\n",
    "\n",
    "        # Second equation\n",
    "        A[1, :n] = self.expecteds\n",
    "        b[1] = r_bar\n",
    "\n",
    "        # Covariance equations\n",
    "        A[2:, :n] = self.covariances\n",
    "        A[2:, n] = -self.expecteds\n",
    "        A[2:, n+1] = -1\n",
    "\n",
    "        # Solve equation the lazy way:\n",
    "        A_inv: np.ndarray[np.float64]\n",
    "\n",
    "        try:\n",
    "            A_inv = np.linalg.inv(A)\n",
    "        except LinAlgError:\n",
    "            raise ValueError(\"The matrix is not invertible. Try solving it the numerical way\")\n",
    "\n",
    "        x = A_inv @ b\n",
    "        best_weight = x[:n]\n",
    "        best_r, best_sd = self.returns(best_weight)\n",
    "\n",
    "        print(f\"Best average return: {best_r}\")\n",
    "        print(f\"Minimum standard deviation: {best_sd}\")\n",
    "        print(f\"Best weights: {best_weight}\")\n",
    "\n",
    "        return best_weight\n",
    "\n",
    "    def solve_tan_analytical(self, risk_free_rate: float):\n",
    "        n, = self.expecteds.shape\n",
    "        A = np.array(self.covariances)\n",
    "        b = self.expecteds - risk_free_rate\n",
    "\n",
    "        A_inv: ndarray[np.float64]\n",
    "\n",
    "        try:\n",
    "            A_inv = np.linalg.inv(A)\n",
    "        except LinAlgError:\n",
    "            raise ValueError(\"The matrix is not invertible. Try solving it the numerical way\")\n",
    "\n",
    "        x = A_inv @ b\n",
    "        best_weight = x[:n] / np.sum(x[:n])\n",
    "        best_r, best_sd = self.returns(best_weight)\n",
    "\n",
    "        print(f\"Best average return: {best_r}\")\n",
    "        print(f\"Minimum standard deviation: {best_sd}\")\n",
    "        print(f\"Best weights: {best_weight}\")\n",
    "\n",
    "        return best_weight\n",
    "\n",
    "def markowitz_analytical(expected_returns, covariances):\n",
    "    #\"\"\"Solves the classical markowitz problem by using approximation approach\"\"\"\n",
    "    s = OptimizeStockPortfolio(expected_returns, covariances)\n",
    "    return s.solve_analytical()\n",
    "\n",
    "def markowitz_riskfree_analytical(expected_returns, covariances, risk_free):\n",
    "    #\"\"\"Solves markowitz problem with risk free rate. Enter risk free rate in percentage\"\"\"\n",
    "    s = OptimizeStockPortfolio(expected_returns, covariances)\n",
    "    return s.solve_tan_analytical(risk_free)\n",
    "\n",
    "def markowitz_fixed_mean_analytical(expected_returns, covariances, target_mean_return):\n",
    "    #\"\"\"Solves markowitz problem with a target mean return. Enter risk free rate in percentage\"\"\"\n",
    "    s = OptimizeStockPortfolio(expected_returns, covariances)\n",
    "    return s.solve_analytical_target_return(target_mean_return)"
   ]
  },
  {
   "cell_type": "code",
   "execution_count": 8,
   "id": "ce0a331b",
   "metadata": {},
   "outputs": [
    {
     "name": "stdout",
     "output_type": "stream",
     "text": [
      "Q9 - aim for 85% return\n",
      "Best average return: 84.99999999999994\n",
      "Minimum standard deviation: 0.17731040848882412\n",
      "Best weights: [ 0.86487964  0.96102418 -0.68060261  0.24788048 -0.3931817 ]\n",
      "8648.796400853185\n",
      "\n",
      "\n",
      "Q10\n",
      "Best average return: 53.00171526586621\n",
      "Minimum standard deviation: 0.12381360777587187\n",
      "Best weights: [ 0.0971984   0.53230417 -0.15208691  0.60777587 -0.08519154]\n",
      "\n",
      "\n",
      "Q11\n",
      "Best average return: 105.6597804543375\n",
      "Minimum standard deviation: 0.2686921972021493\n",
      "Best weights: [ 1.36053514  1.23782843 -1.02184022  0.01551304 -0.59203639]\n",
      "1.3605351425522179\n"
     ]
    }
   ],
   "source": [
    "# Q5,6\n",
    "returns = np.array([69, 65, 44, 36, 41])\n",
    "\n",
    "covs = np.array([\n",
    "    [0.21, 0.12, 0.17, 0.13, 0.16],\n",
    "    [0.12, 0.15, 0.12, 0.10, 0.12],\n",
    "    [0.17, 0.12, 0.19, 0.14, 0.15],\n",
    "    [0.13, 0.10, 0.14, 0.15, 0.14],\n",
    "    [0.16, 0.12, 0.15, 0.14, 0.21]\n",
    "])\n",
    "\n",
    "print(\"Q9 - aim for 85% return\")\n",
    "w = markowitz_fixed_mean_analytical(returns, covs, 85)\n",
    "print(w[0] * 10000)\n",
    "\n",
    "print(\"\\n\\nQ10\")\n",
    "markowitz_analytical(returns, covs)\n",
    "\n",
    "print(\"\\n\\nQ11\")\n",
    "w = markowitz_riskfree_analytical(returns, covs, 8)\n",
    "print(w[0])"
   ]
  },
  {
   "cell_type": "code",
   "execution_count": 21,
   "id": "6272817d",
   "metadata": {},
   "outputs": [
    {
     "data": {
      "text/plain": [
       "array([[-0.57952824],\n",
       "       [-0.07124196],\n",
       "       [ 0.50596584],\n",
       "       [ 0.91625997],\n",
       "       [ 0.22854439],\n",
       "       [ 0.35407861],\n",
       "       [-0.16231041]])"
      ]
     },
     "execution_count": 21,
     "metadata": {},
     "output_type": "execute_result"
    }
   ],
   "source": [
    "#Q7 怀疑有错误，虽然在误差范围内（不管了，不会做）\n",
    "import numpy as np\n",
    "V = np.array([\n",
    "    [0.21, 0.12, 0.17, 0.13, 0.16],\n",
    "    [0.12, 0.15, 0.12, 0.10, 0.12],\n",
    "    [0.17, 0.12, 0.19, 0.14, 0.15],\n",
    "    [0.13, 0.10, 0.14, 0.15, 0.14],\n",
    "    [0.16, 0.12, 0.15, 0.14, 0.21]\n",
    "])\n",
    "r_bar = np.array([0.69, 0.65, 0.44, 0.36, 0.41]).reshape(-1, 1)\n",
    "var_v = 0.04\n",
    "beta = np.array([1.16, 0.70, 1.15, 0.98, 1.01]).reshape(-1, 1)\n",
    "cov_v = beta * var_v\n",
    "\n",
    "# Constructing the matrices for the linear system\n",
    "A = np.block([\n",
    "    [2 * V, -np.ones((5, 1)), -2*r_bar],\n",
    "    [np.ones((1, 5)), 0, 0],\n",
    "    [r_bar.T, 0, 0]\n",
    "])\n",
    "b = np.vstack((2 * cov_v, 1, 0.2))\n",
    "\n",
    "# Solving the linear system\n",
    "OPW_13 = np.linalg.solve(A, b)\n",
    "OPW_13"
   ]
  },
  {
   "cell_type": "code",
   "execution_count": null,
   "id": "bbbd3a6b",
   "metadata": {},
   "outputs": [],
   "source": []
  },
  {
   "cell_type": "code",
   "execution_count": 9,
   "id": "f90a6f5c",
   "metadata": {},
   "outputs": [
    {
     "data": {
      "text/plain": [
       "7497783"
      ]
     },
     "execution_count": 9,
     "metadata": {},
     "output_type": "execute_result"
    }
   ],
   "source": [
    "#Q8\n",
    "def investment_value_after_mortgage(P, r_mortgage, r_investment, term_years):\n",
    "    m = 12  # monthly compounding and payments\n",
    "    term_months = term_years * m\n",
    "\n",
    "    # Monthly mortgage payment calculation\n",
    "    monthly_payment = r_mortgage / m * P / (1 - (1 + r_mortgage / m) ** -term_months)\n",
    "\n",
    "    # Initial investment amount\n",
    "    investment_value = P  # same as the mortgage amount\n",
    "\n",
    "    for _ in range(term_months):\n",
    "        # Increase investment by monthly growth rate\n",
    "        investment_value *= (1 + r_investment / m)\n",
    "        \n",
    "        # Subtract monthly mortgage payment\n",
    "        investment_value -= monthly_payment\n",
    "\n",
    "    return round(investment_value)\n",
    "\n",
    "# Mortgage and investment details\n",
    "P = 500000  # Principal amount of the mortgage\n",
    "r_mortgage = 0.06  # Annual interest rate of the mortgage\n",
    "r_investment = 0.01 * 12  # Monthly growth rate of the S&P 500 investment, converted to annual rate\n",
    "term_years = 30  # Term of the mortgage in years\n",
    "\n",
    "investment_value_after_mortgage(P, r_mortgage, r_investment, term_years)\n"
   ]
  },
  {
   "cell_type": "code",
   "execution_count": 14,
   "id": "28253b42",
   "metadata": {},
   "outputs": [
    {
     "name": "stdout",
     "output_type": "stream",
     "text": [
      "1054.50938424492\n"
     ]
    },
    {
     "data": {
      "text/plain": [
       "1054.50938424492"
      ]
     },
     "execution_count": 14,
     "metadata": {},
     "output_type": "execute_result"
    }
   ],
   "source": [
    "#Q9\n",
    "# constant-proportion rebalancing FPQ17\n",
    "\n",
    "def Cons_propo_rebal(prop_of_cash,prop_of_stock,days,initial):\n",
    "    stock = prop_of_stock * initial\n",
    "    cash = prop_of_cash * initial\n",
    "    for i in range(days):\n",
    "        Ex = ((stock)/2 + 2*(stock))/2\n",
    "        stock = prop_of_stock*(Ex+cash)\n",
    "        cash = prop_of_cash*(Ex+cash)\n",
    "    E = stock + cash\n",
    "    print(E)\n",
    "    return E\n",
    "\n",
    "Cons_propo_rebal(0.5,0.5,20,100)"
   ]
  },
  {
   "cell_type": "code",
   "execution_count": 18,
   "id": "a82c075a",
   "metadata": {},
   "outputs": [
    {
     "name": "stdout",
     "output_type": "stream",
     "text": [
      "The optimal weights for the portfolio are:\n",
      "[ 2.39308176  1.81446541 -1.7327044  -0.46855346 -1.00628931]\n",
      "The optimal weight for Meta Platforms, Inc. (META) is: -1.01\n"
     ]
    }
   ],
   "source": [
    "#Q10\n",
    "import cvxpy as cp\n",
    "\n",
    "# Given data\n",
    "V = np.array([ # covariance matrix\n",
    "    [0.21, 0.12, 0.17, 0.13, 0.16],\n",
    "    [0.12, 0.15, 0.12, 0.10, 0.12],\n",
    "    [0.17, 0.12, 0.19, 0.14, 0.15],\n",
    "    [0.13, 0.10, 0.14, 0.15, 0.14],\n",
    "    [0.16, 0.12, 0.15, 0.14, 0.21]\n",
    "])\n",
    "r_bar = np.array([0.69, 0.65, 0.44, 0.36, 0.41]) # expected returns\n",
    "\n",
    "# The variable we are solving for\n",
    "weights = cp.Variable(5)\n",
    "\n",
    "# The objective is to minimize the portfolio variance\n",
    "# and maximize the expected return\n",
    "risk = cp.quad_form(weights, V)\n",
    "return_portfolio = r_bar @ weights\n",
    "objective = cp.Minimize(risk - return_portfolio)\n",
    "\n",
    "# The sum of the weights must be 1\n",
    "constraints = [cp.sum(weights) == 1]\n",
    "\n",
    "# Solving the problem\n",
    "prob = cp.Problem(objective, constraints)\n",
    "prob.solve()\n",
    "\n",
    "# The optimal weights\n",
    "optimal_weights = weights.value\n",
    "\n",
    "# Output the optimal weights\n",
    "print(\"The optimal weights for the portfolio are:\")\n",
    "print(optimal_weights)\n",
    "\n",
    "# Specifically, to output the weight for Meta Platforms, Inc. (formerly Facebook, ticker META):\n",
    "meta_weight = optimal_weights[4]  # Assuming the 5th stock in the list is Meta/Facebook\n",
    "print(f\"The optimal weight for Meta Platforms, Inc. (META) is: {meta_weight:.2f}\")\n"
   ]
  },
  {
   "cell_type": "code",
   "execution_count": 1,
   "id": "a0fdd564",
   "metadata": {},
   "outputs": [
    {
     "name": "stdout",
     "output_type": "stream",
     "text": [
      "[  2.   2.   2.   2.   2.   2.   2.   2.   2. 102.]\n",
      "[-110.    2.    2.    2.    2.    2.    2.    2.    2.    2.  102.]\n",
      "The bond's yield to maturity is 1.89%\n"
     ]
    },
    {
     "data": {
      "text/plain": [
       "173.21395912251086"
      ]
     },
     "execution_count": 1,
     "metadata": {},
     "output_type": "execute_result"
    }
   ],
   "source": [
    "#Q12\n",
    "import numpy as np\n",
    "\n",
    "def IRRPoly(cash_flow, m):\n",
    "    coefficients = np.flip(cash_flow)\n",
    "    roots = np.roots(coefficients)\n",
    "    irr_poly = np.real(roots[(roots >= 0)  & (np.iscomplex(roots) == False)])[0]\n",
    "    irr = m*(1 - irr_poly) / irr_poly\n",
    "    return irr\n",
    "\n",
    "# Bond characteristics\n",
    "face_value = 100\n",
    "coupon_payment = 4  #yearly\n",
    "payments_per_year = 2\n",
    "years_to_maturity = 5\n",
    "current_price = 110\n",
    "\n",
    "# Cash flows for the bond\n",
    "\n",
    "cash_flows = (coupon_payment / payments_per_year)*np.ones(years_to_maturity * payments_per_year)\n",
    "cash_flows[-1] += face_value\n",
    "print(cash_flows)\n",
    "cash_flows = np.insert(cash_flows, 0, -current_price)\n",
    "print(cash_flows)\n",
    "\n",
    "# Find YTM using IRRPoly function\n",
    "ytm = IRRPoly( cash_flows, payments_per_year)\n",
    "\n",
    "# Convert to a percentage and display the result\n",
    "ytm_percentage = ytm * 100\n",
    "print(f\"The bond's yield to maturity is {ytm_percentage:.2f}%\")\n",
    "\n",
    "def bond_price(F, C, lamb, m, n):\n",
    "    '''\n",
    "    F is the face value of the bond\n",
    "    C is the yearly coupon payment\n",
    "    lamb is the yield of the bond \n",
    "    m is the number of coupon payments per year\n",
    "    n is the number of coupon payments remaning\n",
    "    '''\n",
    "    r = lamb / m  # Semi-annual yield\n",
    "    discount_factor = (1 + r) ** n\n",
    "    bond_price = (C / r) * (1 - 1 / discount_factor) + F / discount_factor\n",
    "    return bond_price\n",
    "\n",
    "face_value = 100\n",
    "coupon_rate = 0.1\n",
    "periods=10\n",
    "frequency = 1\n",
    "yield_to_maturities = ytm_percentage\n",
    "coupon_payment_per_period = face_value * coupon_rate / frequency\n",
    "bond_price(face_value, coupon_payment_per_period, ytm, frequency, periods * frequency)"
   ]
  },
  {
   "cell_type": "code",
   "execution_count": null,
   "id": "5fe282ce",
   "metadata": {},
   "outputs": [],
   "source": [
    "#7(存疑）11"
   ]
  },
  {
   "cell_type": "code",
   "execution_count": 18,
   "id": "0e6c288d",
   "metadata": {},
   "outputs": [
    {
     "data": {
      "text/plain": [
       "-11.379755780988436"
      ]
     },
     "execution_count": 18,
     "metadata": {},
     "output_type": "execute_result"
    }
   ],
   "source": [
    "D=0\n",
    "for i in range(1,17):\n",
    "    D+=(-1/1.07)*((i*0.08)/((1+0.035)**(i)))\n",
    "D+(-1/1.07)*(8/(1+0.07)**8)"
   ]
  },
  {
   "cell_type": "code",
   "execution_count": 1,
   "id": "f0d8256d",
   "metadata": {},
   "outputs": [
    {
     "data": {
      "text/plain": [
       "106.04705840407456"
      ]
     },
     "execution_count": 1,
     "metadata": {},
     "output_type": "execute_result"
    }
   ],
   "source": [
    "B=0\n",
    "for i in range(1,17):\n",
    "    B+=4*(1/((1.035)**i))\n",
    "B+(100/((1.035)**16))"
   ]
  },
  {
   "cell_type": "code",
   "execution_count": 25,
   "id": "c0631a75",
   "metadata": {},
   "outputs": [
    {
     "name": "stdout",
     "output_type": "stream",
     "text": [
      "6.123429947101408\n",
      "6.101077547635899\n"
     ]
    }
   ],
   "source": [
    "D=0\n",
    "for i in range(1,17):\n",
    "    D+=(1/106.047)*((i*4)/((1+0.035)**(i)))\n",
    "print((D+((1600/((1+0.035)**16)))/106.047)/2)\n",
    "print((D+((800/((1+0.07)**16)))/106.047)) "
   ]
  },
  {
   "cell_type": "code",
   "execution_count": null,
   "id": "96c2800b",
   "metadata": {},
   "outputs": [],
   "source": []
  }
 ],
 "metadata": {
  "kernelspec": {
   "display_name": "Python 3 (ipykernel)",
   "language": "python",
   "name": "python3"
  },
  "language_info": {
   "codemirror_mode": {
    "name": "ipython",
    "version": 3
   },
   "file_extension": ".py",
   "mimetype": "text/x-python",
   "name": "python",
   "nbconvert_exporter": "python",
   "pygments_lexer": "ipython3",
   "version": "3.9.13"
  }
 },
 "nbformat": 4,
 "nbformat_minor": 5
}
