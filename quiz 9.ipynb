{
 "cells": [
  {
   "cell_type": "code",
   "execution_count": null,
   "id": "e1d8da35",
   "metadata": {},
   "outputs": [],
   "source": [
    "#Q1\n",
    "#The risk-free rate, which is equivalent to λ0 \n",
    "#in the context of the question, is given directly in the problem as 1%."
   ]
  },
  {
   "cell_type": "code",
   "execution_count": 1,
   "id": "64ac4f8b",
   "metadata": {},
   "outputs": [
    {
     "data": {
      "text/plain": [
       "{lambda_1: 0.0800000000000000, lambda_2: -0.0300000000000000}"
      ]
     },
     "execution_count": 1,
     "metadata": {},
     "output_type": "execute_result"
    }
   ],
   "source": [
    "#Q2,3\n",
    "from sympy import symbols, Eq, solve\n",
    "\n",
    "# Define the symbols for lambda_1 and lambda_2\n",
    "lambda_1, lambda_2 = symbols('lambda_1 lambda_2')\n",
    "\n",
    "# Given risk-free rate and expected returns on the assets\n",
    "r_f = 0.01  # risk-free rate\n",
    "r_tilde1 = 0.05  # expected return of asset 1\n",
    "r_tilde2 = 0.10  # expected return of asset 2\n",
    "\n",
    "# Set up the equations based on APT\n",
    "# Subtracting the risk-free rate from the expected returns to get the risk premium\n",
    "eq1 = Eq(2*lambda_1 + 4*lambda_2, r_tilde1 - r_f)  # for asset 1\n",
    "eq2 = Eq(3*lambda_1 + 5*lambda_2, r_tilde2 - r_f)  # for asset 2\n",
    "\n",
    "# Solve the system of equations to find lambda_1 and lambda_2\n",
    "solutions = solve((eq1,eq2), (lambda_1, lambda_2))\n",
    "\n",
    "# Display the solutions\n",
    "solutions\n"
   ]
  },
  {
   "cell_type": "code",
   "execution_count": 2,
   "id": "8fc1e76e",
   "metadata": {},
   "outputs": [
    {
     "name": "stdout",
     "output_type": "stream",
     "text": [
      "The expected rate of return of the portfolio is: 10\n"
     ]
    }
   ],
   "source": [
    "#Q4\n",
    "# Given values from the problem statement\n",
    "mean_f = 10  # The mean of the factor f\n",
    "std_dev_f = (3)**0.5  # The standard deviation of the factor f\n",
    "std_dev_ei = 4  # The standard deviation of the specific error for each asset\n",
    "\n",
    "# Calculate the expected rate of return for the portfolio\n",
    "# Since the errors have zero mean and the positive and negative alphas cancel out,\n",
    "# the expected return of the portfolio is simply the mean of the factor f.\n",
    "\n",
    "expected_return_portfolio = mean_f\n",
    "print(\"The expected rate of return of the portfolio is:\", expected_return_portfolio)\n"
   ]
  },
  {
   "attachments": {},
   "cell_type": "markdown",
   "id": "f254877d",
   "metadata": {},
   "source": [
    "![1](quiz9.png)"
   ]
  },
  {
   "cell_type": "code",
   "execution_count": 3,
   "id": "544240ab",
   "metadata": {},
   "outputs": [
    {
     "name": "stdout",
     "output_type": "stream",
     "text": [
      "The standard deviation of the portfolio's return is: 2\n"
     ]
    }
   ],
   "source": [
    "#Q5\n",
    "import numpy as np\n",
    "\n",
    "# Number of assets\n",
    "N = 16\n",
    "\n",
    "# Standard deviation of the asset-specific errors\n",
    "std_dev_ei = 4\n",
    "# Variance of the asset-specific errors\n",
    "var_ei = std_dev_ei**2\n",
    "\n",
    "# Standard deviation of the common factor f\n",
    "std_dev_f = np.sqrt(3)\n",
    "# Variance of the common factor f\n",
    "var_f = std_dev_f**2\n",
    "\n",
    "# The variance of the portfolio's return due to the asset-specific errors is reduced by the diversification effect\n",
    "# Since the errors are uncorrelated, their average variance contributes to the portfolio's variance\n",
    "variance_error_contribution = var_ei / N\n",
    "\n",
    "# The total variance of the portfolio's return is the sum of the variance due to f and the average variance due to errors\n",
    "total_variance_portfolio = variance_error_contribution + var_f\n",
    "\n",
    "# The standard deviation of the portfolio's return is the square root of the total variance\n",
    "std_dev_portfolio = np.sqrt(total_variance_portfolio)\n",
    "\n",
    "# Round the standard deviation to the nearest integer\n",
    "std_dev_portfolio_rounded = round(std_dev_portfolio)\n",
    "\n",
    "print(\"The standard deviation of the portfolio's return is:\", std_dev_portfolio_rounded)\n"
   ]
  },
  {
   "cell_type": "code",
   "execution_count": 6,
   "id": "a0eaa7c3",
   "metadata": {},
   "outputs": [
    {
     "name": "stdout",
     "output_type": "stream",
     "text": [
      "N100     1.267495\n",
      "R2000    0.798959\n",
      "dtype: float64\n"
     ]
    }
   ],
   "source": [
    "#Q6\n",
    "import pandas as pd\n",
    "\n",
    "# Historical annual percentage returns for the Nasdaq-100 (N100) and Russell 2000 (R2000) indices\n",
    "returns_data = {\n",
    "    'N100': [19.22, 2.70, 16.82, 34.99, 17.94, 8.43, 5.89, 31.52, -1.04, 37.96],\n",
    "    'R2000': [26.85, -4.18, 16.35, 38.82, 4.89, -4.41, 21.31, 14.65, -11.01, 25.52]\n",
    "}\n",
    "\n",
    "# Convert the dictionary to a DataFrame\n",
    "returns_df = pd.DataFrame(returns_data)\n",
    "\n",
    "# Calculate the mean return for each index\n",
    "average_returns = returns_df.mean()\n",
    "\n",
    "# Calculate the standard deviation of returns for each index\n",
    "standard_deviations = returns_df.std()\n",
    "\n",
    "# Calculate the Sharpe Ratio for each index\n",
    "# Since the risk-free rate is zero, the Sharpe Ratio formula simplifies to mean return / standard deviation\n",
    "sharpe_ratios = average_returns / standard_deviations\n",
    "\n",
    "# Print the Sharpe Ratios\n",
    "print(sharpe_ratios)\n"
   ]
  },
  {
   "cell_type": "code",
   "execution_count": null,
   "id": "5fa4d869",
   "metadata": {},
   "outputs": [],
   "source": []
  }
 ],
 "metadata": {
  "kernelspec": {
   "display_name": "Python 3 (ipykernel)",
   "language": "python",
   "name": "python3"
  },
  "language_info": {
   "codemirror_mode": {
    "name": "ipython",
    "version": 3
   },
   "file_extension": ".py",
   "mimetype": "text/x-python",
   "name": "python",
   "nbconvert_exporter": "python",
   "pygments_lexer": "ipython3",
   "version": "3.9.13"
  }
 },
 "nbformat": 4,
 "nbformat_minor": 5
}
