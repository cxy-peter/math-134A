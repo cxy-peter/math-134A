{
 "cells": [
  {
   "cell_type": "code",
   "execution_count": 1,
   "id": "026257c8",
   "metadata": {},
   "outputs": [
    {
     "name": "stdout",
     "output_type": "stream",
     "text": [
      "The (after-tax) present value of the new vaccine project is: $3279795\n"
     ]
    }
   ],
   "source": [
    "#Q1 \n",
    "#this year\n",
    "# Constants and initial values\n",
    "# Function to calculate the after-tax present value of the vaccine project\n",
    "def calculate_npv(initial_investment, sales_per_unit, units_sold_annually, wage_rate_per_hour, \n",
    "                  hours_of_labor_annually, cost_per_ton_raw_material, tons_of_raw_material_annually, \n",
    "                  inflation_rate, corporate_tax_rate, depreciation, interest_rate, years):\n",
    "    # Initialize list to hold the cash flows\n",
    "    cash_flows = []\n",
    "\n",
    "    # Calculate the cash flows for each year\n",
    "    for year in range(1, years + 1):\n",
    "        # Adjust for inflation\n",
    "        sales = sales_per_unit * (1 + inflation_rate) ** (year - 1) * units_sold_annually\n",
    "        labor_cost = wage_rate_per_hour * (1 + inflation_rate) ** (year - 1) * hours_of_labor_annually\n",
    "        material_cost = cost_per_ton_raw_material * (1 + inflation_rate) ** (year - 1) * tons_of_raw_material_annually\n",
    "        operating_income = sales - (labor_cost + material_cost)\n",
    "        profit_before_tax = operating_income - depreciation\n",
    "        tax = profit_before_tax * corporate_tax_rate\n",
    "        profit_after_tax = profit_before_tax - tax\n",
    "        cash_flow = profit_after_tax + depreciation # Add back depreciation as it's a non-cash charge\n",
    "        cash_flows.append(cash_flow)\n",
    "    \n",
    "    # Calculate the present value of the cash flows\n",
    "    npv = -initial_investment\n",
    "    for i, cash_flow in enumerate(cash_flows, start=1):\n",
    "        npv += cash_flow / (1 + interest_rate) ** i\n",
    "    \n",
    "    # Return the NPV rounded to the nearest dollar\n",
    "    return round(npv)\n",
    "\n",
    "# Define the parameters based on the provided scenario\n",
    "initial_investment = 10000000\n",
    "sales_per_unit = 3.30\n",
    "units_sold_annually = 1000000\n",
    "wage_rate_per_hour = 30\n",
    "hours_of_labor_annually = 10000\n",
    "cost_per_ton_raw_material = 100\n",
    "tons_of_raw_material_annually = 100\n",
    "inflation_rate = 0.10  # 10% inflation rate\n",
    "corporate_tax_rate = 0.34\n",
    "depreciation = initial_investment / 5\n",
    "interest_rate = 0.05\n",
    "years = 5\n",
    "\n",
    "# Calculate the NPV\n",
    "npv = calculate_npv(initial_investment, sales_per_unit, units_sold_annually, wage_rate_per_hour, \n",
    "                    hours_of_labor_annually, cost_per_ton_raw_material, tons_of_raw_material_annually, \n",
    "                    inflation_rate, corporate_tax_rate, depreciation, interest_rate, years)\n",
    "\n",
    "print(f\"The (after-tax) present value of the new vaccine project is: ${npv}\")\n"
   ]
  },
  {
   "cell_type": "code",
   "execution_count": null,
   "id": "1a62b4b6",
   "metadata": {},
   "outputs": [],
   "source": [
    "#Q2\n",
    "#2*80-100=60"
   ]
  },
  {
   "cell_type": "code",
   "execution_count": 3,
   "id": "8b8904a7",
   "metadata": {},
   "outputs": [
    {
     "data": {
      "text/plain": [
       "87.5845978486002"
      ]
     },
     "execution_count": 3,
     "metadata": {},
     "output_type": "execute_result"
    }
   ],
   "source": [
    "#Q3\n",
    "import math\n",
    "#P = mortegage value n1 = original terms, n2= rest terms, r1 = ir1, r2 =ir2\n",
    "def ext_term(P, n1, m, r1, r2, n2): \n",
    "    A1 = r1/m*P*(1-1/(1+r1/m)**(n1*m))**(-1)\n",
    "    P1 = A1/(r1/m)*(1-1/(1+r1/m)**((n1-n2)*m))\n",
    "    a = P1 * r2/m / A1\n",
    "    b = 1 - a\n",
    "    t = -math.log(b, (1+r2/m))\n",
    "    return t - (n1-n2)*m\n",
    "\n",
    "ext_term(P=1000000, n1=30, m=12, r1=0.05, r2=0.06, n2=5)"
   ]
  },
  {
   "cell_type": "code",
   "execution_count": 6,
   "id": "6a74d1cc",
   "metadata": {},
   "outputs": [
    {
     "name": "stdout",
     "output_type": "stream",
     "text": [
      "[  2.   2.   2.   2.   2.   2.   2.   2.   2. 102.]\n",
      "[-110.    2.    2.    2.    2.    2.    2.    2.    2.    2.  102.]\n",
      "The bond's yield to maturity is 1.89%\n"
     ]
    },
    {
     "data": {
      "text/plain": [
       "173.21395912251086"
      ]
     },
     "execution_count": 6,
     "metadata": {},
     "output_type": "execute_result"
    }
   ],
   "source": [
    "#Q4\n",
    "import numpy as np\n",
    "\n",
    "def IRRPoly(cash_flow, m):\n",
    "    coefficients = np.flip(cash_flow)\n",
    "    roots = np.roots(coefficients)\n",
    "    irr_poly = np.real(roots[(roots >= 0)  & (np.iscomplex(roots) == False)])[0]\n",
    "    irr = m*(1 - irr_poly) / irr_poly\n",
    "    return irr\n",
    "\n",
    "# Bond characteristics\n",
    "face_value = 100\n",
    "coupon_payment = 4  #yearly\n",
    "payments_per_year = 2\n",
    "years_to_maturity = 5\n",
    "current_price = 110\n",
    "\n",
    "# Cash flows for the bond\n",
    "\n",
    "cash_flows = (coupon_payment / payments_per_year)*np.ones(years_to_maturity * payments_per_year)\n",
    "cash_flows[-1] += face_value\n",
    "print(cash_flows)\n",
    "cash_flows = np.insert(cash_flows, 0, -current_price)\n",
    "print(cash_flows)\n",
    "\n",
    "# Find YTM using IRRPoly function\n",
    "ytm = IRRPoly( cash_flows, payments_per_year)\n",
    "\n",
    "# Convert to a percentage and display the result\n",
    "ytm_percentage = ytm * 100\n",
    "print(f\"The bond's yield to maturity is {ytm_percentage:.2f}%\")\n",
    "\n",
    "def bond_price(F, C, lamb, m, n):\n",
    "    '''\n",
    "    F is the face value of the bond\n",
    "    C is the yearly coupon payment\n",
    "    lamb is the yield of the bond \n",
    "    m is the number of coupon payments per year\n",
    "    n is the number of coupon payments remaning\n",
    "    '''\n",
    "    r = lamb / m  # Semi-annual yield\n",
    "    discount_factor = (1 + r) ** n\n",
    "    bond_price = (C / r) * (1 - 1 / discount_factor) + F / discount_factor\n",
    "    return bond_price\n",
    "\n",
    "face_value = 100\n",
    "coupon_rate = 0.1\n",
    "periods=10\n",
    "frequency = 1\n",
    "coupon_payment_per_period = face_value * coupon_rate / frequency\n",
    "bond_price(face_value, coupon_payment_per_period, ytm, frequency, periods * frequency)"
   ]
  },
  {
   "cell_type": "code",
   "execution_count": 6,
   "id": "a015b2d8",
   "metadata": {},
   "outputs": [
    {
     "data": {
      "text/plain": [
       "array([ 0.62496639,  0.827042  , -0.5154326 ,  0.36035382, -0.29692961])"
      ]
     },
     "execution_count": 6,
     "metadata": {},
     "output_type": "execute_result"
    }
   ],
   "source": [
    "#Q5\n",
    "import numpy as np\n",
    "\n",
    "# Covariance matrix V\n",
    "V = np.array([\n",
    "    [0.21, 0.12, 0.17, 0.13, 0.16],\n",
    "    [0.12, 0.15, 0.12, 0.10, 0.12],\n",
    "    [0.17, 0.12, 0.19, 0.14, 0.15],\n",
    "    [0.13, 0.10, 0.14, 0.15, 0.14],\n",
    "    [0.16, 0.12, 0.15, 0.14, 0.21]\n",
    "])\n",
    "\n",
    "# Expected returns of assets\n",
    "r_bar = np.array([0.69, 0.65, 0.44, 0.36, 0.41])\n",
    "\n",
    "# Constructing the augmented matrix for the linear system\n",
    "A = np.vstack([\n",
    "    np.hstack([V, -r_bar[:, np.newaxis], -np.ones((5, 1))]),\n",
    "    np.hstack([r_bar, [0], [0]]),\n",
    "    np.hstack([np.ones(5), [0], [0]])\n",
    "])\n",
    "\n",
    "# Constructing the right-hand side of the equation\n",
    "b = np.append(np.zeros(5), [0.75, 1])\n",
    "\n",
    "# Solving the linear system\n",
    "solution = np.linalg.solve(A, b)\n",
    "\n",
    "# Extracting the weights and normalizing them to sum to 1\n",
    "weights = solution[:5] / sum(solution[:5])\n",
    "\n",
    "weights\n"
   ]
  },
  {
   "cell_type": "code",
   "execution_count": 7,
   "id": "82b740a8",
   "metadata": {},
   "outputs": [
    {
     "data": {
      "text/plain": [
       "(array([ 1.28157942,  1.19373474, -0.96748258,  0.05252814, -0.56035972]),\n",
       " 1.0236876898338392,\n",
       " 0.25114891219524493,\n",
       " array([ 0.987159  ,  0.91949509, -0.74522041,  0.04046072, -0.43162689]),\n",
       " 1.0236876898338392,\n",
       " 0.14900967570870496,\n",
       " 0.14900967570870494)"
      ]
     },
     "execution_count": 7,
     "metadata": {},
     "output_type": "execute_result"
    }
   ],
   "source": [
    "#Q6\n",
    "import numpy as np\n",
    "\n",
    "# Define the covariance matrix V and expected returns r_bar\n",
    "V = np.array([\n",
    "    [0.21, 0.12, 0.17, 0.13, 0.16],\n",
    "    [0.12, 0.15, 0.12, 0.10, 0.12],\n",
    "    [0.17, 0.12, 0.19, 0.14, 0.15],\n",
    "    [0.13, 0.10, 0.14, 0.15, 0.14],\n",
    "    [0.16, 0.12, 0.15, 0.14, 0.21]\n",
    "])\n",
    "r_bar = np.array([0.69, 0.65, 0.44, 0.36, 0.41])\n",
    "r_f = 0.05\n",
    "\n",
    "# Solve for weights of one fund\n",
    "v_1 = np.linalg.solve(V, r_bar - r_f)\n",
    "w_1 = v_1 / sum(v_1)\n",
    "\n",
    "# Mean return\n",
    "MR1 = r_bar.T @ w_1\n",
    "Var1 = w_1.T @ V @ w_1\n",
    "\n",
    "# Desired mean\n",
    "Desired_mean = 0.8\n",
    "\n",
    "# Find weights of portfolio with desired mean\n",
    "alpha = (Desired_mean - MR1) / (r_f - MR1)\n",
    "w_2 = (1 - alpha) * w_1\n",
    "\n",
    "# Variance of portfolio (for one fund s.d. = (1 - alpha) s.d. of one fund)\n",
    "Var = (1 - alpha)**2 * w_1.T @ V @ w_1\n",
    "Var2 = w_2.T @ V @ w_2\n",
    "\n",
    "w_1, MR1, Var1, w_2, MR1, Var, Var2"
   ]
  },
  {
   "cell_type": "code",
   "execution_count": 8,
   "id": "036a65ce",
   "metadata": {
    "scrolled": true
   },
   "outputs": [
    {
     "data": {
      "text/plain": [
       "array([[-0.17692943],\n",
       "       [-0.63607876],\n",
       "       [ 0.90133767],\n",
       "       [ 0.69681974],\n",
       "       [ 0.21485078],\n",
       "       [ 0.08692531],\n",
       "       [-0.25378896]])"
      ]
     },
     "execution_count": 8,
     "metadata": {},
     "output_type": "execute_result"
    }
   ],
   "source": [
    "#Q7\n",
    "V = np.array([\n",
    "    [0.21, 0.12, 0.17, 0.13, 0.16],\n",
    "    [0.12, 0.15, 0.12, 0.10, 0.12],\n",
    "    [0.17, 0.12, 0.19, 0.14, 0.15],\n",
    "    [0.13, 0.10, 0.14, 0.15, 0.14],\n",
    "    [0.16, 0.12, 0.15, 0.14, 0.21]\n",
    "])\n",
    "r_bar = np.array([0.69, 0.65, 0.44, 0.36, 0.41]).reshape(-1, 1)\n",
    "var_v = 0.09\n",
    "beta = np.array([1.16, 0.70, 1.15, 0.98, 1.01]).reshape(-1, 1)\n",
    "cov_v = 2*beta * var_v\n",
    "\n",
    "# Constructing the matrices for the linear system\n",
    "A = np.block([\n",
    "    [2 * V, -np.ones((5, 1)), -r_bar],\n",
    "    [np.ones((1, 5)), 0, 0],\n",
    "    [r_bar.T, 0, 0]\n",
    "])\n",
    "b = np.vstack((2 * cov_v, 1, 0.2))\n",
    "\n",
    "# Solving the linear system\n",
    "OPW_13 = np.linalg.solve(A, b)\n",
    "OPW_13\n"
   ]
  },
  {
   "cell_type": "code",
   "execution_count": 10,
   "id": "ad750bf1",
   "metadata": {},
   "outputs": [
    {
     "name": "stdout",
     "output_type": "stream",
     "text": [
      "7497782.757885488\n"
     ]
    },
    {
     "data": {
      "text/plain": [
       "7497782.757885488"
      ]
     },
     "execution_count": 10,
     "metadata": {},
     "output_type": "execute_result"
    }
   ],
   "source": [
    "#Q8\n",
    "# Invest to pay off mortgage FPQ15\n",
    "# Terms!!! Make sure it in month or year!!!\n",
    "def inv_payoff(int_rate,terms,growth_rate,priciple):\n",
    "    M = priciple*(int_rate/(1-(1+int_rate)**(-terms)))\n",
    "    PFV = M*(((1+growth_rate)**terms)-1)/growth_rate\n",
    "    FV_I = priciple*(1+growth_rate)**terms\n",
    "    FV = FV_I - PFV\n",
    "    print(FV)\n",
    "    return FV\n",
    "inv_payoff(0.005,360,0.01,500000)"
   ]
  },
  {
   "cell_type": "code",
   "execution_count": 4,
   "id": "50684743",
   "metadata": {},
   "outputs": [
    {
     "name": "stdout",
     "output_type": "stream",
     "text": [
      "365.323615365196\n"
     ]
    },
    {
     "data": {
      "text/plain": [
       "365.323615365196"
      ]
     },
     "execution_count": 4,
     "metadata": {},
     "output_type": "execute_result"
    }
   ],
   "source": [
    "#Q9\n",
    "def Cons_propo_rebal(prop_of_cash,prop_of_stock,days,initial):\n",
    "    stock = prop_of_stock * initial\n",
    "    cash = prop_of_cash * initial\n",
    "    for i in range(days):\n",
    "        Ex = ((stock)/2 + 2*(stock))/2\n",
    "        stock = prop_of_stock*(Ex+cash)\n",
    "        cash = prop_of_cash*(Ex+cash)\n",
    "    E = stock + cash\n",
    "    print(E)\n",
    "    return E\n",
    "\n",
    "Cons_propo_rebal(0.5,0.5,11,100)"
   ]
  },
  {
   "cell_type": "code",
   "execution_count": 12,
   "id": "2f690234",
   "metadata": {},
   "outputs": [
    {
     "name": "stdout",
     "output_type": "stream",
     "text": [
      "The optimal weights for the portfolio are:\n",
      "[ 2.39308176  1.81446541 -1.7327044  -0.46855346 -1.00628931]\n",
      "The optimal weight for Inc. (aapl) is: 2.39\n"
     ]
    }
   ],
   "source": [
    "#Q10\n",
    "import cvxpy as cp\n",
    "\n",
    "# Given data\n",
    "V = np.array([ # covariance matrix\n",
    "    [0.21, 0.12, 0.17, 0.13, 0.16],\n",
    "    [0.12, 0.15, 0.12, 0.10, 0.12],\n",
    "    [0.17, 0.12, 0.19, 0.14, 0.15],\n",
    "    [0.13, 0.10, 0.14, 0.15, 0.14],\n",
    "    [0.16, 0.12, 0.15, 0.14, 0.21]\n",
    "])\n",
    "r_bar = np.array([0.69, 0.65, 0.44, 0.36, 0.41]) # expected returns\n",
    "\n",
    "# The variable we are solving for\n",
    "weights = cp.Variable(5)\n",
    "\n",
    "# The objective is to minimize the portfolio variance\n",
    "# and maximize the expected return\n",
    "risk = cp.quad_form(weights, V)\n",
    "return_portfolio = r_bar @ weights\n",
    "objective = cp.Minimize(risk - return_portfolio)\n",
    "\n",
    "# The sum of the weights must be 1\n",
    "constraints = [cp.sum(weights) == 1]\n",
    "\n",
    "# Solving the problem\n",
    "prob = cp.Problem(objective, constraints)\n",
    "prob.solve()\n",
    "\n",
    "# The optimal weights\n",
    "optimal_weights = weights.value\n",
    "\n",
    "# Output the optimal weights\n",
    "print(\"The optimal weights for the portfolio are:\")\n",
    "print(optimal_weights)\n",
    "\n",
    "# Specifically, to output the weight for Meta Platforms, Inc. (formerly Facebook, ticker META):\n",
    "aapl_weight = optimal_weights[0]  # Assuming the 5th stock in the list is Meta/Facebook\n",
    "print(f\"The optimal weight for Inc. (aapl) is: {aapl_weight:.2f}\")\n"
   ]
  },
  {
   "cell_type": "code",
   "execution_count": null,
   "id": "3924ceed",
   "metadata": {},
   "outputs": [],
   "source": [
    "#Q11\n",
    "#有答案，问一下老师"
   ]
  },
  {
   "cell_type": "code",
   "execution_count": 14,
   "id": "89f66b3a",
   "metadata": {},
   "outputs": [
    {
     "data": {
      "text/plain": [
       "4.35"
      ]
     },
     "execution_count": 14,
     "metadata": {},
     "output_type": "execute_result"
    }
   ],
   "source": [
    "#Q12 gpt生成\n",
    "# Given data\n",
    "total_contract_value = 700e6  # $700 million\n",
    "present_day_value = 460e6    # $460 million\n",
    "annual_payment = 2e6         # $2 million per year for 10 years\n",
    "deferred_payment = 680e6     # $680 million deferred until end of year 10\n",
    "\n",
    "# The present value of a series of future payments is calculated using the formula:\n",
    "# PV = P/(1+r)^1 + P/(1+r)^2 + ... + P/(1+r)^n + LumpSum/(1+r)^n\n",
    "# Where PV is the present value, P is the annual payment, r is the interest rate, and n is the number of years\n",
    "# LumpSum is the deferred payment at the end of year 10\n",
    "\n",
    "# We will use a numerical method to find the interest rate r that satisfies the equation for the given PV\n",
    "\n",
    "import numpy as np\n",
    "from scipy.optimize import fsolve\n",
    "\n",
    "def present_value(r):\n",
    "    pv = sum([annual_payment / (1 + r)**i for i in range(1, 11)])\n",
    "    pv += deferred_payment / (1 + r)**10\n",
    "    return pv - present_day_value\n",
    "\n",
    "# Initial guess for the interest rate (it's usually a small number, so we start with something like 0.05)\n",
    "initial_guess = 0.05\n",
    "\n",
    "# Finding the interest rate\n",
    "interest_rate = fsolve(present_value, initial_guess)[0]\n",
    "\n",
    "# Converting to percentage and rounding to two decimal places\n",
    "interest_rate_percentage = round(interest_rate * 100, 2)\n",
    "\n",
    "interest_rate_percentage"
   ]
  },
  {
   "cell_type": "code",
   "execution_count": null,
   "id": "8161a59c",
   "metadata": {},
   "outputs": [],
   "source": []
  }
 ],
 "metadata": {
  "kernelspec": {
   "display_name": "Python 3 (ipykernel)",
   "language": "python",
   "name": "python3"
  },
  "language_info": {
   "codemirror_mode": {
    "name": "ipython",
    "version": 3
   },
   "file_extension": ".py",
   "mimetype": "text/x-python",
   "name": "python",
   "nbconvert_exporter": "python",
   "pygments_lexer": "ipython3",
   "version": "3.9.13"
  }
 },
 "nbformat": 4,
 "nbformat_minor": 5
}
