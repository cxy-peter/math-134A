{
 "cells": [
  {
   "cell_type": "code",
   "execution_count": 1,
   "id": "55c10d2e",
   "metadata": {},
   "outputs": [
    {
     "name": "stdout",
     "output_type": "stream",
     "text": [
      "Original monthly payment: $1028.61\n"
     ]
    }
   ],
   "source": [
    "#calculate monthly payment\n",
    "loan_amount = 100000\n",
    "original_interest_rate = 0.12 / 12\n",
    "original_loan_period = 30 * 12\n",
    "\n",
    "def calculate_monthly_payment(P, r, n):\n",
    "    return P * r * (1 + r)**n / ((1 + r)**n - 1)\n",
    "\n",
    "original_monthly_payment = calculate_monthly_payment(loan_amount, original_interest_rate, original_loan_period)\n",
    "print(f'Original monthly payment: ${original_monthly_payment:.2f}')"
   ]
  },
  {
   "cell_type": "code",
   "execution_count": 11,
   "id": "92910c2c",
   "metadata": {},
   "outputs": [
    {
     "name": "stdout",
     "output_type": "stream",
     "text": [
      "Original monthly payment: $333.06\n"
     ]
    }
   ],
   "source": [
    "#calculate monthly payment\n",
    "loan_amount = 30000\n",
    "original_interest_rate = 0.06 / 12\n",
    "original_loan_period = 10 * 12\n",
    "\n",
    "def calculate_monthly_payment(P, r, n):\n",
    "    return P * r * (1 + r)**n / ((1 + r)**n - 1)\n",
    "\n",
    "original_monthly_payment = calculate_monthly_payment(loan_amount, original_interest_rate, original_loan_period)\n",
    "print(f'Original monthly payment: ${original_monthly_payment:.2f}')"
   ]
  },
  {
   "cell_type": "code",
   "execution_count": 11,
   "id": "ceec0d42",
   "metadata": {},
   "outputs": [
    {
     "name": "stdout",
     "output_type": "stream",
     "text": [
      "Original monthly payment: $209.92\n"
     ]
    }
   ],
   "source": [
    "#calculate monthly payment\n",
    "loan_amount = 25000\n",
    "original_interest_rate = 0.07 / 12\n",
    "original_loan_period = 17 * 12\n",
    "\n",
    "def calculate_monthly_payment(P, r, n):\n",
    "    return P * r * (1 + r)**n / ((1 + r)**n - 1)\n",
    "\n",
    "original_monthly_payment = calculate_monthly_payment(loan_amount, original_interest_rate, original_loan_period)\n",
    "print(f'Original monthly payment: ${original_monthly_payment:.2f}')"
   ]
  },
  {
   "cell_type": "code",
   "execution_count": 2,
   "id": "79f527af",
   "metadata": {},
   "outputs": [
    {
     "name": "stdout",
     "output_type": "stream",
     "text": [
      "Remaining balance after 2 years: $54145.18\n"
     ]
    }
   ],
   "source": [
    "# Step 2: Calculate the remaining balance after 2 years\n",
    "payments_to_go = original_loan_period-(2 * 12)\n",
    "original_interest_rate = 0.06 / 12\n",
    "original_monthly_payment=333.06#计算出来的\n",
    "\n",
    "def calculate_remaining_balance(A, r, n):\n",
    "    remaining_balance = (A/r)*(1-1/(1+r)**n)\n",
    "    return remaining_balance\n",
    "\n",
    "remaining_balance = calculate_remaining_balance(original_monthly_payment, original_interest_rate, payments_to_go)\n",
    "print(f'Remaining balance after 2 years: ${remaining_balance:.2f}')"
   ]
  },
  {
   "cell_type": "code",
   "execution_count": 3,
   "id": "0d2c2d25",
   "metadata": {},
   "outputs": [
    {
     "name": "stdout",
     "output_type": "stream",
     "text": [
      "Net Present Value for not refinancing: $75838.60\n"
     ]
    }
   ],
   "source": [
    "\"\"\"\n",
    "new_interest_rate = 0.045 / 12\n",
    "new_loan_period = 15 * 12\n",
    "\n",
    "new_monthly_payment = calculate_monthly_payment(remaining_balance, new_interest_rate, new_loan_period)\n",
    "print(f'New monthly payment: ${new_monthly_payment:.2f}')\n",
    "\"\"\"\n",
    "# Step 4: Calculate the NPV of both cash flows using our risk-free savings interest\n",
    "#Risk-free savings account interest rate: 3% per annum, compounded monthly\n",
    "savings_interest_rate = 0.03 / 12\n",
    "original_monthly_payment=333.06#计算出来的\n",
    "\n",
    "def calculate_npv(cash_flow, r):\n",
    "    npv = 0\n",
    "    for i, score in enumerate(cash_flow):\n",
    "        npv += score / (1 + r) ** i\n",
    "    return npv\n",
    "\n",
    "cash_flow_no_refinance=[original_monthly_payment for i in range(payments_to_go)]\n",
    "savings_interest_rate = 0.03 / 12\n",
    "NPV_no_refinance=calculate_npv(cash_flow_no_refinance, savings_interest_rate)\n",
    "print(f'Net Present Value for not refinancing: ${NPV_no_refinance:.2f}')"
   ]
  },
  {
   "cell_type": "code",
   "execution_count": 4,
   "id": "27531264",
   "metadata": {},
   "outputs": [
    {
     "ename": "NameError",
     "evalue": "name 'new_monthly_rate' is not defined",
     "output_type": "error",
     "traceback": [
      "\u001b[1;31m---------------------------------------------------------------------------\u001b[0m",
      "\u001b[1;31mNameError\u001b[0m                                 Traceback (most recent call last)",
      "\u001b[1;32m~\\AppData\\Local\\Temp\\ipykernel_13292\\2499956106.py\u001b[0m in \u001b[0;36m<module>\u001b[1;34m\u001b[0m\n\u001b[0;32m      1\u001b[0m \u001b[1;31m# Step 3: If the homeowner chooses to keep the monthly payment amount the same, how many months beyond the original term of 25 years does the mortgage need to be extended to pay off the loan?\u001b[0m\u001b[1;33m\u001b[0m\u001b[1;33m\u001b[0m\u001b[0m\n\u001b[1;32m----> 2\u001b[1;33m \u001b[0mremaining_balance_array\u001b[0m\u001b[1;33m=\u001b[0m\u001b[1;33m[\u001b[0m\u001b[0mcalculate_remaining_balance\u001b[0m\u001b[1;33m(\u001b[0m\u001b[0moriginal_monthly_payment\u001b[0m\u001b[1;33m,\u001b[0m \u001b[0mnew_monthly_rate\u001b[0m\u001b[1;33m,\u001b[0m \u001b[0mi\u001b[0m\u001b[1;33m)\u001b[0m\u001b[1;33m-\u001b[0m\u001b[0mremaining_balance\u001b[0m \u001b[1;32mfor\u001b[0m \u001b[0mi\u001b[0m \u001b[1;32min\u001b[0m \u001b[0mrange\u001b[0m\u001b[1;33m(\u001b[0m\u001b[1;36m100\u001b[0m\u001b[1;33m*\u001b[0m\u001b[1;36m12\u001b[0m\u001b[1;33m)\u001b[0m\u001b[1;33m]\u001b[0m\u001b[1;33m\u001b[0m\u001b[1;33m\u001b[0m\u001b[0m\n\u001b[0m\u001b[0;32m      3\u001b[0m \u001b[1;33m\u001b[0m\u001b[0m\n\u001b[0;32m      4\u001b[0m \u001b[1;31m# Find the index that matches closest with the remaining balance amount\u001b[0m\u001b[1;33m\u001b[0m\u001b[1;33m\u001b[0m\u001b[0m\n\u001b[0;32m      5\u001b[0m \u001b[0mindex_closest_to_zero\u001b[0m \u001b[1;33m=\u001b[0m \u001b[0mmin\u001b[0m\u001b[1;33m(\u001b[0m\u001b[0mrange\u001b[0m\u001b[1;33m(\u001b[0m\u001b[0mlen\u001b[0m\u001b[1;33m(\u001b[0m\u001b[0mremaining_balance_array\u001b[0m\u001b[1;33m)\u001b[0m\u001b[1;33m)\u001b[0m\u001b[1;33m,\u001b[0m \u001b[0mkey\u001b[0m\u001b[1;33m=\u001b[0m\u001b[1;32mlambda\u001b[0m \u001b[0mi\u001b[0m\u001b[1;33m:\u001b[0m \u001b[0mabs\u001b[0m\u001b[1;33m(\u001b[0m\u001b[0mremaining_balance_array\u001b[0m\u001b[1;33m[\u001b[0m\u001b[0mi\u001b[0m\u001b[1;33m]\u001b[0m\u001b[1;33m)\u001b[0m\u001b[1;33m)\u001b[0m\u001b[1;33m\u001b[0m\u001b[1;33m\u001b[0m\u001b[0m\n",
      "\u001b[1;32m~\\AppData\\Local\\Temp\\ipykernel_13292\\2499956106.py\u001b[0m in \u001b[0;36m<listcomp>\u001b[1;34m(.0)\u001b[0m\n\u001b[0;32m      1\u001b[0m \u001b[1;31m# Step 3: If the homeowner chooses to keep the monthly payment amount the same, how many months beyond the original term of 25 years does the mortgage need to be extended to pay off the loan?\u001b[0m\u001b[1;33m\u001b[0m\u001b[1;33m\u001b[0m\u001b[0m\n\u001b[1;32m----> 2\u001b[1;33m \u001b[0mremaining_balance_array\u001b[0m\u001b[1;33m=\u001b[0m\u001b[1;33m[\u001b[0m\u001b[0mcalculate_remaining_balance\u001b[0m\u001b[1;33m(\u001b[0m\u001b[0moriginal_monthly_payment\u001b[0m\u001b[1;33m,\u001b[0m \u001b[0mnew_monthly_rate\u001b[0m\u001b[1;33m,\u001b[0m \u001b[0mi\u001b[0m\u001b[1;33m)\u001b[0m\u001b[1;33m-\u001b[0m\u001b[0mremaining_balance\u001b[0m \u001b[1;32mfor\u001b[0m \u001b[0mi\u001b[0m \u001b[1;32min\u001b[0m \u001b[0mrange\u001b[0m\u001b[1;33m(\u001b[0m\u001b[1;36m100\u001b[0m\u001b[1;33m*\u001b[0m\u001b[1;36m12\u001b[0m\u001b[1;33m)\u001b[0m\u001b[1;33m]\u001b[0m\u001b[1;33m\u001b[0m\u001b[1;33m\u001b[0m\u001b[0m\n\u001b[0m\u001b[0;32m      3\u001b[0m \u001b[1;33m\u001b[0m\u001b[0m\n\u001b[0;32m      4\u001b[0m \u001b[1;31m# Find the index that matches closest with the remaining balance amount\u001b[0m\u001b[1;33m\u001b[0m\u001b[1;33m\u001b[0m\u001b[0m\n\u001b[0;32m      5\u001b[0m \u001b[0mindex_closest_to_zero\u001b[0m \u001b[1;33m=\u001b[0m \u001b[0mmin\u001b[0m\u001b[1;33m(\u001b[0m\u001b[0mrange\u001b[0m\u001b[1;33m(\u001b[0m\u001b[0mlen\u001b[0m\u001b[1;33m(\u001b[0m\u001b[0mremaining_balance_array\u001b[0m\u001b[1;33m)\u001b[0m\u001b[1;33m)\u001b[0m\u001b[1;33m,\u001b[0m \u001b[0mkey\u001b[0m\u001b[1;33m=\u001b[0m\u001b[1;32mlambda\u001b[0m \u001b[0mi\u001b[0m\u001b[1;33m:\u001b[0m \u001b[0mabs\u001b[0m\u001b[1;33m(\u001b[0m\u001b[0mremaining_balance_array\u001b[0m\u001b[1;33m[\u001b[0m\u001b[0mi\u001b[0m\u001b[1;33m]\u001b[0m\u001b[1;33m)\u001b[0m\u001b[1;33m)\u001b[0m\u001b[1;33m\u001b[0m\u001b[1;33m\u001b[0m\u001b[0m\n",
      "\u001b[1;31mNameError\u001b[0m: name 'new_monthly_rate' is not defined"
     ]
    }
   ],
   "source": [
    "# Step 3: If the homeowner chooses to keep the monthly payment amount the same, how many months beyond the original term of 25 years does the mortgage need to be extended to pay off the loan?\n",
    "remaining_balance_array=[calculate_remaining_balance(original_monthly_payment, new_monthly_rate, i)-remaining_balance for i in range(100*12)]\n",
    "\n",
    "# Find the index that matches closest with the remaining balance amount\n",
    "index_closest_to_zero = min(range(len(remaining_balance_array)), key=lambda i: abs(remaining_balance_array[i]))\n",
    "\n",
    "# Calculate the number of months beyond the original term of 25 years\n",
    "months_beyond_original_term = index_closest_to_zero - payments_remaining\n",
    "print(f\"The mortgage needs to be extended by {months_beyond_original_term} months or {(months_beyond_original_term/12):.2f} years beyond the original term of 25 years.\")"
   ]
  },
  {
   "cell_type": "code",
   "execution_count": 9,
   "id": "dbe14c76",
   "metadata": {},
   "outputs": [],
   "source": [
    "#calculate IRR\n",
    "import numpy as np\n",
    "\n",
    "def IRRPoly(cash_flow, m):\n",
    "    coefficients = np.flip(cash_flow)\n",
    "    roots = np.roots(coefficients)\n",
    "    irr_poly = np.real(roots[(roots >= 0)  & (np.iscomplex(roots) == False)])[0]\n",
    "    irr = m*(1 - irr_poly) / irr_poly\n",
    "    return irr"
   ]
  },
  {
   "cell_type": "code",
   "execution_count": 12,
   "id": "07645bb7",
   "metadata": {},
   "outputs": [
    {
     "name": "stdout",
     "output_type": "stream",
     "text": [
      "[  250.   250.   250.   250.   250.   250.   250.   250.   250.   250.\n",
      "   250.   250.   250.   250.   250.   250.   250.   250.   250. 10250.]\n",
      "[-10800.    250.    250.    250.    250.    250.    250.    250.    250.\n",
      "    250.    250.    250.    250.    250.    250.    250.    250.    250.\n",
      "    250.    250.  10250.]\n",
      "The bond's yield to maturity is 4.02%\n"
     ]
    }
   ],
   "source": [
    "#calculate bond YTM\n",
    "import numpy as np\n",
    "\n",
    "def IRRPoly(cash_flow, m):\n",
    "    coefficients = np.flip(cash_flow)\n",
    "    roots = np.roots(coefficients)\n",
    "    irr_poly = np.real(roots[(roots >= 0)  & (np.iscomplex(roots) == False)])[0]\n",
    "    irr = m*(1 - irr_poly) / irr_poly\n",
    "    return irr\n",
    "\n",
    "# Bond characteristics\n",
    "face_value = 10000\n",
    "coupon_payment = 500\n",
    "payments_per_year = 2\n",
    "years_to_maturity = 10\n",
    "current_price = 10800\n",
    "\n",
    "# Cash flows for the bond\n",
    "\n",
    "cash_flows = (coupon_payment / payments_per_year)*np.ones(years_to_maturity * payments_per_year)\n",
    "cash_flows[-1] += face_value\n",
    "print(cash_flows)\n",
    "cash_flows = np.insert(cash_flows, 0, -current_price)\n",
    "print(cash_flows)\n",
    "\n",
    "# Find YTM using IRRPoly function\n",
    "ytm = IRRPoly( cash_flows, payments_per_year)\n",
    "\n",
    "# Convert to a percentage and display the result\n",
    "ytm_percentage = ytm * 100\n",
    "print(f\"The bond's yield to maturity is {ytm_percentage:.2f}%\")"
   ]
  },
  {
   "cell_type": "code",
   "execution_count": 10,
   "id": "a752c040",
   "metadata": {},
   "outputs": [
    {
     "name": "stdout",
     "output_type": "stream",
     "text": [
      "2. Macaulay Duration: 6.84\n"
     ]
    }
   ],
   "source": [
    "#calculate duration\n",
    "def macaulay_duration(c, y, m, n):\n",
    "    \"\"\"\n",
    "    c is the coupon rate per period\n",
    "    y is the yield per period\n",
    "    m is the number of periods per year\n",
    "    n is the number of periods remaining\n",
    "    \"\"\"\n",
    "    \n",
    "    D = ((1+y)/(m*y)) - (1+y+n*(c-y))/(m*c*((1+y)**n-1)+m*y)\n",
    "    return D\n",
    "\n",
    "face_value = 1000\n",
    "coupon_rate = 0.08\n",
    "maturity_years = 10\n",
    "frequency = 2\n",
    "current_ytm = 0.1\n",
    "coupon_payment_per_year = face_value * coupon_rate \n",
    "coupon_rate_per_period=  coupon_rate /frequency\n",
    "yield_to_maturity_per_period = current_ytm / frequency\n",
    "periods = maturity_years * frequency\n",
    "# Step 2: Calculate the Macaulay duration\n",
    "macaulayDuration = macaulay_duration(coupon_rate_per_period, yield_to_maturity_per_period, frequency, periods)\n",
    "print(f\"2. Macaulay Duration: {macaulayDuration:.2f}\")"
   ]
  },
  {
   "cell_type": "code",
   "execution_count": 13,
   "id": "793e0fbb",
   "metadata": {},
   "outputs": [
    {
     "name": "stdout",
     "output_type": "stream",
     "text": [
      "1. Bond Price: 1135.78\n",
      "2. Macaulay Duration: 6.58\n",
      "3. Modified Duration: 6.45\n",
      "4. Estimated New Bond Price: 1062.51\n",
      "5. Actual New Bond Price: 1065.28\n",
      "Price Difference: 2.76\n"
     ]
    }
   ],
   "source": [
    "#calculate bond price\n",
    "import numpy as np\n",
    "\n",
    "def bond_price(F, C, lamb, m, n):\n",
    "    '''\n",
    "    F is the face value of the bond\n",
    "    C is the yearly coupon payment\n",
    "    lamb is the yield of the bond \n",
    "    m is the number of coupon payments per year\n",
    "    n is the number of coupon payments remaning\n",
    "    '''\n",
    "    discount_factor = (1 + lamb / m) ** n\n",
    "    bond_price = F / discount_factor + (C / lamb) * (1 - 1 / discount_factor)\n",
    "    return bond_price\n",
    "\n",
    "def macaulay_duration(c, y, m, n):\n",
    "    \"\"\"\n",
    "    c is the coupon rate per period\n",
    "    y is the yield per period\n",
    "    m is the number of periods per year\n",
    "    n is the number of periods remaining\n",
    "    \"\"\"\n",
    "    \n",
    "    D = ((1+y)/(m*y)) - (1+y+n*(c-y))/(m*c*((1+y)**n-1)+m*y)\n",
    "    return D\n",
    "\n",
    "face_value = 1000\n",
    "coupon_rate = 0.06\n",
    "maturity_years = 8\n",
    "frequency = 2\n",
    "current_ytm = 0.04\n",
    "new_ytm = 0.05\n",
    "coupon_payment_per_year = face_value * coupon_rate \n",
    "coupon_rate_per_period=  coupon_rate /frequency\n",
    "yield_to_maturity_per_period = current_ytm / frequency\n",
    "periods = maturity_years * frequency\n",
    "\n",
    "# Step 1: Calculate the bond price\n",
    "bondPrice = bond_price(face_value, coupon_payment_per_year, current_ytm, frequency, periods)\n",
    "print(f\"1. Bond Price: {bondPrice:.2f}\")\n",
    "\n",
    "# Step 2: Calculate the Macaulay duration\n",
    "macaulayDuration = macaulay_duration(coupon_rate_per_period, yield_to_maturity_per_period, frequency, periods)\n",
    "print(f\"2. Macaulay Duration: {macaulayDuration:.2f}\")\n",
    "\n",
    "# Step 3: Calculate the modified duration\n",
    "modifiedDuration = macaulayDuration / (1 + yield_to_maturity_per_period)\n",
    "print(f\"3. Modified Duration: {modifiedDuration:.2f}\")\n",
    "\n",
    "# Step 4: Estimate the new bond price using the modified duration\n",
    "delta_ytm = new_ytm - current_ytm\n",
    "estimated_new_bond_price = bondPrice * (1 - modifiedDuration * delta_ytm)\n",
    "print(f\"4. Estimated New Bond Price: {estimated_new_bond_price:.2f}\")\n",
    "\n",
    "# Step 5: Calculate the actual new bond price using the updated YTM\n",
    "actual_new_bond_price = bond_price(face_value, coupon_payment_per_year, new_ytm, frequency, periods)\n",
    "print(f\"5. Actual New Bond Price: {actual_new_bond_price:.2f}\")\n",
    "\n",
    "# Compare the estimated bond price to the actual bond price\n",
    "price_difference = actual_new_bond_price - estimated_new_bond_price\n",
    "print(f\"Price Difference: {price_difference:.2f}\")\n"
   ]
  },
  {
   "cell_type": "code",
   "execution_count": 7,
   "id": "677f1e94",
   "metadata": {},
   "outputs": [
    {
     "name": "stdout",
     "output_type": "stream",
     "text": [
      "Weight of Bond A: -2.00\n",
      "Weight of Bond B: 3.00\n",
      "Price of a 5 year, zero-coupon bond with a facevalue of $10,000: $6500.00\n"
     ]
    }
   ],
   "source": [
    "# Solution\n",
    "import numpy as np\n",
    "\n",
    "# Bond A\n",
    "face_value_A = 10000\n",
    "maturity_A = 5\n",
    "coupon_rate_A = 0.06\n",
    "price_A=11000\n",
    "#frequency = 2\n",
    "\n",
    "# Bond B\n",
    "face_value_B = 10000\n",
    "maturity_B = 5\n",
    "coupon_rate_B = 0.04\n",
    "price_B=9500\n",
    "\n",
    "# Create a matrix equation\n",
    "A = np.array([[10000, 10000], \n",
    "            [coupon_rate_A, coupon_rate_B]])\n",
    "            \n",
    "b = np.array([10000, 0])\n",
    "\n",
    "# Solve the matrix equation\n",
    "weights = np.linalg.solve(A, b)\n",
    "weight_A, weight_B = weights\n",
    "\n",
    "print(f\"Weight of Bond A: {weight_A:.2f}\")\n",
    "print(f\"Weight of Bond B: {weight_B:.2f}\")\n",
    "\n",
    "# Calculate the face value of the zero-coupon bond needed to cancel out the coupon payments\n",
    "price_zero = (weight_A * price_A + weight_B * price_B)\n",
    "print(f\"Price of a 5 year, zero-coupon bond with a facevalue of $10,000: ${price_zero:.2f}\")\n",
    "\n"
   ]
  },
  {
   "cell_type": "code",
   "execution_count": 1,
   "id": "cf7b6e6f",
   "metadata": {},
   "outputs": [
    {
     "name": "stdout",
     "output_type": "stream",
     "text": [
      "(a) Original yearly payment: $8882.74\n",
      "(b) Remaining balance after 5 years: $94821.30\n",
      "(c) New yearly payment after 5 years with 9% interest rate: $9653.40\n"
     ]
    }
   ],
   "source": [
    "def calculate_monthly_payment(P, r, n):\n",
    "    return P * r * (1 + r)**n / ((1 + r)**n - 1)\n",
    "\n",
    "def calculate_remaining_balance(A, r, n):\n",
    "    remaining_balance = (A/r)*(1-1/(1+r)**n)\n",
    "    return remaining_balance\n",
    "\n",
    "# (a) Original yearly payment\n",
    "P = 100000  # Principal\n",
    "r = 0.08   # Initial interest rate\n",
    "n = 30     # 30 years\n",
    "\n",
    "original_payment = calculate_monthly_payment(P, r, n)\n",
    "print(f\"(a) Original yearly payment: ${original_payment:.2f}\")\n",
    "new_n=n-5\n",
    "# (b) Remaining balance after 5 years\n",
    "remaining_balance_5_years = calculate_remaining_balance(original_payment, r, new_n)\n",
    "print(f\"(b) Remaining balance after 5 years: ${remaining_balance_5_years:.2f}\")\n",
    "\n",
    "# (c) New yearly payment after 5 years with 9% interest rate\n",
    "r_new = 0.09\n",
    "new_payment = calculate_monthly_payment(remaining_balance_5_years, r_new, new_n)\n",
    "print(f\"(c) New yearly payment after 5 years with 9% interest rate: ${new_payment:.2f}\")\n",
    "\n"
   ]
  },
  {
   "cell_type": "code",
   "execution_count": 8,
   "id": "31e96858",
   "metadata": {},
   "outputs": [
    {
     "name": "stdout",
     "output_type": "stream",
     "text": [
      "[11980.471816382953, 11934.449632300526, 11882.59068333511, 11824.154721604536, 11758.307617266693, 11684.109451937102, 11600.501102053848, 11506.289120677367, 11400.128701924019, 11280.504484863455, 11145.708922869675, 10993.817909664374, 10822.663314132538, 10629.802031865154, 10412.481111662919, 10167.598459207728, 9891.658556976106, 9580.722568329349, 9230.352113553354, 8835.54591529304, 8390.668409042073, 7889.369299655791, 7324.492915616464, 6687.976067150513, 5970.73295019836, 5162.5254533268035, 4251.817016311627, 3225.607954330562, 2069.249897142048, 766.236694507256]\n",
      "[362.8793467230985, 408.90153080552477, 460.7604797709439, 519.196441501514, 585.0435458393574, 659.2417111689496, 742.8500610522029, 837.0620424286835, 943.2224611820318, 1062.8466782425937, 1197.6422402363762, 1349.5332534416757, 1520.6878489735122, 1713.5491312408953, 1930.870051443133, 2175.752703898325, 2451.692606129944, 2762.6285947767005, 3112.999049552698, 3507.8052478130116, 3952.682754063977, 4453.981863450259, 5018.858247489587, 5655.375095955536, 6372.618212907689, 7180.825709779247, 8091.5341467944245, 9117.743208775488, 10274.101265964004, 11577.114468598795]\n",
      "35797.512132018586\n",
      "[97.06012296070993, 96.68727296661768, 96.26713626079001, 95.79371570458615, 95.26025357207662, 94.65913508853735, 93.98177973521031, 93.21851876878753, 92.35845720729961, 91.38931831236063, 90.29726834786896, 89.06671911372501, 87.6801054358819, 86.11763443656494, 84.35700300567927, 82.37307944052026, 80.13754470943039, 77.61848821870899, 74.77995231264774, 71.58141900476956, 67.97723161374165, 63.91594304824534, 59.33958143805533, 54.182822628758196, 48.37205772808865, 41.8243423938019, 34.44621286494866, 26.13235183628105, 16.764085132139652, 6.207687720961202]\n",
      "[2.939877039290069, 3.312727033382317, 3.732863739210019, 4.2062842954138615, 4.739746427923375, 5.340864911462663, 6.018220264789695, 6.781481231212474, 7.641542792700403, 8.610681687639369, 9.702731652131046, 10.933280886274991, 12.319894564118114, 13.882365563435062, 15.642996994320734, 17.626920559479764, 19.862455290569617, 22.381511781291003, 25.22004768735228, 28.418580995230442, 32.022768386258356, 36.08405695175467, 40.66041856194468, 45.8171773712418, 51.627942271911344, 58.17565760619811, 65.55378713505135, 73.86764816371894, 83.23591486786036, 93.7923122790388]\n",
      "270300.5348931813\n",
      "100000.00000000017\n"
     ]
    }
   ],
   "source": [
    "#calculate principle and interest\n",
    "def calculate_monthly_payment(P, r, n):\n",
    "    return P * r * (1 + r)**n / ((1 + r)**n - 1)\n",
    "\n",
    "loan_amount = 100000\n",
    "interest_rate = 0.12\n",
    "loan_term_years = 30\n",
    "num_payments = loan_term_years * 12\n",
    "monthly_rate = interest_rate / 12\n",
    "\n",
    "# Calculate the monthly payment\n",
    "monthly_payment = calculate_monthly_payment(loan_amount, monthly_rate, num_payments)\n",
    "#print(monthly_payment)\n",
    "# Initialize lists for interest, principal, and month number\n",
    "interest_paid = []\n",
    "principal_paid = []\n",
    "interest_paid_ratio = []\n",
    "principal_paid_ratio = []\n",
    "year_numbers = [year + 1 for year in range(loan_term_years)]\n",
    "\n",
    "sum_interest=0\n",
    "sum_principal=0\n",
    "\n",
    "# Calculate interest and principal payments for each year\n",
    "remaining_balance = loan_amount\n",
    "for year in range(loan_term_years):\n",
    "    annual_interest = 0\n",
    "    annual_principal = 0\n",
    "    for month in range(12):\n",
    "        interest = remaining_balance * monthly_rate\n",
    "        principal = monthly_payment - interest\n",
    "        remaining_balance -= principal\n",
    "\n",
    "        annual_interest += interest\n",
    "        annual_principal += principal\n",
    "    sum_interest+=annual_interest\n",
    "    sum_principal+=annual_principal\n",
    "    \n",
    "    interest_paid.append(annual_interest)\n",
    "    principal_paid.append(annual_principal)\n",
    "    \n",
    "    interest_paid_ratio.append(annual_interest / (12*monthly_payment) * 100)\n",
    "    principal_paid_ratio.append(annual_principal / (12*monthly_payment) * 100)\n",
    "    \n",
    "print(interest_paid)\n",
    "print(principal_paid)\n",
    "print((sum(interest_paid[:3])))#前n项之和\n",
    "    \n",
    "print(interest_paid_ratio)\n",
    "print(principal_paid_ratio)\n",
    "\n",
    "print(sum_interest)\n",
    "print(sum_principal)\n"
   ]
  },
  {
   "cell_type": "code",
   "execution_count": null,
   "id": "7269b9a1",
   "metadata": {},
   "outputs": [],
   "source": []
  }
 ],
 "metadata": {
  "kernelspec": {
   "display_name": "Python 3 (ipykernel)",
   "language": "python",
   "name": "python3"
  },
  "language_info": {
   "codemirror_mode": {
    "name": "ipython",
    "version": 3
   },
   "file_extension": ".py",
   "mimetype": "text/x-python",
   "name": "python",
   "nbconvert_exporter": "python",
   "pygments_lexer": "ipython3",
   "version": "3.9.13"
  }
 },
 "nbformat": 4,
 "nbformat_minor": 5
}
