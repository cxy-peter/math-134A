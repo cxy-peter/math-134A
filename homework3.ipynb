{
 "cells": [
  {
   "cell_type": "code",
   "execution_count": 1,
   "id": "0037407e",
   "metadata": {},
   "outputs": [
    {
     "name": "stdout",
     "output_type": "stream",
     "text": [
      "PV: $39927.10\n"
     ]
    }
   ],
   "source": [
    "payments_to_go=5\n",
    "original_interest_rate = 0.08\n",
    "original_monthly_payment=10000\n",
    "\n",
    "def calculate_remaining_balance(A, r, n):\n",
    "    remaining_balance = (A/r)*(1-1/(1+r)**n)\n",
    "    return remaining_balance\n",
    "\n",
    "remaining_balance = calculate_remaining_balance(original_monthly_payment, original_interest_rate, payments_to_go)\n",
    "print(f'PV: ${remaining_balance:.2f}')"
   ]
  },
  {
   "cell_type": "code",
   "execution_count": 2,
   "id": "4ac6e47c",
   "metadata": {},
   "outputs": [
    {
     "name": "stdout",
     "output_type": "stream",
     "text": [
      "PV: $46228.80\n"
     ]
    }
   ],
   "source": [
    "payments_to_go=6\n",
    "original_interest_rate = 0.08\n",
    "original_monthly_payment=10000\n",
    "\n",
    "def calculate_remaining_balance(A, r, n):\n",
    "    remaining_balance = (A/r)*(1-1/(1+r)**n)\n",
    "    return remaining_balance\n",
    "\n",
    "remaining_balance = calculate_remaining_balance(original_monthly_payment, original_interest_rate, payments_to_go)\n",
    "print(f'PV: ${remaining_balance:.2f}')"
   ]
  },
  {
   "cell_type": "code",
   "execution_count": 4,
   "id": "57f02d25",
   "metadata": {},
   "outputs": [
    {
     "name": "stdout",
     "output_type": "stream",
     "text": [
      "expected present value of the annuity: 38386.95\n"
     ]
    }
   ],
   "source": [
    "def calculate_npv(happiness_scores, interest_rate):\n",
    "    npv = 0\n",
    "    for i, score in enumerate(happiness_scores):\n",
    "        npv += score / (1 + interest_rate) ** i\n",
    "    return npv\n",
    "\n",
    "# Define the happiness scores for each career path\n",
    "career_A = [0,0.93,0.85,0.76,0.66,0.56,0.46,0.36,0.26,0.16,0.09,0.04]\n",
    "\n",
    "# Define the discount rate\n",
    "discount_rate = 0.08\n",
    "\n",
    "# Calculate the NPV of happiness scores for both career paths\n",
    "npv_A = calculate_npv(career_A, discount_rate)\n",
    "\n",
    "# Print the results\n",
    "print(f\"expected present value of the annuity: {npv_A*10000:.2f}\")"
   ]
  },
  {
   "cell_type": "code",
   "execution_count": 1,
   "id": "d44e2eef",
   "metadata": {},
   "outputs": [
    {
     "name": "stdout",
     "output_type": "stream",
     "text": [
      "A: $7093.99\n"
     ]
    }
   ],
   "source": [
    "#3.9-1\n",
    "payments_to_go=4\n",
    "original_interest_rate = 0.1\n",
    "#original_monthly_payment=22847\n",
    "PV=22487\n",
    "\n",
    "def calculate_remaining_balance(p, r, n):\n",
    "    remaining_balance =(p*r*(1+r)**n)/(((1+r)**n)-1)\n",
    "    return remaining_balance\n",
    "\n",
    "remaining_balance = calculate_remaining_balance(PV, original_interest_rate, payments_to_go)\n",
    "print(f'A: ${remaining_balance:.2f}')"
   ]
  },
  {
   "cell_type": "code",
   "execution_count": 18,
   "id": "74d82b6f",
   "metadata": {},
   "outputs": [
    {
     "name": "stdout",
     "output_type": "stream",
     "text": [
      "A: $8629.10\n"
     ]
    }
   ],
   "source": [
    "#3.9-2\n",
    "payments_to_go=6\n",
    "original_interest_rate = 0.1\n",
    "#original_monthly_payment=22847\n",
    "PV=37582\n",
    "\n",
    "def calculate_remaining_balance(p, r, n):\n",
    "    remaining_balance =(p*r*(1+r)**n)/(((1+r)**n)-1)\n",
    "    return remaining_balance\n",
    "\n",
    "remaining_balance = calculate_remaining_balance(PV, original_interest_rate, payments_to_go)\n",
    "print(f'A: ${remaining_balance:.2f}')"
   ]
  },
  {
   "cell_type": "code",
   "execution_count": 19,
   "id": "8860f3f6",
   "metadata": {},
   "outputs": [
    {
     "name": "stdout",
     "output_type": "stream",
     "text": [
      "(a) Original yearly payment: $8882.74\n",
      "(b) Remaining balance after 5 years: $94821.30\n",
      "(c) New yearly payment after 5 years with 9% interest rate: $9653.40\n"
     ]
    }
   ],
   "source": [
    "#3.10\n",
    "def calculate_monthly_payment(P, r, n):\n",
    "    return P * r * (1 + r)**n / ((1 + r)**n - 1)\n",
    "\n",
    "def calculate_remaining_balance(A, r, n):\n",
    "    remaining_balance = (A/r)*(1-1/(1+r)**n)\n",
    "    return remaining_balance\n",
    "\n",
    "# (a) Original yearly payment\n",
    "P = 100000  # Principal\n",
    "r = 0.08   # Initial interest rate\n",
    "n = 30     # 30 years\n",
    "\n",
    "original_payment = calculate_monthly_payment(P, r, n)\n",
    "print(f\"(a) Original yearly payment: ${original_payment:.2f}\")\n",
    "new_n=n-5\n",
    "# (b) Remaining balance after 5 years\n",
    "remaining_balance_5_years = calculate_remaining_balance(original_payment, r, new_n)\n",
    "print(f\"(b) Remaining balance after 5 years: ${remaining_balance_5_years:.2f}\")\n",
    "\n",
    "# (c) New yearly payment after 5 years with 9% interest rate\n",
    "r_new = 0.09\n",
    "new_payment = calculate_monthly_payment(remaining_balance_5_years, r_new, new_n)\n",
    "print(f\"(c) New yearly payment after 5 years with 9% interest rate: ${new_payment:.2f}\")\n"
   ]
  },
  {
   "cell_type": "code",
   "execution_count": 30,
   "id": "6cb91f16",
   "metadata": {
    "collapsed": true
   },
   "outputs": [
    {
     "name": "stdout",
     "output_type": "stream",
     "text": [
      "[3.0, 3.0, 3.0, 3.0, 3.0, 3.0, 3.0, 3.0, 3.0, 3.0, 3.0, 3.0, 3.0, 3.0, 3.0, 3.0, 3.0, 3.0, 3.0, 3.0, 3.0, 3.0, 3.0, 3.0, 3.0, 3.0, 3.0, 3.0, 3.0, 3.0, 3.0, 3.0, 3.0, 3.0, 3.0, 3.0, 3.0, 3.0, 3.0, 3.0, 3.0, 3.0, 3.0, 3.0, 3.0, 3.0, 3.0, 3.0, 3.0, 3.0, 3.0, 3.0, 3.0, 3.0, 3.0, 3.0, 3.0, 3.0, 3.0, 3.0, 3.0, 3.0, 3.0, 3.0, 3.0, 3.0, 3.0, 3.0, 3.0, 3.0, 3.0, 3.0, 3.0, 3.0, 3.0, 3.0, 3.0, 3.0, 3.0, 3.0, 3.0, 3.0, 3.0, 3.0, 3.0, 3.0, 3.0, 3.0, 3.0, 3.0, 3.0, 3.0, 3.0, 3.0, 3.0, 3.0, 3.0, 3.0, 3.0, 3.0, 3.0, 3.0, 3.0, 3.0, 3.0, 3.0, 3.0, 3.0, 3.0, 3.0, 3.0, 3.0, 3.0, 3.0, 3.0, 3.0, 3.0, 3.0, 3.0, 3.0, 3.0, 3.0, 3.0, 3.0, 3.0, 3.0, 3.0, 3.0, 3.0, 3.0, 3.0, 3.0, 3.0, 3.0, 3.0, 3.0, 3.0, 3.0, 3.0, 3.0, 3.0, 3.0, 3.0, 3.0, 3.0, 3.0, 3.0, 3.0, 3.0, 3.0, 3.0, 3.0, 3.0, 3.0, 3.0, 3.0, 3.0, 3.0, 3.0, 3.0, 3.0, 3.0, 3.0, 3.0, 3.0, 3.0, 3.0, 3.0, 3.0, 3.0, 3.0, 3.0, 3.0, 3.0, 3.0, 3.0, 3.0, 3.0, 3.0, 3.0, 3.0, 3.0, 3.0, 3.0, 3.0, 3.0, 3.0, 3.0, 3.0, 3.0, 3.0, 3.0, 3.0, 3.0, 3.0, 3.0, 3.0, 3.0, 3.0, 3.0, 3.0, 3.0, 3.0, 3.0, 3.0, 3.0, 3.0, 3.0, 3.0, 3.0, 3.0, 3.0, 3.0, 3.0, 3.0, 3.0, 3.0, 3.0, 3.0, 3.0, 3.0, 3.0, 3.0, 3.0, 3.0, 3.0, 3.0, 3.0, 3.0, 3.0, 3.0, 3.0, 3.0, 3.0, 3.0, 3.0, 3.0, 3.0, 3.0, 3.0, 3.0, 3.0, 3.0, 3.0, 3.0, 3.0, 3.0, 3.0, 3.0, 3.0, 3.0, 3.0, 3.0, 3.0, 3.0, 3.0, 3.0, 3.0, 3.0, 3.0, 3.0, 3.0, 3.0, 3.0, 3.0, 3.0, 3.0, 3.0, 3.0, 3.0, 3.0, 3.0, 3.0, 3.0, 3.0, 3.0, 3.0, 3.0, 3.0, 3.0, 3.0, 3.0, 3.0, 3.0, 3.0, 3.0, 3.0, 3.0, 3.0, 3.0, 3.0, 3.0, 3.0, 3.0, 3.0, 3.0, 3.0, 3.0, 3.0, 3.0, 3.0, 3.0, 3.0, 3.0, 3.0, 3.0, 3.0, 3.0, 3.0, 3.0, 3.0, 3.0, 3.0, 3.0, 3.0, 3.0, 3.0, 3.0, 3.0, 3.0, 3.0, 3.0, 3.0, 3.0, 3.0, 3.0, 3.0, 3.0, 3.0, 3.0, 3.0, 3.0, 3.0, 3.0, 3.0, 3.0, 3.0, 3.0, 3.0, 3.0, 3.0, 3.0, 3.0, 3.0, 3.0, 3.0, 3.0, 3.0, 3.0, 3.0, 3.0, 3.0, 3.0, 3.0, 3.0, 3.0, 3.0, 3.0, 3.0, 3.0, 3.0, 3.0, 3.0, 3.0, 3.0, 3.0, 3.0, 3.0, 3.0, 3.0, 3.0, 3.0, 3.0, 3.0, 3.0, 3.0, 3.0, 3.0, 3.0, 3.0, 3.0, 3.0, 3.0, 3.0, 3.0, 3.0, 3.0, 3.0, 3.0, 3.0, 3.0, 3.0, 3.0, 3.0, 3.0, 3.0, 3.0, 3.0, 3.0, 3.0, 3.0, 3.0, 3.0, 3.0, 3.0, 3.0, 3.0, 3.0, 3.0, 3.0, 3.0, 3.0, 3.0, 3.0, 3.0, 3.0, 3.0, 3.0, 3.0, 3.0, 3.0, 3.0, 3.0, 3.0, 3.0, 3.0, 3.0, 3.0, 3.0, 3.0, 3.0, 3.0, 3.0, 3.0, 3.0, 3.0, 3.0, 3.0, 3.0, 3.0, 3.0, 3.0, 3.0, 3.0, 3.0, 3.0, 3.0, 3.0, 3.0, 3.0, 3.0, 3.0, 3.0, 3.0, 3.0, 3.0, 3.0, 3.0, 3.0, 3.0, 3.0, 3.0, 3.0, 3.0, 3.0, 3.0, 3.0, 3.0, 3.0, 3.0, 3.0, 3.0, 3.0, 3.0, 3.0, 3.0, 3.0, 3.0, 3.0, 3.0, 3.0, 3.0, 3.0, 3.0, 3.0, 3.0, 3.0, 3.0, 3.0, 3.0, 3.0, 3.0, 3.0, 3.0, 3.0, 3.0, 3.0, 3.0, 3.0, 3.0, 3.0, 3.0, 3.0, 3.0, 3.0, 3.0, 3.0, 3.0, 3.0, 3.0, 3.0, 3.0, 3.0, 3.0, 3.0, 3.0, 3.0, 3.0, 3.0, 3.0, 3.0, 3.0, 3.0, 3.0, 3.0, 3.0, 3.0, 3.0, 3.0, 3.0, 3.0, 3.0, 3.0, 3.0, 3.0, 3.0, 3.0, 3.0, 3.0, 3.0, 3.0, 3.0, 3.0, 3.0, 3.0, 3.0, 3.0, 3.0, 3.0, 3.0, 3.0, 3.0, 3.0, 3.0, 3.0, 3.0, 3.0, 3.0, 3.0, 3.0, 3.0, 3.0, 3.0, 3.0, 3.0, 3.0, 3.0, 3.0, 3.0, 3.0, 3.0, 3.0, 3.0, 3.0, 3.0, 3.0, 3.0, 3.0, 3.0, 3.0, 3.0, 3.0, 3.0, 3.0, 3.0, 3.0, 3.0, 3.0, 3.0, 3.0, 3.0, 3.0, 3.0, 3.0, 3.0, 3.0, 3.0, 3.0, 3.0, 3.0, 3.0, 3.0, 3.0, 3.0, 3.0, 3.0, 3.0, 3.0, 3.0, 3.0, 3.0, 3.0, 3.0, 3.0, 3.0, 3.0, 3.0, 3.0, 3.0, 3.0, 3.0, 3.0, 3.0, 3.0, 3.0, 3.0, 3.0, 3.0, 3.0, 3.0, 3.0, 3.0, 3.0, 3.0, 3.0, 3.0, 3.0, 3.0, 3.0, 3.0, 3.0, 3.0, 3.0, 3.0, 3.0, 3.0, 3.0, 3.0, 3.0, 3.0, 3.0, 3.0, 3.0, 3.0, 3.0, 3.0, 3.0, 3.0, 3.0, 3.0, 3.0, 3.0, 3.0, 3.0, 3.0, 3.0, 3.0, 3.0, 3.0, 3.0, 3.0, 3.0, 3.0, 3.0, 3.0, 3.0, 3.0, 3.0, 3.0, 3.0, 3.0, 3.0, 3.0, 3.0, 3.0, 3.0, 3.0, 3.0, 3.0, 3.0, 3.0, 3.0, 3.0, 3.0, 3.0, 3.0, 3.0, 3.0, 3.0, 3.0, 3.0, 3.0, 3.0, 3.0, 3.0, 3.0, 3.0, 3.0, 3.0, 3.0, 3.0, 3.0, 3.0, 3.0, 3.0, 3.0, 3.0, 3.0, 3.0, 3.0, 3.0, 3.0, 3.0, 3.0, 3.0, 3.0, 3.0, 3.0, 3.0, 3.0, 3.0, 3.0, 3.0, 3.0, 3.0, 3.0, 3.0, 3.0, 3.0, 3.0, 3.0, 3.0, 3.0, 3.0, 3.0, 3.0, 3.0, 3.0, 3.0, 3.0, 3.0, 3.0, 3.0, 3.0, 3.0, 3.0, 3.0, 3.0, 3.0, 3.0, 3.0, 3.0, 3.0, 3.0, 3.0, 3.0, 3.0, 3.0, 3.0, 3.0, 3.0, 3.0, 3.0, 3.0, 3.0, 3.0, 3.0, 3.0, 3.0, 3.0, 3.0, 3.0, 3.0, 3.0, 3.0, 3.0, 3.0, 3.0, 3.0, 3.0, 3.0, 3.0, 3.0, 3.0, 3.0, 3.0, 3.0, 3.0, 3.0, 3.0, 3.0, 3.0, 3.0, 3.0, 3.0, 3.0, 3.0, 3.0, 3.0, 3.0, 3.0, 3.0, 3.0, 3.0, 3.0, 3.0, 3.0, 3.0, 3.0, 3.0, 3.0, 3.0, 3.0, 3.0, 3.0, 3.0, 3.0, 3.0, 3.0, 3.0, 3.0, 3.0, 3.0, 3.0, 3.0, 3.0, 3.0, 3.0, 3.0, 3.0, 3.0, 3.0, 3.0, 3.0, 3.0, 3.0, 3.0, 3.0, 3.0, 3.0, 3.0, 3.0, 3.0, 3.0, 3.0, 3.0, 3.0, 3.0, 3.0, 3.0, 3.0, 3.0, 3.0, 3.0, 3.0, 3.0, 3.0, 3.0, 3.0, 3.0, 3.0, 3.0, 3.0, 3.0, 3.0, 3.0, 3.0, 3.0, 3.0, 3.0, 3.0, 3.0, 3.0, 3.0, 3.0, 3.0, 3.0, 3.0, 3.0, 3.0, 3.0, 3.0, 3.0, 3.0, 3.0, 3.0, 3.0, 3.0, 3.0, 3.0, 3.0, 3.0, 3.0, 3.0, 3.0, 3.0, 3.0, 3.0, 3.0, 3.0, 3.0, 3.0, 3.0, 3.0, 3.0, 3.0, 3.0, 3.0, 3.0, 3.0, 3.0, 3.0, 3.0, 3.0, 3.0, 3.0, 3.0, 3.0, 3.0, 3.0, 3.0, 3.0, 3.0, 3.0, 3.0, 3.0, 3.0, 3.0, 3.0, 3.0, 3.0, 3.0, 3.0, 3.0, 3.0, 3.0, 3.0, 3.0, 3.0, 3.0] [-1.0] [-1.0]\n"
     ]
    }
   ],
   "source": [
    "\n"
   ]
  },
  {
   "cell_type": "code",
   "execution_count": 26,
   "id": "ef6193fe",
   "metadata": {},
   "outputs": [
    {
     "name": "stdout",
     "output_type": "stream",
     "text": [
      "Collecting gekko\n",
      "  Downloading gekko-1.0.6-py3-none-any.whl (12.2 MB)\n",
      "     ---------------------------------------- 12.2/12.2 MB 3.7 MB/s eta 0:00:00\n",
      "Requirement already satisfied: numpy>=1.8 in d:\\anaconda\\lib\\site-packages (from gekko) (1.24.3)\n",
      "Installing collected packages: gekko\n",
      "Successfully installed gekko-1.0.6\n",
      "Note: you may need to restart the kernel to use updated packages.\n"
     ]
    }
   ],
   "source": [
    "pip install gekko"
   ]
  },
  {
   "cell_type": "code",
   "execution_count": 35,
   "id": "2d4dff1c",
   "metadata": {},
   "outputs": [
    {
     "name": "stdout",
     "output_type": "stream",
     "text": [
      "[ 3. -1. -1.]\n",
      "[ 2850. -1100.  -900.]\n"
     ]
    }
   ],
   "source": [
    "#3.11-1\n",
    "from scipy import linalg\n",
    "import numpy as np\n",
    "\n",
    "A = np.array([[1000, 1000, 1000], [4, 4, 8], [0, 1, -1]])  # A代表系数矩阵\n",
    "b = np.array([1000, 0, 0])  # b代表常数列\n",
    "x = linalg.solve(A, b)\n",
    "#print(x)\n",
    "y=np.array([950,1100,900])\n",
    "print(x*y)"
   ]
  },
  {
   "cell_type": "code",
   "execution_count": 36,
   "id": "c25f87f9",
   "metadata": {},
   "outputs": [
    {
     "name": "stdout",
     "output_type": "stream",
     "text": [
      "[1900.    0. -900.]\n"
     ]
    }
   ],
   "source": [
    "#3.11-2\n",
    "from scipy import linalg\n",
    "import numpy as np\n",
    "\n",
    "A = np.array([[1000, 1000, 1000], [4, 4, 8], [0, 1, -1]])  # A代表系数矩阵\n",
    "b = np.array([1000, 0, 1])  # b代表常数列\n",
    "x = linalg.solve(A, b)\n",
    "#print(x)\n",
    "y=np.array([950,1100,900])\n",
    "print(x*y)"
   ]
  },
  {
   "cell_type": "code",
   "execution_count": null,
   "id": "c99ba5f6",
   "metadata": {},
   "outputs": [],
   "source": []
  }
 ],
 "metadata": {
  "kernelspec": {
   "display_name": "Python 3 (ipykernel)",
   "language": "python",
   "name": "python3"
  },
  "language_info": {
   "codemirror_mode": {
    "name": "ipython",
    "version": 3
   },
   "file_extension": ".py",
   "mimetype": "text/x-python",
   "name": "python",
   "nbconvert_exporter": "python",
   "pygments_lexer": "ipython3",
   "version": "3.9.13"
  }
 },
 "nbformat": 4,
 "nbformat_minor": 5
}
