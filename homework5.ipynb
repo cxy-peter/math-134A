{
 "cells": [
  {
   "cell_type": "code",
   "execution_count": 6,
   "id": "c0bb2b17",
   "metadata": {},
   "outputs": [
    {
     "name": "stdout",
     "output_type": "stream",
     "text": [
      "Collecting pulp\n",
      "  Downloading PuLP-2.7.0-py3-none-any.whl (14.3 MB)\n",
      "     ---------------------------------------- 14.3/14.3 MB 9.2 MB/s eta 0:00:00\n",
      "Installing collected packages: pulp\n",
      "Successfully installed pulp-2.7.0\n",
      "Note: you may need to restart the kernel to use updated packages.\n"
     ]
    }
   ],
   "source": [
    "pip install pulp"
   ]
  },
  {
   "cell_type": "code",
   "execution_count": 5,
   "id": "7127e459",
   "metadata": {},
   "outputs": [
    {
     "name": "stdout",
     "output_type": "stream",
     "text": [
      "Status: Optimal\n",
      "Optimal Solution:\n",
      "x1 = 0.0\n",
      "x10 = 1.0\n",
      "x2 = 0.0\n",
      "x3 = 0.0\n",
      "x4 = 1.0\n",
      "x5 = 0.0\n",
      "x6 = 1.0\n",
      "x7 = 0.0\n",
      "x8 = 0.0\n",
      "x9 = 0.0\n",
      "Optimal Value = 7.8\n"
     ]
    }
   ],
   "source": [
    "#problem two\n",
    "import pulp\n",
    "\n",
    "# Create a linear programming problem\n",
    "lp_problem = pulp.LpProblem(\"LP Problem\", pulp.LpMaximize)\n",
    "\n",
    "# Define the variables x1 to x10\n",
    "x = [pulp.LpVariable(f'x{i}', 0, 1, pulp.LpBinary) for i in range(1, 11)]\n",
    "\n",
    "# Define additional binary variables y and z\n",
    "y = pulp.LpVariable(\"y\", 0, 1, pulp.LpBinary)\n",
    "z = pulp.LpVariable(\"z\", 0, 1, pulp.LpBinary)\n",
    "\n",
    "# Define the objective function to maximize\n",
    "lp_problem += 4*x[0] + 5*x[1] + 3*x[2] + 4.3*x[3] + x[4] + 1.5*x[5] + 2.5*x[6] + 0.3*x[7] + x[8] + 2*x[9]\n",
    "\n",
    "# Define the constraints\n",
    "lp_problem += 2*x[0] + 3*x[1] + 1.5*x[2] + 2.2*x[3] + 0.5*x[4] + 1.5*x[5] + 2.5*x[6] + 0.1*x[7] + 0.6*x[8] + x[9] <= 5\n",
    "lp_problem += x[0] + x[1] + x[2] + x[3] <= 1\n",
    "lp_problem += x[4] + x[5] + x[6] <= 1\n",
    "lp_problem += x[7] + x[8] + x[9] <= 1\n",
    "\n",
    "# Additional constraints to represent (x2 + x4) * (1 - (x6 + x7)) == 0\n",
    "\"\"\"\n",
    "\n",
    "#lp_problem += x[1] + x[3] <= 1  # x2 + x4 <= 1\n",
    "#lp_problem += x[6] + x[7] <= 1  # x6 + x7 <= 1\n",
    "lp_problem += (x[1] + x[3])*(1-(x[6]+x[7])) < 0\n",
    "lp_problem += (x[1] + x[3])*(1-(x[6]+x[7])) > 0\n",
    "\"\"\"\n",
    "\"\"\"\n",
    "lp_problem += y >= x[1] + x[3] - 1\n",
    "lp_problem += y <= x[1] + x[3]\n",
    "lp_problem += z >= 1 - (x[6] + x[7])\n",
    "lp_problem += z <= 1 - x[6] - x[7]\n",
    "lp_problem += y + z == 1\"\"\"\n",
    "lp_problem += x[1] <= x[5] + x[6]\n",
    "lp_problem += x[3] <= x[5] + x[6]\n",
    "# Solve the problem\n",
    "lp_problem.solve()\n",
    "\n",
    "# Print the results\n",
    "print(\"Status:\", pulp.LpStatus[lp_problem.status])\n",
    "print(\"Optimal Solution:\")\n",
    "for var in lp_problem.variables():\n",
    "    print(f\"{var.name} = {var.varValue}\")\n",
    "print(\"Optimal Value =\", pulp.value(lp_problem.objective))\n",
    "\n"
   ]
  },
  {
   "cell_type": "code",
   "execution_count": 7,
   "id": "a6082f2b",
   "metadata": {},
   "outputs": [
    {
     "name": "stdout",
     "output_type": "stream",
     "text": [
      "Selected Projects:\n",
      "Project 4\n",
      "Project 5\n",
      "Project 6\n",
      "Project 7\n"
     ]
    }
   ],
   "source": [
    "#problem 3\n",
    "# Use %pip install pulp\n",
    "import pulp\n",
    "\n",
    "# Cash flows for the first two years\n",
    "cash_flow_year1 = [-90000, -80000, -50000, -20000, -40000,-80000,-80000]\n",
    "cash_flow_year2 = [-58000, -80000, -100000, -64000, -50000,-20000,-100000]\n",
    "\n",
    "# Net present values\n",
    "npv = [150000, 200000, 100000, 100000, 120000,150000,240000]\n",
    "\n",
    "# Budget and interest rate\n",
    "budget_year1 = 250000\n",
    "budget_year2 = 250000\n",
    "interest_rate = 0.1\n",
    "\n",
    "# Create the LP problem\n",
    "problem = pulp.LpProblem(\"Project_Selection\", pulp.LpMaximize)\n",
    "\n",
    "# Decision variables\n",
    "x = pulp.LpVariable.dicts(\"x\", range(7), 0, 1, cat=\"Integer\")\n",
    "\n",
    "# Objective function\n",
    "problem += pulp.lpSum([x[i] * npv[i] for i in range(7)]), \"Maximize Total NPV\"\n",
    "\n",
    "# Constraints\n",
    "problem += pulp.lpSum([x[i] * -cash_flow_year1[i] for i in range(7)]) <= budget_year1, \"Year 1 Budget\"\n",
    "problem += pulp.lpSum([x[i] * -cash_flow_year2[i] for i in range(7)]) <= budget_year2 + interest_rate * (budget_year1 - pulp.lpSum([x[i] * cash_flow_year1[i] for i in range(5)])), \"Year 2 Budget\"\n",
    "\n",
    "# Solve the problem\n",
    "problem.solve()\n",
    "\n",
    "# Print the results\n",
    "print(\"Selected Projects:\")\n",
    "for i in range(7):\n",
    "    if x[i].value() == 1:\n",
    "        print(f\"Project {i + 1}\")\n",
    "\n"
   ]
  },
  {
   "cell_type": "code",
   "execution_count": 17,
   "id": "6df36ca3",
   "metadata": {},
   "outputs": [
    {
     "data": {
      "text/plain": [
       "2393.0575899038395"
      ]
     },
     "execution_count": 17,
     "metadata": {},
     "output_type": "execute_result"
    }
   ],
   "source": [
    "#problem 8\n",
    "# Calculation for part B\n",
    "\n",
    "g = 400\n",
    "d = 1 / 1.1\n",
    "K = [213.81, 211.45, 208.17, 203.58, 197.13, 187.96, 174.79, 155.47, 126.28, 80.00]\n",
    "x=[0 for i in range(11)]\n",
    "z=[0 for i in range(10)]\n",
    "\n",
    "x[0] = 50000\n",
    "# Calculate z_j and x_{j+1} for each year.\n",
    "for j in range(9):\n",
    "    z[j] = ((g - d * K[j+1]) * x[j]) / 1000\n",
    "    x[j+1] = x[j] - z[j]\n",
    "z[9]=g*x[9]/1000\n",
    "x[10] = x[9] - z[9]\n",
    "\n",
    "# Calculate remaining gold after 10 years\n",
    "remaining_gold = x[-1]\n",
    "\n",
    "# Calculate the value of the mine after 10 years\n",
    "K_10 = 220  # K-value for an infinite time horizon\n",
    "\n",
    "\n",
    "remaining_gold"
   ]
  },
  {
   "cell_type": "code",
   "execution_count": 14,
   "id": "8c46c4ab",
   "metadata": {},
   "outputs": [
    {
     "name": "stdout",
     "output_type": "stream",
     "text": [
      "Maximum present value of profits: $366,743.80\n",
      "Optimal pumping strategy: Enhanced Pumping, Enhanced Pumping, Normal Pumping\n"
     ]
    }
   ],
   "source": [
    "#problem 9\n",
    "initial_reserves = 100000\n",
    "oil_price = 10\n",
    "interest_rate = 0.10\n",
    "years = 3\n",
    "\n",
    "actions = [(\"No Pumping\", 0, 0), \n",
    "           (\"Normal Pumping\", 0.20, 50000), \n",
    "           (\"Enhanced Pumping\", 0.36, 120000)]\n",
    "\n",
    "# Dynamic programming table: rows = years, columns = reserves\n",
    "dp = [[0] * (initial_reserves + 1) for _ in range(years+1)]\n",
    "actions_taken = [[None] * (initial_reserves + 1) for _ in range(years+1)]\n",
    "\n",
    "for year in reversed(range(years)):\n",
    "    for reserves in range(initial_reserves+1):\n",
    "        best_profit = -float('inf')\n",
    "        best_action = None\n",
    "        \n",
    "        for action_name, depletion_rate, cost in actions:\n",
    "            barrels_pumped = int(reserves * depletion_rate)\n",
    "            revenue_from_oil = barrels_pumped * oil_price\n",
    "            remaining_reserves = reserves - barrels_pumped\n",
    "            \n",
    "            profit_this_year = revenue_from_oil - cost\n",
    "            total_profit = profit_this_year + dp[year+1][remaining_reserves] / (1 + interest_rate)\n",
    "            \n",
    "            if total_profit > best_profit:\n",
    "                best_profit = total_profit\n",
    "                best_action = action_name\n",
    "        \n",
    "        dp[year][reserves] = best_profit\n",
    "        actions_taken[year][reserves] = best_action\n",
    "\n",
    "max_profit = dp[0][initial_reserves]\n",
    "strategy = []\n",
    "res = initial_reserves\n",
    "for year in range(years):\n",
    "    strategy.append(actions_taken[year][res])\n",
    "    if actions_taken[year][res] == \"No Pumping\":\n",
    "        pass\n",
    "    elif actions_taken[year][res] == \"Normal Pumping\":\n",
    "        res -= int(res * 0.20)\n",
    "    else:\n",
    "        res -= int(res * 0.36)\n",
    "\n",
    "print(f\"Maximum present value of profits: ${max_profit:,.2f}\")\n",
    "print(f\"Optimal pumping strategy: {', '.join(strategy)}\")\n"
   ]
  },
  {
   "cell_type": "code",
   "execution_count": 16,
   "id": "b24b2c1a",
   "metadata": {},
   "outputs": [
    {
     "data": {
      "text/plain": [
       "119929189.60347521"
      ]
     },
     "execution_count": 16,
     "metadata": {},
     "output_type": "execute_result"
    }
   ],
   "source": [
    "#problem 12\n",
    "D1 = 10000000\n",
    "G = 0.10\n",
    "g = 0.05\n",
    "r = 0.15\n",
    "k = 5\n",
    "\n",
    "PV_high = sum([D1 * (1 + G)**t / (1 + r)**(t+1) for t in range(k)])\n",
    "PV_stable0 = D1 * (1 + G)**k / ((r - g) * (1 + r)**k)\n",
    "\n",
    "V = PV_high + PV_stable0\n",
    "V"
   ]
  },
  {
   "cell_type": "code",
   "execution_count": null,
   "id": "ec096ec7",
   "metadata": {},
   "outputs": [],
   "source": []
  }
 ],
 "metadata": {
  "kernelspec": {
   "display_name": "Python 3 (ipykernel)",
   "language": "python",
   "name": "python3"
  },
  "language_info": {
   "codemirror_mode": {
    "name": "ipython",
    "version": 3
   },
   "file_extension": ".py",
   "mimetype": "text/x-python",
   "name": "python",
   "nbconvert_exporter": "python",
   "pygments_lexer": "ipython3",
   "version": "3.9.13"
  }
 },
 "nbformat": 4,
 "nbformat_minor": 5
}
