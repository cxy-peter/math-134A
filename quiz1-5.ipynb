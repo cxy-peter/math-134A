{
 "cells": [
  {
   "cell_type": "code",
   "execution_count": 1,
   "id": "30586407",
   "metadata": {},
   "outputs": [
    {
     "data": {
      "text/plain": [
       "0.0957"
      ]
     },
     "execution_count": 1,
     "metadata": {},
     "output_type": "execute_result"
    }
   ],
   "source": [
    "#Q1-1\n",
    "# Given Data\n",
    "effective_annual_rate = 0.10  # 10% effective annual rate\n",
    "\n",
    "# The formula to convert effective annual rate to nominal annual rate under monthly compounding is:\n",
    "# effective_annual_rate = (1 + nominal_rate/12) ** 12 - 1\n",
    "# Rearranging the formula to solve for nominal_rate:\n",
    "# (1 + effective_annual_rate) = (1 + nominal_rate/12) ** 12\n",
    "# nominal_rate = 12 * ((1 + effective_annual_rate) ** (1/12) - 1)\n",
    "\n",
    "nominal_rate = 12 * ((1 + effective_annual_rate) ** (1/12) - 1)\n",
    "nominal_rate_rounded = round(nominal_rate, 4)\n",
    "nominal_rate_rounded\n"
   ]
  },
  {
   "cell_type": "code",
   "execution_count": 2,
   "id": "cc058afa",
   "metadata": {},
   "outputs": [
    {
     "data": {
      "text/plain": [
       "0.0953"
      ]
     },
     "execution_count": 2,
     "metadata": {},
     "output_type": "execute_result"
    }
   ],
   "source": [
    "#Q1-2\n",
    "import math\n",
    "\n",
    "# Given Data for continuous compounding\n",
    "effective_annual_rate_continuous = 0.10  # 10% effective annual rate\n",
    "\n",
    "# The formula to convert effective annual rate to nominal annual rate under continuous compounding is:\n",
    "# effective_annual_rate = e^(nominal_rate) - 1\n",
    "# Rearranging the formula to solve for nominal_rate:\n",
    "# e^(nominal_rate) = 1 + effective_annual_rate\n",
    "# nominal_rate = ln(1 + effective_annual_rate)\n",
    "\n",
    "nominal_rate_continuous = math.log(1 + effective_annual_rate_continuous)\n",
    "nominal_rate_continuous_rounded = round(nominal_rate_continuous, 4)\n",
    "nominal_rate_continuous_rounded\n"
   ]
  },
  {
   "cell_type": "code",
   "execution_count": 3,
   "id": "d6d462b0",
   "metadata": {},
   "outputs": [
    {
     "data": {
      "text/plain": [
       "4504260"
      ]
     },
     "execution_count": 3,
     "metadata": {},
     "output_type": "execute_result"
    }
   ],
   "source": [
    "#Q1-3\n",
    "# Given Data\n",
    "total_payments = 40\n",
    "annual_payment = 250000  # $250,000 per year\n",
    "interest_rate = 0.05  # 5% interest rate\n",
    "first_payment_immediate = True\n",
    "\n",
    "# Formula for present value of an annuity (ordinary or due):\n",
    "# PV = P * [(1 - (1 + r)^-n) / r]\n",
    "# For an annuity due (first payment immediate), the formula is:\n",
    "# PV_due = PV_ordinary * (1 + r)\n",
    "\n",
    "# Calculating the present value of an ordinary annuity\n",
    "present_value_ordinary = annual_payment * ((1 - (1 + interest_rate) ** -total_payments) / interest_rate)\n",
    "\n",
    "# Adjusting for annuity due (first payment immediate)\n",
    "if first_payment_immediate:\n",
    "    present_value = present_value_ordinary * (1 + interest_rate)\n",
    "else:\n",
    "    present_value = present_value_ordinary\n",
    "\n",
    "# Rounding to the nearest integer dollar\n",
    "present_value_rounded = round(present_value)\n",
    "present_value_rounded\n"
   ]
  },
  {
   "cell_type": "code",
   "execution_count": 4,
   "id": "b619046b",
   "metadata": {},
   "outputs": [
    {
     "data": {
      "text/latex": [
       "$\\displaystyle 3.6$"
      ],
      "text/plain": [
       "3.6"
      ]
     },
     "execution_count": 4,
     "metadata": {},
     "output_type": "execute_result"
    }
   ],
   "source": [
    "#Q1-4\n",
    "import sympy as sp\n",
    "\n",
    "# Given data from the problem\n",
    "interest_rate = 0.10  # Interest rate of 10%\n",
    "npv_cut_later = 1.48  # NPV when cutting after 3 years\n",
    "\n",
    "# We need to find the future value (revenue) obtained in 4 years that would make the NPV equal to 1.48\n",
    "# The formula for NPV when cutting after 4 years is:\n",
    "# NPV = -1 + Revenue / (1 + interest_rate) ** 4\n",
    "# We solve for Revenue that makes NPV equal to npv_cut_later\n",
    "\n",
    "# Define the symbols\n",
    "Revenue = sp.symbols('Revenue')\n",
    "\n",
    "# NPV equation for cutting after 4 years\n",
    "npv_equation = -1 + Revenue / (1 + interest_rate) ** 4 - npv_cut_later\n",
    "\n",
    "# Solve for Revenue\n",
    "revenue_solution = sp.solve(npv_equation, Revenue)\n",
    "\n",
    "# Since we're told it's not worthwhile to cut after 4 years, we need the revenue that makes NPV < 1.48\n",
    "# We take the first (and should be only) solution and round it to 1 decimal place\n",
    "revenue_solution_rounded = round(revenue_solution[0], 1)\n",
    "revenue_solution_rounded\n"
   ]
  },
  {
   "cell_type": "code",
   "execution_count": null,
   "id": "d2d0b853",
   "metadata": {},
   "outputs": [],
   "source": [
    "#Q1-5\n",
    "def replace_now(r, life, cost):\n",
    "    discount = 1 / (1 + r) ** life\n",
    "    return cost / (1 - discount)\n",
    "\n",
    "def replace_later(r, life, life_left, cost):\n",
    "    discount = 1 / (1 + r) ** life\n",
    "    cost = cost / (1 + r) ** life_left\n",
    "    return cost / (1 - discount)\n",
    "\n",
    "interest_rate = 0.05  # Given interest rate is 5%\n",
    "roof_life_new = 20  # Life of a new roof\n",
    "roof_life_remaining = 5  # Remaining life of the current roof\n",
    "roof_cost = 40000  # Cost of a new roof\n",
    "\n",
    "# Calculate the present value to replace the roof now\n",
    "Now = replace_now(interest_rate, roof_life_new, roof_cost)\n",
    "\n",
    "# Calculate the present value to replace the roof later, after the remaining life of the current roof\n",
    "Later = replace_later(interest_rate, roof_life_new, roof_life_remaining, roof_cost)\n",
    "\n",
    "# Calculate the value of the existing roof\n",
    "existing_roof_value = Now - Later\n",
    "\n",
    "existing_roof_value_rounded = round(existing_roof_value)  # Round to the nearest dollar\n",
    "existing_roof_value_rounded\n"
   ]
  },
  {
   "cell_type": "code",
   "execution_count": 5,
   "id": "8ef4c12c",
   "metadata": {},
   "outputs": [
    {
     "data": {
      "text/plain": [
       "4.99"
      ]
     },
     "execution_count": 5,
     "metadata": {},
     "output_type": "execute_result"
    }
   ],
   "source": [
    "#Q1-6\n",
    "from scipy.optimize import newton\n",
    "\n",
    "# Define the cash flows for the investment\n",
    "initial_investment = -800000  # Initial purchase cost of the building\n",
    "annual_rental_income = 24000  # Annual rental income\n",
    "sale_price = 1000000  # Sale price after 10 years\n",
    "cash_flows = [initial_investment] + [annual_rental_income] * 9 + [annual_rental_income + sale_price]\n",
    "\n",
    "# Define the IRR function to find the root for\n",
    "def irr_equation(r):\n",
    "    return sum(cf / ((1 + r) ** i) for i, cf in enumerate(cash_flows))\n",
    "\n",
    "# Estimate the IRR using the Newton-Raphson method\n",
    "# We start with an estimate of 0.10 (or 10%) for the IRR\n",
    "irr_estimate = newton(irr_equation, 0.10)\n",
    "\n",
    "# Convert to percentage and round to two decimal places\n",
    "irr_percentage = round(irr_estimate * 100, 2)\n",
    "\n",
    "irr_percentage\n"
   ]
  },
  {
   "cell_type": "code",
   "execution_count": 12,
   "id": "a5e07df8",
   "metadata": {},
   "outputs": [
    {
     "data": {
      "text/plain": [
       "210"
      ]
     },
     "execution_count": 12,
     "metadata": {},
     "output_type": "execute_result"
    }
   ],
   "source": [
    "#Q2-1\n",
    "import numpy_financial as npf\n",
    "\n",
    "# Given Data\n",
    "debt = 25000  # Principal amount of the debt\n",
    "annual_interest_rate = 0.07  # Annual interest rate\n",
    "years = 17  # Amortization period in years\n",
    "monthly_interest_rate = annual_interest_rate / 12  # Monthly interest rate\n",
    "total_payments = years * 12  # Total number of monthly payments\n",
    "\n",
    "# Using the numpy_financial.pmt function to calculate the monthly payment\n",
    "monthly_payment = npf.pmt(monthly_interest_rate, total_payments, debt)\n",
    "\n",
    "# Rounding the monthly payment to the nearest integer dollar\n",
    "monthly_payment_rounded = round(monthly_payment)\n",
    "\n",
    "-monthly_payment_rounded\n"
   ]
  },
  {
   "cell_type": "code",
   "execution_count": 8,
   "id": "34482326",
   "metadata": {},
   "outputs": [
    {
     "data": {
      "text/plain": [
       "210"
      ]
     },
     "execution_count": 8,
     "metadata": {},
     "output_type": "execute_result"
    }
   ],
   "source": [
    "#Q2-1\n",
    "# Given Data\n",
    "principal = 25000  # Principal amount of the debt\n",
    "annual_interest_rate = 0.07  # Annual interest rate\n",
    "total_years = 17  # Total number of years for amortization\n",
    "compounding_periods_per_year = 12  # Monthly compounding\n",
    "\n",
    "# Monthly interest rate\n",
    "monthly_interest_rate = annual_interest_rate / compounding_periods_per_year\n",
    "\n",
    "# Total number of payments (periods)\n",
    "total_payments = total_years * compounding_periods_per_year\n",
    "\n",
    "# Annuity payment formula to calculate monthly payment\n",
    "monthly_payment = (principal * monthly_interest_rate) / (1 - (1 + monthly_interest_rate) ** -total_payments)\n",
    "\n",
    "# Rounding the monthly payment to the nearest integer dollar\n",
    "monthly_payment_rounded = round(monthly_payment)\n",
    "\n",
    "monthly_payment_rounded\n"
   ]
  },
  {
   "cell_type": "code",
   "execution_count": 10,
   "id": "38003794",
   "metadata": {},
   "outputs": [
    {
     "data": {
      "text/plain": [
       "270301"
      ]
     },
     "execution_count": 10,
     "metadata": {},
     "output_type": "execute_result"
    }
   ],
   "source": [
    "#Q2-2\n",
    "# Given Data\n",
    "loan_amount = 100000  # Principal amount of the loan\n",
    "annual_nominal_interest_rate = 0.12  # Nominal annual interest rate\n",
    "loan_term_years = 30  # Loan term in years\n",
    "compounding_periods_per_year = 12  # Monthly compounding\n",
    "\n",
    "# Monthly interest rate\n",
    "monthly_interest_rate = annual_nominal_interest_rate / compounding_periods_per_year\n",
    "\n",
    "# Total number of payments (periods)\n",
    "total_payments = loan_term_years * compounding_periods_per_year\n",
    "\n",
    "# Monthly payment calculation using the annuity payment formula\n",
    "monthly_payment = (loan_amount * monthly_interest_rate) / (1 - (1 + monthly_interest_rate) ** -total_payments)\n",
    "\n",
    "# Total amount paid over the course of the loan\n",
    "total_amount_paid = monthly_payment * total_payments\n",
    "\n",
    "# Total amount of interest paid is the total amount paid minus the loan principal\n",
    "total_interest_paid = total_amount_paid - loan_amount\n",
    "\n",
    "# Rounding to the nearest integer dollar\n",
    "total_interest_paid_rounded = round(total_interest_paid)\n",
    "\n",
    "total_interest_paid_rounded\n"
   ]
  },
  {
   "cell_type": "code",
   "execution_count": 14,
   "id": "a861831e",
   "metadata": {},
   "outputs": [
    {
     "name": "stdout",
     "output_type": "stream",
     "text": [
      "885.8387441439961 771.6774882879922 657.5162324319882 869.5652173913044\n"
     ]
    },
    {
     "data": {
      "text/plain": [
       "(2.718315086286881, 2.838321439982959, 3.0, 1.0)"
      ]
     },
     "execution_count": 14,
     "metadata": {},
     "output_type": "execute_result"
    }
   ],
   "source": [
    "#2-3,4\n",
    "import numpy_financial as npf\n",
    "\n",
    "# Given Data\n",
    "yield_rate = 0.15  # Yield rate of 15%\n",
    "cash_flows_a = [-100, -100, -1100]  # Negative for outgoing payments (purchasing the bond)\n",
    "cash_flows_b = [-50, -50, -1050]\n",
    "cash_flows_c = [0, 0, -1000]\n",
    "cash_flows_d = [-1000, 0, 0]\n",
    "\n",
    "# Function to calculate the price of the bond based on the cash flows and yield rate\n",
    "def bond_price(cash_flows, yield_rate):\n",
    "    periods = range(1, len(cash_flows) + 1)\n",
    "    discounted_cash_flows = [cf / (1 + yield_rate) ** period for cf, period in zip(cash_flows, periods)]\n",
    "    price = sum(discounted_cash_flows)\n",
    "    return -price\n",
    "\n",
    "# Calculate the price for each bond\n",
    "price_a = bond_price(cash_flows_a, yield_rate)\n",
    "price_b = bond_price(cash_flows_b, yield_rate)\n",
    "price_c = bond_price(cash_flows_c, yield_rate)\n",
    "price_d = bond_price(cash_flows_d, yield_rate)\n",
    "\n",
    "# Output the prices\n",
    "print(price_a, price_b, price_c, price_d)\n",
    "\n",
    "# Define a function to calculate the Macaulay duration for each bond\n",
    "def macaulay_duration(cash_flows, yield_rate):\n",
    "    periods = range(1, len(cash_flows) + 1)\n",
    "    discounted_cash_flows = [cf / (1 + yield_rate) ** period for cf, period in zip(cash_flows, periods)]\n",
    "    weighted_cash_flows = [period * dcf for period, dcf in zip(periods, discounted_cash_flows)]\n",
    "    bond_price = sum(discounted_cash_flows)\n",
    "    duration = sum(weighted_cash_flows) / bond_price\n",
    "    return duration\n",
    "\n",
    "# Calculate the Macaulay duration for each bond\n",
    "duration_a = macaulay_duration(cash_flows_a, yield_rate)\n",
    "duration_b = macaulay_duration(cash_flows_b, yield_rate)\n",
    "duration_c = macaulay_duration(cash_flows_c, yield_rate)\n",
    "duration_d = macaulay_duration(cash_flows_d, yield_rate)\n",
    "\n",
    "# Output the Macaulay durations\n",
    "duration_a, duration_b, duration_c, duration_d\n"
   ]
  },
  {
   "cell_type": "code",
   "execution_count": 15,
   "id": "bb06580b",
   "metadata": {},
   "outputs": [
    {
     "data": {
      "text/plain": [
       "6.84"
      ]
     },
     "execution_count": 15,
     "metadata": {},
     "output_type": "execute_result"
    }
   ],
   "source": [
    "#Q2-5\n",
    "# Given Data\n",
    "face_value = 1000  # Typically, the face value of a bond is $1000\n",
    "coupon_rate = 0.08  # 8% annual coupon rate\n",
    "yield_rate = 0.10  # 10% yield to maturity\n",
    "years_to_maturity = 10  # Bond maturity in years\n",
    "payments_per_year = 2  # Semi-annual coupon payments\n",
    "\n",
    "# Calculate the coupon payment amount\n",
    "coupon_payment = face_value * coupon_rate / payments_per_year\n",
    "\n",
    "# Total number of coupon payments\n",
    "total_payments = years_to_maturity * payments_per_year\n",
    "\n",
    "# Calculate the present value of each cash flow and its time weight\n",
    "discounted_cash_flows = []\n",
    "weighted_cash_flows = []\n",
    "for period in range(1, total_payments + 1):\n",
    "    # Present value of coupon payments\n",
    "    pv_coupon_payment = coupon_payment / ((1 + yield_rate / payments_per_year) ** period)\n",
    "    discounted_cash_flows.append(pv_coupon_payment)\n",
    "    \n",
    "    # Weighting each cash flow by the time period\n",
    "    weighted_cash_flows.append(period * pv_coupon_payment)\n",
    "\n",
    "# Present value of the face value received at maturity\n",
    "pv_face_value = face_value / ((1 + yield_rate / payments_per_year) ** total_payments)\n",
    "discounted_cash_flows.append(pv_face_value)\n",
    "weighted_cash_flows.append(total_payments * pv_face_value)\n",
    "\n",
    "# Bond price (or present value of all cash flows)\n",
    "bond_price = sum(discounted_cash_flows)\n",
    "\n",
    "# Macaulay Duration\n",
    "macaulay_duration = sum(weighted_cash_flows) / bond_price\n",
    "\n",
    "# Adjusting for semi-annual coupon payments\n",
    "macaulay_duration /= payments_per_year\n",
    "\n",
    "# Rounding the Macaulay duration to two decimal places\n",
    "macaulay_duration_rounded = round(macaulay_duration, 2)\n",
    "\n",
    "macaulay_duration_rounded\n"
   ]
  },
  {
   "cell_type": "code",
   "execution_count": 16,
   "id": "392fb5c0",
   "metadata": {},
   "outputs": [
    {
     "name": "stdout",
     "output_type": "stream",
     "text": [
      "The forward rate f1,2 is approximately 3.5%\n"
     ]
    }
   ],
   "source": [
    "#Q3-1\n",
    "# Given spot rates\n",
    "s1 = 2.3 / 100  # Convert percentage to decimal\n",
    "s2 = 2.9 / 100\n",
    "\n",
    "# Calculate the forward rate f1,2\n",
    "f1_2 = ((1 + s2)**2) / (1 + s1) - 1\n",
    "\n",
    "# Convert the result to a percentage and round to one decimal place\n",
    "f1_2_percentage = f1_2 * 100\n",
    "f1_2_percentage_rounded = round(f1_2_percentage, 1)\n",
    "\n",
    "# Print the result\n",
    "print(f\"The forward rate f1,2 is approximately {f1_2_percentage_rounded}%\")\n"
   ]
  },
  {
   "cell_type": "code",
   "execution_count": 18,
   "id": "b565a154",
   "metadata": {},
   "outputs": [
    {
     "data": {
      "text/plain": [
       "[5.9, 6.2, 6.5, 6.8, 7.1]"
      ]
     },
     "execution_count": 18,
     "metadata": {},
     "output_type": "execute_result"
    }
   ],
   "source": [
    "#Q3-2\n",
    "# Given spot rate curve\n",
    "current_spot_rates = [0.053, 0.056, 0.059, 0.062, 0.065, 0.068]\n",
    "\n",
    "# Calculate next year's spot rates\n",
    "next_spot_rates = []\n",
    "for n in range(2, len(current_spot_rates) + 1):  # Start from year 2 to the end of the spot rate list\n",
    "    next_spot_rate = (((1 + current_spot_rates[n - 1]) ** n) / (1 + current_spot_rates[0])) ** (1 / (n - 1)) - 1\n",
    "    next_spot_rates.append(next_spot_rate)\n",
    "\n",
    "# Convert to percentage and round to two decimal places\n",
    "next_spot_rates_percentage = [round(rate * 100, 2) for rate in next_spot_rates]\n",
    "\n",
    "next_spot_rates_percentage\n",
    "\n"
   ]
  },
  {
   "cell_type": "code",
   "execution_count": 19,
   "id": "6a9698fc",
   "metadata": {},
   "outputs": [
    {
     "name": "stdout",
     "output_type": "stream",
     "text": [
      "6\n"
     ]
    }
   ],
   "source": [
    "#Q3-3\n",
    "# Correct the approach for finding s1 using the 1-year forward rate starting from now (f12) and the current 2-year spot rate (s2)\n",
    "# The formula to link forward rate and spot rates is:\n",
    "# (1 + f12) = (1 + s2)^2 / (1 + s1)\n",
    "# We solve this equation for s1\n",
    "\n",
    "# Given spot rate for 2 years\n",
    "s2 = 0.069  # 6.9% as a decimal\n",
    "\n",
    "# Given 1-year forward rate starting 1 year from now\n",
    "f12 = 0.078  # 7.8% as a decimal\n",
    "\n",
    "# Re-arrange the equation and solve for s1\n",
    "s1 = ((1 + s2)**2 / (1 + f12)) - 1\n",
    "\n",
    "# Convert to percentage and round to the nearest integer\n",
    "s1_percentage = round(s1 * 100)\n",
    "\n",
    "print(s1_percentage)\n"
   ]
  },
  {
   "cell_type": "code",
   "execution_count": 3,
   "id": "8fda3d97",
   "metadata": {},
   "outputs": [
    {
     "name": "stdout",
     "output_type": "stream",
     "text": [
      "Forward rate: f(0, 1) = 6.000000000000001\n",
      "Discount factor: d(0, 1) = 0.9433962264150942\n",
      "Forward rate: f(0, 2) = 6.9\n",
      "Discount factor: d(0, 2) = 0.8750736155679096\n",
      "Forward rate: f(0, 3) = 7.5\n",
      "Discount factor: d(0, 3) = 0.8049605695096029\n",
      "Forward rate: f(0, 4) = 9.225\n",
      "Discount factor: d(0, 4) = 0.7026058904493938\n",
      "Forward rate: f(0, 5) = 8.4\n",
      "Discount factor: d(0, 5) = 0.6681186408937176\n",
      "Forward rate: f(0, 6) = 10.0\n",
      "Discount factor: d(0, 6) = 0.5644739300537773\n",
      "Forward rate: f(1, 2) = 7.8\n",
      "Discount factor: d(1, 2) = 0.9276437847866419\n",
      "Forward rate: f(1, 3) = 8.25\n",
      "Discount factor: d(1, 3) = 0.8533833984927115\n",
      "Forward rate: f(1, 4) = 10.299999999999999\n",
      "Discount factor: d(1, 4) = 0.7452010577678913\n",
      "Forward rate: f(1, 5) = 9.000000000000002\n",
      "Discount factor: d(1, 5) = 0.7084252110651964\n",
      "Forward rate: f(1, 6) = 10.8\n",
      "Discount factor: d(1, 6) = 0.5988267578627791\n",
      "Forward rate: f(2, 3) = 8.7\n",
      "Discount factor: d(2, 3) = 0.9199632014719411\n",
      "Forward rate: f(2, 4) = 11.55\n",
      "Discount factor: d(2, 4) = 0.8036387153754772\n",
      "Forward rate: f(2, 5) = 9.400000000000002\n",
      "Discount factor: d(2, 5) = 0.763744391420149\n",
      "Forward rate: f(2, 6) = 11.550000000000002\n",
      "Discount factor: d(2, 6) = 0.6458351848503472\n",
      "Forward rate: f(3, 4) = 14.400000000000002\n",
      "Discount factor: d(3, 4) = 0.8741258741258741\n",
      "Forward rate: f(3, 5) = 9.750000000000004\n",
      "Discount factor: d(3, 5) = 0.8302157004166643\n",
      "Forward rate: f(3, 6) = 12.500000000000004\n",
      "Discount factor: d(3, 6) = 0.7023319615912207\n",
      "Forward rate: f(4, 5) = 5.100000000000001\n",
      "Discount factor: d(4, 5) = 0.9514747859181732\n",
      "Forward rate: f(4, 6) = 11.550000000000002\n",
      "Discount factor: d(4, 6) = 0.8036387153754772\n",
      "Forward rate: f(5, 6) = 18.000000000000004\n",
      "Discount factor: d(5, 6) = 0.8474576271186439\n",
      "\n"
     ]
    }
   ],
   "source": [
    "#Q3-4,5,6\n",
    "from itertools import combinations\n",
    "def solve_rates(fw_rates: dict[tuple[int, int], float], mode: int = 1, verbose = False):\n",
    "    \"\"\"Enter a list of (i, j, f_{i, j}), then this function will solve for every possible forward rates, then calculate all the discount factors.\n",
    "    Keep in mind that the i-th spot rate s_i is equivalent to f_{0, i} by definition, and that discount factors and forwards rates have a simple relation\n",
    "\n",
    "    dij = (1/(1+fij))**(j-i)\n",
    "\n",
    "    Enter the rates as percentages.\n",
    "\n",
    "    Compounding mode: if continuous, enter -1, otherwise enter the number of times money is compounded every year.\n",
    "\n",
    "    Verbose: if set to true, then the function will print out all the forward rates and discount factors for us\n",
    "    \n",
    "    Remark: This is the pinnacle of over-engineered garbage. Dont do drugs kids\"\"\"\n",
    "\n",
    "    # f takes i, j, si, sj and returns f_{i, j}. This formula is determined by the mode of compounding\n",
    "    fik: Callable[[int, int, int, float, float], float]\n",
    "    fij: Callable[[int, int, int, float, float], float]\n",
    "    fjk: Callable[[int, int, int, float, float], float]\n",
    "    if mode == -1:\n",
    "        # exp(fik * (k - i)) = exp(fij * (j - i)) exp(fjk * (k - j))\n",
    "        # fik * (k - i) = fij * (j - i) + fjk * (k - j)\n",
    "        fik = lambda i, j, k, fij, fjk: (fij * (j - i) + fjk * (k - j))/(k - i)\n",
    "        fij = lambda i, j, k, fik, fjk: (fik * (k - i) - fjk * (k - j))/(j - i)\n",
    "        fjk = lambda i, j, k, fij, fik: (fik * (k - i) - fij * (j - i))/(k - j)\n",
    "    elif mode > 0:\n",
    "        # (1 + fik/m)**m(k-i) = (1 + fij/m)**m(j-i) (1 + fjk/m)**m(k-j)\n",
    "        fik = lambda i, j, k, fij, fjk: (((1 + fij/mode)**(j-i) * (1 + fjk/mode)**(k-j))**(1/(k-i)) - 1) * mode\n",
    "        fij = lambda i, j, k, fik, fjk: (((1 + fik/mode)**(k-i)/(1 + fjk/mode)**(k-j))**(1/(j-i)) - 1) * mode\n",
    "        fjk = lambda i, j, k, fij, fik: (((1 + fik/mode)**(k-i)/(1 + fij/mode)**(j-i))**(1/(k-j)) - 1) * mode\n",
    "    else:\n",
    "        raise ValueError(f\"Invalid mode. Expects -1 (for continuous) or >= 1 (for n periods per year), recieved {mode}\")\n",
    "\n",
    "    # Translate everything from percentage to decimals\n",
    "    decimal_fw = {(i, j): fij/100 for (i, j), fij in fw_rates.items() if j > i}\n",
    "\n",
    "    # Find the maximum number of years we are concerned about, leveraging the fact that j > i\n",
    "    max_years = max({j for (_, j) in decimal_fw.keys()})\n",
    "\n",
    "    # Model this as a graph theory problem. We say two nodes i, j are connected if f_{i, j} is calculated\n",
    "    # Go through the list of all nodes:\n",
    "    #   If the node i has at least two adjacent neighbours j, k\n",
    "    #       For each pair j0, k0 of i's neighbours:\n",
    "    #           If j0, k0 are connected then continue the loop, otherwise solve for fjk using the above formula\n",
    "    #           Append the node into decimal fw\n",
    "    #           Set a flag to true - this means we changed something and we need to loop again\n",
    "    N = max_years + 1\n",
    "\n",
    "    def solve_neighbours(i: int, neighbours: list[int]):\n",
    "        flag: bool = False\n",
    "        for j, k in combinations(neighbours, 2):\n",
    "            if j > k:\n",
    "                j, k = k, j\n",
    "            if (j, k) in decimal_fw.keys():\n",
    "                continue\n",
    "            if i < j < k:\n",
    "                new_fjk = fjk(i, j, k, decimal_fw[(i, j)], decimal_fw[(i, k)])\n",
    "                decimal_fw[(j, k)] = new_fjk\n",
    "                flag = True\n",
    "            elif j < i < k:\n",
    "                new_fik = fik(j, i, k, decimal_fw[(j, i)], decimal_fw[(i, k)])\n",
    "                decimal_fw[(j, k)] = new_fik\n",
    "                flag = True\n",
    "            elif j < k < i:\n",
    "                new_fij = fij(j, k, i, decimal_fw[(j, i)], decimal_fw[(k, i)])\n",
    "                decimal_fw[(j, k)] = new_fij\n",
    "                flag = True\n",
    "            else:\n",
    "                raise ValueError(f\"Recieved unexpected triplets of i, j, k: {i}, {j}, {k}\")\n",
    "        return flag\n",
    "\n",
    "    flag = True\n",
    "    while flag:\n",
    "        flag = False\n",
    "        for i in range(N):\n",
    "            neighbours = [j for j in range(N) if ((i, j) in decimal_fw.keys() or (j, i) in decimal_fw.keys())]\n",
    "            if len(neighbours) >= 2:\n",
    "                flag = solve_neighbours(i, neighbours)\n",
    "\n",
    "\n",
    "    # Change back to percentage\n",
    "    percentage_fw = {(i, j): x*100 for (i, j), x in decimal_fw.items()}\n",
    "\n",
    "    if verbose:\n",
    "        for (i, j) in sorted(decimal_fw.keys()):\n",
    "            fw_rate = decimal_fw[(i, j)]\n",
    "            print(f\"Forward rate: f({i}, {j}) = {fw_rate * 100}\")\n",
    "            print(f\"Discount factor: d({i}, {j}) = {(1/(1 + fw_rate)) ** (j - i)}\")\n",
    "\n",
    "    return percentage_fw\n",
    "\n",
    "## Example: Quiz 3 Q3-6. We are given the following forward rates: (Keep in mind spot rates s[i] are just forward rates f[0, i] in disguise)\n",
    "rates = {\n",
    "    (0, 2): 6.9,\n",
    "    (0, 3): 7.5,\n",
    "    (0, 5): 8.4,\n",
    "    (0, 6): 10,\n",
    "    (1, 2): 7.8,\n",
    "    (2, 3): 8.7,\n",
    "    (1, 3): 8.25,\n",
    "    (2, 4): 11.55\n",
    "}\n",
    "\n",
    "# For continuous compounding, enter mode = -1\n",
    "solve_rates(rates, mode = -1, verbose = True)\n",
    "print()\n",
    "\n",
    "# Now read off the print statements, Q3 asking for s1 = f[0, 1] = 6%\n",
    "# Q4 asking for s4 = 9.225%\n",
    "# Q6 asking for f[5, 6] = 18%"
   ]
  },
  {
   "cell_type": "code",
   "execution_count": 10,
   "id": "a9fdb51b",
   "metadata": {},
   "outputs": [
    {
     "name": "stdout",
     "output_type": "stream",
     "text": [
      "-1.0 2.0\n",
      "54.881\n"
     ]
    },
    {
     "data": {
      "text/plain": [
       "0.10000049686035474"
      ]
     },
     "execution_count": 10,
     "metadata": {},
     "output_type": "execute_result"
    }
   ],
   "source": [
    "#Q3-6\n",
    "import numpy as np\n",
    "coupon_rate_X=0.1\n",
    "coupon_rate_Y=0.05\n",
    "price_X=145.749\n",
    "price_Y=100.315\n",
    "A = np.array([[100, 100], \n",
    "            [coupon_rate_X, coupon_rate_Y]])\n",
    "            \n",
    "b = np.array([100, 0])\n",
    "\n",
    "# Solve the matrix equation\n",
    "weights = np.linalg.solve(A, b)\n",
    "weight_X, weight_Y = weights\n",
    "print(weight_X, weight_Y)\n",
    "# Calculate the face value of the zero-coupon bond needed to cancel out the coupon payments\n",
    "price_zero = (weight_X * price_X + weight_Y * price_Y)\n",
    "print(price_zero)\n",
    "#S6=(100/price_zero)**(1/6)-1\n",
    "S6 = np.log(100 / price_zero) / 6\n",
    "S6"
   ]
  },
  {
   "cell_type": "code",
   "execution_count": 12,
   "id": "c97f86ab",
   "metadata": {},
   "outputs": [
    {
     "name": "stdout",
     "output_type": "stream",
     "text": [
      "[ 9.24201225 14.90369921]\n"
     ]
    }
   ],
   "source": [
    "#Q3-7\n",
    "\"\"\"\n",
    "F1= 100; #face value\n",
    "y1 = 0.09; #yield to maturity\n",
    "m1 = 2; #number of coupon payments per year\n",
    "n1 = 10; #number of coupon periods\n",
    "c1 = 0.08; #yearly coupy payment, how many percent bond\n",
    "\n",
    "P1 = F1/((1+y1/m1)**n1)+(c1/y1)*(1-(1/(1+y1/m1)**n1))\n",
    "D1 = ((1+y1/m1)/(m1*y1/m1))-(1+y1/m1+n1*m1*(c1/m1-y1/m1))/(m1*(c1/m1)*((1+y1/m1)**(n1*m1)-1)+m1*y1/m1)\n",
    "\"\"\"\n",
    "import numpy as np\n",
    "s = np.array([0.0767, 0.0827, 0.0881, 0.0931, 0.0975, 0.1016, 0.1052, 0.1085, 0.1115, 0.1142, 0.1167, 0.1189])\n",
    "b1 = np.array([6,6,6,6,6,6,6,6,6,6,6,106])\n",
    "PV1 = np.zeros(shape=(12,1))\n",
    "for i in range(0,12):\n",
    "    PV1[i] = b1[i]/(1+s[i])**(i+1)\n",
    "P1 = np.sum(PV1)\n",
    "minusPV1prime = np.zeros(shape=(12,1))\n",
    "for i in range(0,12):\n",
    "    minusPV1prime[i] = (b1[i]*(i+1))/(1+s[i])**(i+2)\n",
    "minusdP1dLambda = np.sum(minusPV1prime)\n",
    "D1 = minusdP1dLambda/P1\n",
    "s = np.array([0.0767, 0.0827, 0.0881, 0.0931, 0.0975, 0.1016, 0.1052, 0.1085, 0.1115, 0.1142, 0.1167, 0.1189])\n",
    "b2 = np.array([10,10,10,10,110])\n",
    "PV2 = np.zeros(shape=(5,1))\n",
    "for i in range(0,5):\n",
    "    PV2[i] = b2[i]/(1+s[i])**(i+1)\n",
    "P2 = np.sum(PV2)\n",
    "minusPV2prime = np.zeros(shape=(5,1))\n",
    "for i in range(0,5):\n",
    "    minusPV2prime[i] = (b2[i]*(i+1))/(1+s[i])**(i+2)\n",
    "minusdP2dLambda = np.sum(minusPV2prime)\n",
    "D2 = minusdP2dLambda/P2\n",
    "ob = np.array([100,200,300,400,500,600,700,800])\n",
    "PVob = np.zeros(shape=(8,1))\n",
    "for i in range (0,8):\n",
    "    PVob[i] = ob[i]/(1+s[i])**(i+1)\n",
    "Pob = np.sum(PVob)\n",
    "minusPVobprime = np.zeros(shape=(8,1))\n",
    "for i in range(0,8):\n",
    "    minusPVobprime[i] = (ob[i]*(i+1))/(1+s[i])**(i+2)\n",
    "minusdPobdLambda = np.sum(minusPVobprime)\n",
    "Dob = minusdPobdLambda/Pob\n",
    "A = np.array([[P1, P2], [P1*D1, P2*D2]])\n",
    "B = np.array([Pob, Pob*Dob])\n",
    "X = np.linalg.inv(A).dot(B)\n",
    "print(X)"
   ]
  },
  {
   "cell_type": "code",
   "execution_count": 15,
   "id": "1dd27ccc",
   "metadata": {},
   "outputs": [
    {
     "name": "stdout",
     "output_type": "stream",
     "text": [
      "Best combination of projects within budget: [2, 3, 4]\n",
      "Total NPV of the best combination: 3100\n"
     ]
    }
   ],
   "source": [
    "#Q4-1\n",
    "from itertools import combinations\n",
    "\n",
    "# Manually input the data for all projects as seen in the image\n",
    "# (project number, required cash outlay, present worth)\n",
    "projects_info = [\n",
    "    (1, 100, 200),\n",
    "    (2, 200, 500),\n",
    "    (3, 300, 2300),\n",
    "    (4, 400, 1200),\n",
    "    (5, 500, 1250)\n",
    "]\n",
    "\n",
    "# Calculate the NPV for each project\n",
    "projects_npv_dict = {project[0]: project[2] - project[1] for project in projects_info}\n",
    "\n",
    "# Function to calculate total NPV and total cost of a given combination of projects\n",
    "def calculate_total_npv_and_cost(projects):\n",
    "    total_npv = sum(projects_npv_dict[proj] for proj in projects)\n",
    "    total_cost = sum(next(p[1] for p in projects_info if p[0] == proj) for proj in projects)\n",
    "    return total_npv, total_cost\n",
    "\n",
    "# Initialize the best combination found so far\n",
    "best_combination = None\n",
    "best_npv = 0\n",
    "budget = 900\n",
    "\n",
    "# Check all combinations of projects from 1 up to the total number of projects\n",
    "for i in range(1, len(projects_info) + 1):\n",
    "    for combo in combinations(projects_info, i):\n",
    "        combo_projects = [proj[0] for proj in combo]\n",
    "        total_npv, total_cost = calculate_total_npv_and_cost(combo_projects)\n",
    "        \n",
    "        # If this combination has a higher NPV than the current best and is within the budget, update the best combination\n",
    "        if total_npv > best_npv and total_cost <= budget:\n",
    "            best_combination = combo_projects\n",
    "            best_npv = total_npv\n",
    "\n",
    "# Print the best combination found and its total NPV\n",
    "print(f\"Best combination of projects within budget: {best_combination}\")\n",
    "print(f\"Total NPV of the best combination: {best_npv}\")\n"
   ]
  },
  {
   "cell_type": "code",
   "execution_count": 7,
   "id": "6f401aeb",
   "metadata": {},
   "outputs": [
    {
     "name": "stdout",
     "output_type": "stream",
     "text": [
      "Optimal number of units for each bond:\n",
      "Bond 1 (1% annual coupon): 0.00\n",
      "Bond 2 (2% annual coupon): 0.00\n",
      "Bond 3 (3% annual coupon): 0.25\n",
      "Bond 4 (4% annual coupon): 1.25\n",
      "Bond 5 (5% annual coupon): 2.30\n",
      "Bond 6 (6% annual coupon): 3.42\n",
      "Bond 7 (7% annual coupon): 4.62\n",
      "Bond 8 (8% annual coupon): 5.95\n",
      "Bond 9 (9% annual coupon): 7.42\n",
      "Bond 10 (10% annual coupon): 9.09\n",
      "\n",
      "Optimal number of units for the 10-year 10% annual coupon bond: 9.0\n"
     ]
    }
   ],
   "source": [
    "import numpy as np\n",
    "from scipy.optimize import linprog\n",
    "\n",
    "# Obligations and bond information\n",
    "obligations = np.array([100,200,300,400,500,600,700,800,900,1000])\n",
    "years = len(obligations)\n",
    "bond_price = 100\n",
    "annual_coupons = 1 * np.arange(1, years + 1)\n",
    "\n",
    "# Objective function (minimize total cost of the portfolio)\n",
    "c = np.full(years, bond_price)\n",
    "\n",
    "# Inequality constraint matrix (coupon and redemption values must be >= obligations)\n",
    "A = np.zeros((years, years))\n",
    "\n",
    "for i in range(years):\n",
    "    for j in range(i, years):\n",
    "        if i == j:\n",
    "            A[i, j] = bond_price + annual_coupons[j]  # redemption value + coupon payment\n",
    "        else:\n",
    "            A[i, j] = annual_coupons[j]  # coupon payment\n",
    "\n",
    "# Inequality constraint vector (obligations)\n",
    "b = obligations\n",
    "\n",
    "# Solve the linear programming problem\n",
    "result = linprog(c, A_ub=-A, b_ub=-b, method=\"highs\")\n",
    "\n",
    "# Print the results\n",
    "print(\"Optimal number of units for each bond:\")\n",
    "for i, x in enumerate(result.x, 1):\n",
    "    print(f\"Bond {i} ({i * 1}% annual coupon): {x:.2f}\")\n",
    "\n",
    "# Number of units of the 8-year 4% annual coupon bond\n",
    "units_10_year_bond = round(result.x[-1], 0)\n",
    "print(f\"\\nOptimal number of units for the 10-year 10% annual coupon bond: {units_10_year_bond}\")\n"
   ]
  },
  {
   "cell_type": "code",
   "execution_count": 6,
   "id": "4c2cf2df",
   "metadata": {},
   "outputs": [
    {
     "name": "stdout",
     "output_type": "stream",
     "text": [
      "第 10 年的债券价格 61.39132535407592\n",
      "第 9 年的债券价格 64.46089162177971\n",
      "第 8 年的债券价格 67.6839362028687\n",
      "第 7 年的债券价格 71.06813301301213\n",
      "第 6 年的债券价格 74.62153966366274\n",
      "第 5 年的债券价格 78.35261664684589\n",
      "第 4 年的债券价格 82.27024747918819\n",
      "第 3 年的债券价格 86.3837598531476\n",
      "第 2 年的债券价格 90.70294784580499\n",
      "第 1 年的债券价格 95.23809523809524\n",
      "[61.39132535407592, 64.46089162177971, 67.6839362028687, 71.06813301301213, 74.62153966366274, 78.35261664684589, 82.27024747918819, 86.3837598531476, 90.70294784580499, 95.23809523809524]\n",
      "        message: Optimization terminated successfully. (HiGHS Status 7: Optimal)\n",
      "        success: True\n",
      "         status: 0\n",
      "            fun: 3351.9863578377153\n",
      "              x: [ 9.901e-01  1.941e+00  2.827e+00  3.625e+00  4.315e+00\n",
      "                   4.885e+00  5.326e+00  5.636e+00  5.817e+00  5.876e+00]\n",
      "            nit: 0\n",
      "          lower:  residual: [ 9.901e-01  1.941e+00  2.827e+00  3.625e+00\n",
      "                              4.315e+00  4.885e+00  5.326e+00  5.636e+00\n",
      "                              5.817e+00  5.876e+00]\n",
      "                 marginals: [ 0.000e+00  0.000e+00  0.000e+00  0.000e+00\n",
      "                              0.000e+00  0.000e+00  0.000e+00  0.000e+00\n",
      "                              0.000e+00  0.000e+00]\n",
      "          upper:  residual: [       inf        inf        inf        inf\n",
      "                                    inf        inf        inf        inf\n",
      "                                    inf        inf]\n",
      "                 marginals: [ 0.000e+00  0.000e+00  0.000e+00  0.000e+00\n",
      "                              0.000e+00  0.000e+00  0.000e+00  0.000e+00\n",
      "                              0.000e+00  0.000e+00]\n",
      "          eqlin:  residual: []\n",
      "                 marginals: []\n",
      "        ineqlin:  residual: [ 0.000e+00  0.000e+00  0.000e+00  0.000e+00\n",
      "                              0.000e+00  0.000e+00  0.000e+00  0.000e+00\n",
      "                              0.000e+00  0.000e+00]\n",
      "                 marginals: [-2.787e-01 -3.122e-01 -3.507e-01 -3.950e-01\n",
      "                             -4.464e-01 -5.060e-01 -5.755e-01 -6.570e-01\n",
      "                             -7.527e-01 -8.658e-01]\n",
      " mip_node_count: 0\n",
      " mip_dual_bound: 0.0\n",
      "        mip_gap: 0.0\n"
     ]
    }
   ],
   "source": [
    "#Q4-2  #有点问题\n",
    "F1= 100; #face value\n",
    "y1 = 0.05; #yield to maturity\n",
    "m1 = 1; #number of coupon payments per year\n",
    "#n1 = 8; #number of coupon periods\n",
    "c1 = 0; #yearly coupy payment, how many percent bond\n",
    "price=[]\n",
    "for n1 in range(10,0,-1):\n",
    "    P1 = F1/((1+y1/m1)**n1)+(c1/y1)*(1-(1/(1+y1/m1)**n1))\n",
    "    price.append(P1)\n",
    "    print(\"第\",n1,\"年的债券价格\",P1)\n",
    "print(price)\n",
    "\n",
    "import numpy as np\n",
    "\"\"\"\n",
    "C = np.array([[1,1,1,1,1,1,1,1,1,101], \n",
    "     [2,2,2,2,2,2,2,2,102,0],\n",
    "     [3,3,3,3,3,3,3,103,0,0],\n",
    "     [4,4,4,4,4,4,104,0,0,0],\n",
    "     [5,5,5,5,5,105,0,0,0,0],\n",
    "     [6,6,6,6,106,0,0,0,0,0],\n",
    "     [7,7,7,107,0,0,0,0,0,0],\n",
    "     [8,8,108,0,0,0,0,0,0,0],\n",
    "     [9,109,0,0,0,0,0,0,0,0],\n",
    "     [110,0,0,0,0,0,0,0,0,0]])\n",
    "\"\"\"\n",
    "\"\"\"\n",
    "C = np.array([[10,10,10,10,10,10,10,10,10,110], \n",
    "     [9,9,9,9,9,9,9,9,109,0],\n",
    "     [8,8,8,8,8,8,8,108,0,0],\n",
    "     [7,7,7,7,7,7,107,0,0,0],\n",
    "     [6,6,6,6,6,106,0,0,0,0],\n",
    "     [5,5,5,5,105,0,0,0,0,0],\n",
    "     [4,4,4,104,0,0,0,0,0,0],\n",
    "     [3,3,103,0,0,0,0,0,0,0],\n",
    "     [2,102,0,0,0,0,0,0,0,0],\n",
    "     [101,0,0,0,0,0,0,0,0,0]])\n",
    "\"\"\"\n",
    "C=np.array([[101, 0, 0, 0, 0, 0, 0, 0, 0, 0],\n",
    "[2, 102, 0, 0, 0, 0, 0, 0, 0, 0],\n",
    "[3, 3, 103, 0, 0, 0, 0, 0, 0, 0],\n",
    "[4, 4, 4, 104, 0, 0, 0, 0, 0, 0],\n",
    "[5, 5, 5, 5, 105, 0, 0, 0, 0, 0],\n",
    "[6, 6, 6, 6, 6, 106, 0, 0, 0, 0],\n",
    "[7, 7, 7, 7, 7, 7, 107, 0, 0, 0],\n",
    "[8, 8, 8, 8, 8, 8, 8, 108, 0, 0],\n",
    "[9, 9, 9, 9, 9, 9, 9, 9, 109, 0],\n",
    "[10, 10, 10, 10, 10, 10, 10, 10, 10, 110]\n",
    "])\n",
    "p =np.array(price)\n",
    "p1 = np.transpose(p)\n",
    "b =np.array([100,200,300,400,500,600,700,800,900,1000])\n",
    "b1 = np.transpose(b)\n",
    "\n",
    "from scipy.optimize import linprog\n",
    "res = linprog(p1, A_ub = -1*C, b_ub= -1*b1, bounds=None)\n",
    "print(res)"
   ]
  },
  {
   "cell_type": "code",
   "execution_count": null,
   "id": "162e46c2",
   "metadata": {},
   "outputs": [],
   "source": [
    "#Q4-3\n",
    "#360000,超纲"
   ]
  },
  {
   "cell_type": "code",
   "execution_count": 8,
   "id": "0a0aaa87",
   "metadata": {},
   "outputs": [
    {
     "name": "stdout",
     "output_type": "stream",
     "text": [
      "Mean: 12.25, Variance: 79.96527777777777, Rounded Variance: 80\n"
     ]
    }
   ],
   "source": [
    "#Q5-2\n",
    "from itertools import product\n",
    "import numpy as np\n",
    "\n",
    "# Generate all possible outcomes of rolling two dice\n",
    "outcomes = list(product(range(1, 7), repeat=2))\n",
    "\n",
    "# Calculate the value of the quantity (product of dice rolls) for each outcome\n",
    "values = [x * y for x, y in outcomes]\n",
    "\n",
    "# Calculate the mean of the values\n",
    "mean_value = np.mean(values)\n",
    "\n",
    "# Calculate the variance\n",
    "variance = np.var(values)\n",
    "\n",
    "# Round the variance to the nearest integer\n",
    "variance_rounded = round(variance)\n",
    "\n",
    "print(f\"Mean: {mean_value}, Variance: {variance}, Rounded Variance: {variance_rounded}\")\n"
   ]
  },
  {
   "cell_type": "code",
   "execution_count": 5,
   "id": "399408e4",
   "metadata": {},
   "outputs": [
    {
     "data": {
      "text/plain": [
       "[0.875000000000000]"
      ]
     },
     "execution_count": 5,
     "metadata": {},
     "output_type": "execute_result"
    }
   ],
   "source": [
    "#Q5-3\n",
    "import sympy as sp\n",
    "\n",
    "# Given data\n",
    "sigma_A = 0.15  # Standard deviation of asset A\n",
    "sigma_B = 0.30  # Standard deviation of asset B\n",
    "rho_AB = 0.25   # Correlation coefficient between A and B\n",
    "\n",
    "# Define the symbol for alpha\n",
    "alpha = sp.symbols('alpha')\n",
    "\n",
    "# The formula for the variance of a two-asset portfolio\n",
    "variance_p = (alpha**2 * sigma_A**2 +\n",
    "              (1 - alpha)**2 * sigma_B**2 +\n",
    "              2 * alpha * (1 - alpha) * rho_AB * sigma_A * sigma_B)\n",
    "\n",
    "# Take the derivative of the portfolio's variance with respect to alpha\n",
    "derivative_variance_p = sp.diff(variance_p, alpha)\n",
    "\n",
    "# Set the derivative equal to zero and solve for alpha to find the minimum variance\n",
    "alpha_min_var = sp.solve(derivative_variance_p, alpha)\n",
    "\n",
    "# Filter out the real solutions and within the range [0,1]\n",
    "alpha_solution = [sol.evalf() for sol in alpha_min_var if sol.is_real and 0 <= sol <= 1]\n",
    "\n",
    "alpha_solution\n"
   ]
  },
  {
   "cell_type": "code",
   "execution_count": 6,
   "id": "0a2c512c",
   "metadata": {},
   "outputs": [
    {
     "data": {
      "text/plain": [
       "0.18"
      ]
     },
     "execution_count": 6,
     "metadata": {},
     "output_type": "execute_result"
    }
   ],
   "source": [
    "#Q5-4\n",
    "import numpy as np\n",
    "\n",
    "# Given standard deviations of assets A and B\n",
    "sigma_A = 0.15\n",
    "sigma_B = 0.30\n",
    "\n",
    "# Given correlation coefficient between A and B\n",
    "rho_AB = 0.25\n",
    "\n",
    "# Portfolio weights for assets A and B in a 50-50 portfolio\n",
    "w_A = 0.50\n",
    "w_B = 0.50\n",
    "\n",
    "# Calculate the portfolio's standard deviation\n",
    "# Formula: sqrt(w_A^2 * sigma_A^2 + w_B^2 * sigma_B^2 + 2 * w_A * w_B * rho_AB * sigma_A * sigma_B)\n",
    "portfolio_std_dev = np.sqrt(\n",
    "    (w_A * sigma_A)**2 +\n",
    "    (w_B * sigma_B)**2 +\n",
    "    2 * w_A * w_B * rho_AB * sigma_A * sigma_B\n",
    ")\n",
    "\n",
    "# Output the standard deviation rounded to two decimal places\n",
    "portfolio_std_dev_rounded = round(portfolio_std_dev, 2)\n",
    "portfolio_std_dev_rounded\n",
    "\n"
   ]
  },
  {
   "cell_type": "code",
   "execution_count": 4,
   "id": "e894ab76",
   "metadata": {},
   "outputs": [
    {
     "name": "stdout",
     "output_type": "stream",
     "text": [
      "The expected return of the portfolio is: 0.14\n"
     ]
    }
   ],
   "source": [
    "#Q5-5\n",
    "# Define the expected returns for assets A and B\n",
    "expected_return_A = 0.10  # 10% for asset A\n",
    "expected_return_B = 0.18  # 18% for asset B\n",
    "\n",
    "# Define the weights of the assets in the portfolio\n",
    "weight_A = 0.50  # 50% of the portfolio in asset A\n",
    "weight_B = 0.50  # 50% of the portfolio in asset B\n",
    "\n",
    "# Calculate the expected return of the portfolio\n",
    "expected_return_portfolio = (weight_A * expected_return_A) + (weight_B * expected_return_B)\n",
    "\n",
    "# Print the expected return of the portfolio, rounded to two decimal places\n",
    "print(f\"The expected return of the portfolio is: {expected_return_portfolio:.2f}\")\n",
    "\n"
   ]
  },
  {
   "cell_type": "code",
   "execution_count": null,
   "id": "1850fed6",
   "metadata": {},
   "outputs": [],
   "source": []
  }
 ],
 "metadata": {
  "kernelspec": {
   "display_name": "Python 3 (ipykernel)",
   "language": "python",
   "name": "python3"
  },
  "language_info": {
   "codemirror_mode": {
    "name": "ipython",
    "version": 3
   },
   "file_extension": ".py",
   "mimetype": "text/x-python",
   "name": "python",
   "nbconvert_exporter": "python",
   "pygments_lexer": "ipython3",
   "version": "3.9.13"
  }
 },
 "nbformat": 4,
 "nbformat_minor": 5
}
