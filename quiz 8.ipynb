{
 "cells": [
  {
   "cell_type": "code",
   "execution_count": 1,
   "id": "89258e25",
   "metadata": {},
   "outputs": [
    {
     "data": {
      "text/plain": [
       "125250.0"
      ]
     },
     "execution_count": 1,
     "metadata": {},
     "output_type": "execute_result"
    }
   ],
   "source": [
    "#Q1\n",
    "# Number of assets\n",
    "n = 500\n",
    "\n",
    "# Number of expected returns is n\n",
    "num_expected_returns = n\n",
    "\n",
    "# Number of covariances is n*(n-1)/2\n",
    "num_covariances = n * (n - 1) / 2\n",
    "\n",
    "# Total number of parameters\n",
    "total_parameters = num_expected_returns + num_covariances\n",
    "total_parameters\n"
   ]
  },
  {
   "cell_type": "code",
   "execution_count": 2,
   "id": "9fed54c9",
   "metadata": {},
   "outputs": [
    {
     "data": {
      "text/plain": [
       "24"
      ]
     },
     "execution_count": 2,
     "metadata": {},
     "output_type": "execute_result"
    }
   ],
   "source": [
    "#Q4\n",
    "# Given data\n",
    "risk_free_rate = 0.08  # 8% as a decimal\n",
    "expected_market_return = 0.12  # 12% as a decimal\n",
    "market_std_dev = 0.15  # 15% as a decimal\n",
    "covariance_with_market = 0.09  # Given covariance with the market\n",
    "\n",
    "# Calculate the variance of the market's returns (which is the square of the standard deviation)\n",
    "market_variance = market_std_dev ** 2\n",
    "\n",
    "# Calculate beta of the risky asset using its covariance with the market and the market variance\n",
    "beta_risky_asset = covariance_with_market / market_variance\n",
    "\n",
    "# Calculate expected return of the risky asset using CAPM\n",
    "expected_return_risky_asset = risk_free_rate + beta_risky_asset * (expected_market_return - risk_free_rate)\n",
    "\n",
    "# Convert to percentage and round to nearest integer\n",
    "expected_return_risky_asset_percentage = round(expected_return_risky_asset * 100)\n",
    "expected_return_risky_asset_percentage\n"
   ]
  },
  {
   "cell_type": "code",
   "execution_count": 2,
   "id": "79ca7336",
   "metadata": {},
   "outputs": [
    {
     "data": {
      "text/plain": [
       "14"
      ]
     },
     "execution_count": 2,
     "metadata": {},
     "output_type": "execute_result"
    }
   ],
   "source": [
    "#Q5\n",
    "# Given values\n",
    "r_F = 0.02 # risk-free rate\n",
    "r_M = 0.18 # expected market return\n",
    "sigma_B_squared = 0.02 # variance of asset B\n",
    "sigma_AB = 0.01 # covariance between asset A and B\n",
    "sigma_A_squared = 0.04 # variance of asset A\n",
    "\n",
    "# Calculate market variance\n",
    "sigma_M_squared = (1/4) * (sigma_A_squared + 2 * sigma_AB + sigma_B_squared)\n",
    "\n",
    "# Calculate beta of asset B\n",
    "beta_B = (sigma_B_squared + sigma_AB) / (2 * sigma_M_squared)\n",
    "\n",
    "# Calculate expected return of asset B using CAPM\n",
    "r_B = r_F + beta_B * (r_M - r_F)\n",
    "\n",
    "# Convert to percentage and round to nearest integer\n",
    "r_B_percent = round(r_B * 100)\n",
    "\n",
    "r_B_percent"
   ]
  },
  {
   "cell_type": "code",
   "execution_count": 4,
   "id": "4bdfd31b",
   "metadata": {},
   "outputs": [
    {
     "data": {
      "text/plain": [
       "0.8176"
      ]
     },
     "execution_count": 4,
     "metadata": {},
     "output_type": "execute_result"
    }
   ],
   "source": [
    "#Q6\n",
    "import numpy as np\n",
    "import statsmodels.api as sm\n",
    "\n",
    "# Data from the question\n",
    "years = np.arange(2010, 2020)\n",
    "returns_brka = np.array([21.4, -4.7, 16.8, 32.7, 27.0, -12.5, 23.4, 21.9, 2.8, 11.0])\n",
    "returns_sp500 = np.array([15.1, 2.1, 16.0, 32.4, 13.7, 1.4, 12.0, 21.8, -4.4, 31.5])\n",
    "\n",
    "# Add a constant to the independent variable to represent the intercept\n",
    "returns_sp500_with_intercept = sm.add_constant(returns_sp500)\n",
    "\n",
    "# Perform the OLS regression\n",
    "model = sm.OLS(returns_brka, returns_sp500_with_intercept)\n",
    "results = model.fit()\n",
    "\n",
    "# Extract the beta value\n",
    "beta_value = results.params[1]\n",
    "\n",
    "# Round the beta value to four decimal places\n",
    "beta_value_rounded = round(beta_value, 4)\n",
    "\n",
    "beta_value_rounded\n",
    "\n"
   ]
  },
  {
   "cell_type": "code",
   "execution_count": 5,
   "id": "c5e65112",
   "metadata": {},
   "outputs": [
    {
     "data": {
      "text/plain": [
       "2.4021666282512633"
      ]
     },
     "execution_count": 5,
     "metadata": {},
     "output_type": "execute_result"
    }
   ],
   "source": [
    "#不太重要，这学期删掉了，暂时搁置\n",
    "alpha_value = results.params[0]\n",
    "alpha_value"
   ]
  },
  {
   "cell_type": "code",
   "execution_count": 6,
   "id": "6a44331c",
   "metadata": {},
   "outputs": [
    {
     "data": {
      "text/plain": [
       "0.024"
      ]
     },
     "execution_count": 6,
     "metadata": {},
     "output_type": "execute_result"
    }
   ],
   "source": [
    "import numpy as np\n",
    "\n",
    "# Data from the question\n",
    "years = np.arange(2010, 2020)\n",
    "returns_brka = np.array([21.4, -4.7, 16.8, 32.7, 27.0, -12.5, 23.4, 21.9, 2.8, 11.0])\n",
    "returns_sp500 = np.array([15.1, 2.1, 16.0, 32.4, 13.7, 1.4, 12.0, 21.8, -4.4, 31.5])\n",
    "\n",
    "# Calculate the means of the returns\n",
    "mean_brka = np.mean(returns_brka)\n",
    "mean_sp500 = np.mean(returns_sp500)\n",
    "\n",
    "# Calculate the covariance between BRK/A returns and S&P 500 returns\n",
    "cov_brka_sp500 = np.cov(returns_brka, returns_sp500, bias=True)[0][1]\n",
    "\n",
    "# Calculate the variance of S&P 500 returns\n",
    "var_sp500 = np.var(returns_sp500)\n",
    "\n",
    "# Calculate beta (β) as the covariance divided by the variance\n",
    "beta = cov_brka_sp500 / var_sp500\n",
    "\n",
    "# Calculate alpha (α) using the formula α = mean_brka - beta * mean_sp500\n",
    "alpha = mean_brka - (beta * mean_sp500)\n",
    "\n",
    "# Convert alpha to decimal form\n",
    "alpha_decimal = alpha / 100\n",
    "\n",
    "# Round the alpha value to four decimal places as a decimal\n",
    "alpha_decimal_rounded = round(alpha_decimal, 4)\n",
    "\n",
    "alpha_decimal_rounded\n"
   ]
  },
  {
   "cell_type": "code",
   "execution_count": null,
   "id": "ec45a3b3",
   "metadata": {},
   "outputs": [],
   "source": []
  }
 ],
 "metadata": {
  "kernelspec": {
   "display_name": "Python 3 (ipykernel)",
   "language": "python",
   "name": "python3"
  },
  "language_info": {
   "codemirror_mode": {
    "name": "ipython",
    "version": 3
   },
   "file_extension": ".py",
   "mimetype": "text/x-python",
   "name": "python",
   "nbconvert_exporter": "python",
   "pygments_lexer": "ipython3",
   "version": "3.9.13"
  }
 },
 "nbformat": 4,
 "nbformat_minor": 5
}
