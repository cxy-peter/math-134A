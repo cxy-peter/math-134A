{
 "cells": [
  {
   "cell_type": "code",
   "execution_count": 1,
   "id": "6c996f06",
   "metadata": {},
   "outputs": [
    {
     "name": "stdout",
     "output_type": "stream",
     "text": [
      "The (after-tax) present value of the new vaccine project is: $4087435\n"
     ]
    }
   ],
   "source": [
    "#Q1 \n",
    "#this year\n",
    "# Constants and initial values\n",
    "# Function to calculate the after-tax present value of the vaccine project\n",
    "def calculate_npv(initial_investment, sales_per_unit, units_sold_annually, wage_rate_per_hour, \n",
    "                  hours_of_labor_annually, cost_per_ton_raw_material, tons_of_raw_material_annually, \n",
    "                  inflation_rate, corporate_tax_rate, depreciation, interest_rate, years):\n",
    "    # Initialize list to hold the cash flows\n",
    "    cash_flows = []\n",
    "\n",
    "    # Calculate the cash flows for each year\n",
    "    for year in range(1, years + 1):\n",
    "        # Adjust for inflation\n",
    "        sales = sales_per_unit * (1 + inflation_rate) ** (year - 1) * units_sold_annually\n",
    "        labor_cost = wage_rate_per_hour * (1 + inflation_rate) ** (year - 1) * hours_of_labor_annually\n",
    "        material_cost = cost_per_ton_raw_material * (1 + inflation_rate) ** (year - 1) * tons_of_raw_material_annually\n",
    "        operating_income = sales - (labor_cost + material_cost)\n",
    "        profit_before_tax = operating_income - depreciation\n",
    "        tax = profit_before_tax * corporate_tax_rate\n",
    "        profit_after_tax = profit_before_tax - tax\n",
    "        cash_flow = profit_after_tax + depreciation # Add back depreciation as it's a non-cash charge\n",
    "        cash_flows.append(cash_flow)\n",
    "    \n",
    "    # Calculate the present value of the cash flows\n",
    "    npv = -initial_investment\n",
    "    for i, cash_flow in enumerate(cash_flows, start=1):\n",
    "        npv += cash_flow / (1 + interest_rate) ** i\n",
    "    \n",
    "    # Return the NPV rounded to the nearest dollar\n",
    "    return round(npv)\n",
    "\n",
    "# Define the parameters based on the provided scenario\n",
    "initial_investment = 10000000\n",
    "sales_per_unit = 3.30\n",
    "units_sold_annually = 1000000\n",
    "wage_rate_per_hour = 30\n",
    "hours_of_labor_annually = 10000\n",
    "cost_per_ton_raw_material = 100\n",
    "tons_of_raw_material_annually = 100\n",
    "inflation_rate = 0.10  # 10% inflation rate\n",
    "corporate_tax_rate = 0.34\n",
    "depreciation = initial_investment / 5\n",
    "interest_rate = 0.03\n",
    "years = 5\n",
    "\n",
    "# Calculate the NPV\n",
    "npv = calculate_npv(initial_investment, sales_per_unit, units_sold_annually, wage_rate_per_hour, \n",
    "                    hours_of_labor_annually, cost_per_ton_raw_material, tons_of_raw_material_annually, \n",
    "                    inflation_rate, corporate_tax_rate, depreciation, interest_rate, years)\n",
    "\n",
    "print(f\"The (after-tax) present value of the new vaccine project is: ${npv}\")\n"
   ]
  },
  {
   "cell_type": "code",
   "execution_count": 5,
   "id": "f016ef68",
   "metadata": {},
   "outputs": [
    {
     "name": "stdout",
     "output_type": "stream",
     "text": [
      "Result: 4087435\n"
     ]
    }
   ],
   "source": [
    "#Q1 Matlab->Python\n",
    "import numpy as np\n",
    "\n",
    "# Costs\n",
    "c = 30 * 10000 * (1 + 0.1) ** np.arange(5) + 100 * 100 * (1 + 0.1) ** np.arange(5)\n",
    "\n",
    "# Revenue\n",
    "r = 3.3 * 1000000 * (1 + 0.1) ** np.arange(5)\n",
    "\n",
    "# Profit\n",
    "p = r - c\n",
    "\n",
    "# Tax calculation\n",
    "tax = (p - 10e6 / 5 * np.ones(5)) * 0.34\n",
    "\n",
    "# Profit after tax\n",
    "p1 = p - tax\n",
    "\n",
    "# Discounting future cash flows to present value\n",
    "discounted_cash_flows = np.array([-10e6] + list(p1)) / (1.03) ** np.arange(6)\n",
    "\n",
    "# Rounding the sum of discounted cash flows\n",
    "result = round(np.sum(discounted_cash_flows))\n",
    "print(\"Result:\", result)\n"
   ]
  },
  {
   "cell_type": "code",
   "execution_count": 1,
   "id": "fb8d26cd",
   "metadata": {},
   "outputs": [
    {
     "data": {
      "text/plain": [
       "(-2033.5124975117003, 4842.659952631226)"
      ]
     },
     "execution_count": 1,
     "metadata": {},
     "output_type": "execute_result"
    }
   ],
   "source": [
    "#Q2 主要会这个就行\n",
    "def cash_flow_present_value(cash_flow, effective_rate):\n",
    "    #\"\"\"Enter effective rate in percentage\"\"\"\n",
    "    if isinstance(effective_rate, list) or isinstance(effective_rate, tuple):\n",
    "        spr = [1] + [1 + r/100 for r in effective_rate]\n",
    "        p = 0.\n",
    "        for i, ai in enumerate(cash_flow):\n",
    "            p += ai / (spr[i]) ** i\n",
    "        return p\n",
    "    r = 1 + effective_rate / 100\n",
    "    res = 0\n",
    "    for i, ai in enumerate(cash_flow):\n",
    "        res += ai / r ** i\n",
    "    return res\n",
    "\n",
    "class Bond:\n",
    "    #\"\"\"Implementation of a bond. A face value $30000, 9% bond that matures in 30 periods (years) that pays its coupons twice a period (year) should be entered as Bond(9, 30, 2, 300)\"\"\"\n",
    "    def __init__(self, coupon_percentage, maturity_years, coupon_freq, face_value):\n",
    "        self.percentage = coupon_percentage / 100\n",
    "        self.maturity_years = maturity_years\n",
    "        self.coupon_freq = coupon_freq\n",
    "        self.face_value = face_value\n",
    "        flow = [0] + [coupon_percentage / coupon_freq] * maturity_years * coupon_freq\n",
    "        flow[-1] += face_value\n",
    "        self.flow = tuple(flow)\n",
    "    \n",
    "    @property\n",
    "    def coupon_payment(self):\n",
    "        return self.percentage * self.face_value / self.coupon_freq\n",
    "\n",
    "def QM_duration(cash_flow_or_bond, rates, compound_freq):\n",
    "    #\"\"\"Enter a list of spot rates (in percentage) to calculate the quasi-modified duration.\n",
    "    #Keep in mind if the price at rates = sk + y is P(y), then P'(0) = -Dq * P(0)\n",
    "\n",
    "    #This trims the first term to keep consistent with the bond calculations. i.e. following the book. calculating the\n",
    "    #quasimodified duration for (x0, x1, ..., xn) where x0 is the flow on year 0\n",
    "    \n",
    "    #You can actually feed a bond into this function and we will handle it for you\"\"\"\n",
    "    \n",
    "    if isinstance(cash_flow_or_bond, Bond):\n",
    "        cash_flow = cash_flow_or_bond.flow\n",
    "    else:\n",
    "        cash_flow = cash_flow_or_bond\n",
    "    \n",
    "    assert len(cash_flow) <= len(rates) + 1, f\"Wrong number of periods: we have {len(rates)} years of spot rates but {len(cash_flow)} years bond\"\n",
    "\n",
    "    # First calculate the pv of cash flow\n",
    "    spr = [1] + [1 + r/100 for r in rates]\n",
    "    res = 0\n",
    "    for i, ai in enumerate(cash_flow):\n",
    "        res += ai / (spr[i]) ** i\n",
    "    PV = res\n",
    "\n",
    "    x = cash_flow[1:]\n",
    "    s = [1 + r/100 for r in rates]\n",
    "    m = compound_freq\n",
    "    n = len(cash_flow) - 1\n",
    "    res = 0.\n",
    "    for _k in range(n):\n",
    "        k = _k + 1\n",
    "        rs = (k/m) * x[_k] * (s[_k]) ** (-k-1)\n",
    "        res += rs\n",
    "    return res/PV\n",
    "\n",
    "def immunize_parallel(bond1: Bond, bond2: Bond, obligation_cash_flow, rates, verbose: bool = False):\n",
    "    # Calculate the PVob, Dob of obligation\n",
    "    # Calculate the PV1, D1 of bond1\n",
    "    # Calculate the PV2, D2 of bond2\n",
    "\n",
    "    obligation = obligation_cash_flow\n",
    "\n",
    "    # First do error checking\n",
    "    num_years_total = max(bond1.maturity_years, bond2.maturity_years, len(obligation) - 1)\n",
    "    enough_rates = len(rates) >= num_years_total\n",
    "    if not enough_rates:\n",
    "        raise ValueError(f\"Expected at least {num_years_total} years of rates, found {len(rates)}\")\n",
    "\n",
    "    PVob = cash_flow_present_value(obligation, rates)\n",
    "    PV1 = cash_flow_present_value(bond1.flow, rates)\n",
    "    PV2 = cash_flow_present_value(bond2.flow, rates)\n",
    "    \n",
    "    Dob = QM_duration(obligation, rates, 1)\n",
    "    D1 = QM_duration(bond1, rates, 1)\n",
    "    D2 = QM_duration(bond2, rates, 1)\n",
    "\n",
    "    if verbose:\n",
    "        print(f\"Duration of bond 1: {D1}\")\n",
    "        print(f\"Duration of bond 2: {D2}\")\n",
    "        print(f\"Duration of obligation: {Dob}\")\n",
    "        print(f\"Present value of bond 1: {PV1}\")\n",
    "        print(f\"Present value of bond 2: {PV2}\")\n",
    "        print(f\"Present value of obligation: {PVob}\")\n",
    "\n",
    "    # Solve for\n",
    "    # PV1   PV2     x1 = PVob\n",
    "    # PV1D1 PV2D2   x2 = PVob Dob\n",
    "\n",
    "    # Hence\n",
    "    # x1 =  |PV1   PV2  |-1  |PVob    |\n",
    "    # x2 =  |PV1D1 PV2D2|    |PVob Dob|\n",
    "    det = PV1 * PV2 * D2 - PV2 * PV1 * D1\n",
    "    if abs(det) < 1e-5:\n",
    "        raise ValueError(\"This portfolio cannot be immunized - the equations have no solutions\")\n",
    "\n",
    "    x1 = 1/det * (PV2 * PVob * D2 - PVob * Dob * PV2)\n",
    "    x2 = 1/det * (PV1 * PVob * Dob - PVob * D1 * PV1)\n",
    "\n",
    "    if verbose:\n",
    "        print(f\"Buy {x1} units of bond 1 and {x2} units of bond 2\")\n",
    "\n",
    "    return x1, x2\n",
    "\n",
    "\n",
    "## The inputs: in percentage\n",
    "spot_rates = [2.25, 2.50, 2.75, 3.00, 3.25]\n",
    "bond1 = Bond(6, 5, 1, 100)\n",
    "bond2 = Bond(10, 4, 1, 100)\n",
    "obligation = (0, 50000, 51000 + 51000, 52000 + 52000, 53000 + 53000, 54000)\n",
    "immunize_parallel(bond1, bond2, obligation, spot_rates)\n"
   ]
  },
  {
   "cell_type": "code",
   "execution_count": 9,
   "id": "5e9a33b0",
   "metadata": {},
   "outputs": [
    {
     "name": "stdout",
     "output_type": "stream",
     "text": [
      "x: [-2033.512  4842.66 ]\n"
     ]
    }
   ],
   "source": [
    "#Q2 Matlab->Python\n",
    "import numpy as np\n",
    "\n",
    "# Defining the spot rates\n",
    "s = np.array([225, 250, 275, 300, 325]) / 1e4\n",
    "\n",
    "# Calculations for the first set of cash flows\n",
    "pv1 = np.array([6] * 4 + [106]) / (1 + s) ** np.arange(1, 6)\n",
    "P1 = np.sum(pv1)\n",
    "dP1dlambda = np.array([6] * 4 + [106]) * np.arange(1, 6) * (1 + s) ** -np.arange(2, 7)\n",
    "D1 = np.sum(dP1dlambda) / P1\n",
    "\n",
    "# Calculations for the second set of cash flows\n",
    "pv2 = np.array([10] * 3 + [110]) / (1 + s[:4]) ** np.arange(1, 5)\n",
    "P2 = np.sum(pv2)\n",
    "dP2dlambda = np.array([10] * 3 + [110]) * np.arange(1, 5) * (1 + s[:4]) ** -np.arange(2, 6)\n",
    "D2 = np.sum(dP2dlambda) / P2\n",
    "\n",
    "# Calculations for the observed cash flows\n",
    "ob = np.array([50000, 102000, 104000, 106000, 54000])\n",
    "P_ob = np.sum(ob / (1 + s) ** np.arange(1, 6))\n",
    "D_ob = np.sum(ob * np.arange(1, 6) * (1 + s) ** -np.arange(2, 7)) / P_ob\n",
    "\n",
    "# Solving the linear equations\n",
    "x = np.round(np.linalg.solve([[P1, P2], [P1 * D1, P2 * D2]], [P_ob, P_ob * D_ob]), 3)\n",
    "\n",
    "print(\"x:\", x)\n"
   ]
  },
  {
   "cell_type": "code",
   "execution_count": null,
   "id": "97e42905",
   "metadata": {},
   "outputs": [],
   "source": [
    "#Q3\n",
    "#2*79.66-100=59.32"
   ]
  },
  {
   "cell_type": "code",
   "execution_count": 10,
   "id": "97ae2ecf",
   "metadata": {},
   "outputs": [
    {
     "name": "stdout",
     "output_type": "stream",
     "text": [
      "X: [ 2. -1.]\n",
      "P: 59.31999999999999\n",
      "S: 0.05361000442717456\n"
     ]
    }
   ],
   "source": [
    "#Q3 matlab->Python\n",
    "import numpy as np\n",
    "\n",
    "# Given values\n",
    "P1 = 79.66\n",
    "P2 = 100\n",
    "C1 = 0.03\n",
    "C2 = 0.06\n",
    "F = 100\n",
    "T = 10\n",
    "\n",
    "# Solving the system of linear equations\n",
    "X = np.linalg.solve([[F, F], [C1, C2]], [F, 0])\n",
    "\n",
    "# Calculating the price P\n",
    "P = np.dot(X, [P1, P2])\n",
    "\n",
    "# Calculating the yield to maturity S\n",
    "S = (F / P) ** (1 / T) - 1\n",
    "\n",
    "print(\"X:\", X)\n",
    "print(\"P:\", P)\n",
    "print(\"S:\", S)\n"
   ]
  },
  {
   "cell_type": "code",
   "execution_count": 2,
   "id": "0abad65b",
   "metadata": {},
   "outputs": [
    {
     "name": "stdout",
     "output_type": "stream",
     "text": [
      "Orginal Payment: 3696.194726888144\n"
     ]
    },
    {
     "data": {
      "text/plain": [
       "5097.880172055114"
      ]
     },
     "execution_count": 2,
     "metadata": {},
     "output_type": "execute_result"
    }
   ],
   "source": [
    "#Q4\n",
    "def new_paymt(P, n1, m, r1, r2, n2): \n",
    "    A1 = r1/m*P*(1-1/(1+r1/m)**(n1*m))**(-1)\n",
    "    print('Orginal Payment:', A1)\n",
    "    P1 = A1/(r1/m)*(1-1/(1+r1/m)**((n1-n2)*m))\n",
    "    A2 = r2/m*P1*(1-1/(1+r2/m)**((n1-n2)*m))**(-1)\n",
    "    return A2\n",
    "\n",
    "new_paymt(P=1000000, n1=30, m=12, r1=0.02, r2=0.05, n2=5)"
   ]
  },
  {
   "cell_type": "code",
   "execution_count": 11,
   "id": "4e51b2d5",
   "metadata": {
    "scrolled": true
   },
   "outputs": [
    {
     "name": "stdout",
     "output_type": "stream",
     "text": [
      "Monthly payment for the first loan (A): 3696.194726888144\n",
      "Recalculated principal for the new loan (P): 872043.6220406473\n",
      "Monthly payment for the new loan (A1): 5097.880172055114\n"
     ]
    }
   ],
   "source": [
    "#Q4 matlab->Python\n",
    "# Initial loan parameters\n",
    "P1 = 1000000\n",
    "n1 = 30 * 12  # 30 years in months\n",
    "r1 = 0.02 / 12  # Monthly interest rate\n",
    "\n",
    "# Monthly payment calculation for the first loan\n",
    "A = (r1 * (1 + r1) ** n1 * P1) / ((1 + r1) ** n1 - 1)\n",
    "\n",
    "# New loan parameters\n",
    "n2 = 25 * 12  # 25 years in months\n",
    "r2 = 0.05 / 12  # New monthly interest rate\n",
    "\n",
    "# Recalculating the principal for the new loan\n",
    "P = (A / r1) * (1 - 1 / (1 + r1) ** n2)\n",
    "\n",
    "# Monthly payment calculation for the new loan\n",
    "A1 = (r2 * (1 + r2) ** n2 * P) / ((1 + r2) ** n2 - 1)\n",
    "\n",
    "print(\"Monthly payment for the first loan (A):\", A)\n",
    "print(\"Recalculated principal for the new loan (P):\", P)\n",
    "print(\"Monthly payment for the new loan (A1):\", A1)\n"
   ]
  },
  {
   "cell_type": "code",
   "execution_count": 3,
   "id": "92ea5772",
   "metadata": {},
   "outputs": [
    {
     "data": {
      "text/plain": [
       "680.5225038849858"
      ]
     },
     "execution_count": 3,
     "metadata": {},
     "output_type": "execute_result"
    }
   ],
   "source": [
    "#Q5\n",
    "import math\n",
    "#P = mortegage value n1 = original terms, n2= rest terms, r1 = ir1, r2 =ir2\n",
    "def ext_term(P, n1, m, r1, r2, n2): \n",
    "    A1 = r1/m*P*(1-1/(1+r1/m)**(n1*m))**(-1)\n",
    "    P1 = A1/(r1/m)*(1-1/(1+r1/m)**((n1-n2)*m))\n",
    "    a = P1 * r2/m / A1\n",
    "    b = 1 - a\n",
    "    t = -math.log(b, (1+r2/m))\n",
    "    return t - (n1-n2)*m\n",
    "\n",
    "ext_term(P=1000000, n1=30, m=12, r1=0.02, r2=0.05, n2=5)"
   ]
  },
  {
   "cell_type": "code",
   "execution_count": 14,
   "id": "6ae476d2",
   "metadata": {},
   "outputs": [
    {
     "data": {
      "text/plain": [
       "(6, 126403.43124625734)"
      ]
     },
     "execution_count": 14,
     "metadata": {},
     "output_type": "execute_result"
    }
   ],
   "source": [
    "#Q6\n",
    "# Parameters as per the user's description\n",
    "initial_cost = 16000  \n",
    "replacement_cost = 16000\n",
    "annual_increase = 1000\n",
    "interest_rate = 0.06\n",
    "operating_cost_first_year = 2000\n",
    "\n",
    "# Define the operating costs for a maximum of 30 years\n",
    "years = 30\n",
    "operating_costs = [operating_cost_first_year + i * annual_increase for i in range(years)]\n",
    "\n",
    "# Function to calculate present value of costs\n",
    "def present_value(cost, rate, year):\n",
    "    return cost / ((1 + rate) ** year)\n",
    "\n",
    "# Calculate the present value of the operating costs for each year\n",
    "present_values_operating = [present_value(oc, interest_rate, year) for year, oc in enumerate(operating_costs, start=1)]\n",
    "\n",
    "# Function to calculate the total cost for a given replacement period n\n",
    "def total_cost(n):\n",
    "    # Present value of initial cost\n",
    "    pv_initial_cost = present_value(initial_cost, interest_rate, 0)\n",
    "    # Sum of present values of operating costs up to year n\n",
    "    pv_operating_costs = sum(present_values_operating[:n])\n",
    "    # Total present value cost of owning the machine for n years (including replacement every n years indefinitely)\n",
    "    # is the initial cost plus operating costs times the series sum of (1 - (1 + r)^(-n))^-1\n",
    "    # This is the present value annuity factor for a perpetuity with payments every n years\n",
    "    annuity_factor = (1 - (1 + interest_rate)**(-n))**(-1)\n",
    "    total_pv_cost = (pv_initial_cost + pv_operating_costs) * annuity_factor\n",
    "    return total_pv_cost\n",
    "\n",
    "# Initialize the minimum cost to a large number and optimal n to None\n",
    "min_cost = float('inf')\n",
    "optimal_n = None\n",
    "\n",
    "# Check for the optimal replacement period from 1 to 30 years\n",
    "for n in range(1, years + 1):\n",
    "    cost_n = total_cost(n)\n",
    "    if cost_n < min_cost:\n",
    "        min_cost = cost_n\n",
    "        optimal_n = n\n",
    "\n",
    "optimal_n, min_cost\n"
   ]
  },
  {
   "cell_type": "code",
   "execution_count": 14,
   "id": "e6d97c0e",
   "metadata": {},
   "outputs": [
    {
     "data": {
      "text/plain": [
       "6"
      ]
     },
     "execution_count": 14,
     "metadata": {},
     "output_type": "execute_result"
    }
   ],
   "source": [
    "#Q6 \n",
    "import numpy as np\n",
    "\n",
    "# Parameters\n",
    "interest_rate = 0.06\n",
    "\n",
    "# Initialize the array A\n",
    "A = np.zeros(49)\n",
    "\n",
    "# Loop to calculate NPV for each case\n",
    "for i in range(2, 51):\n",
    "    a = [2000] + [2000 + j * 1000 for j in range(1, i)] + [2000 + i * 1000 + 16000]\n",
    "    b = [16000] + a * 50\n",
    "    npv = np.sum(b / np.power(1 + interest_rate, np.arange(len(b))))\n",
    "    A[i - 2] = npv\n",
    "\n",
    "# Finding the minimum NPV and corresponding index\n",
    "min_value = np.min(A)\n",
    "min_index = np.argmin(A) + 2  # adding 2 to match the MATLAB indexing\n",
    "\n",
    "# Adjusting for MATLAB's 1-based indexing\n",
    "adjusted_min_index = min_index + 1\n",
    "\n",
    "# Output the result\n",
    "adjusted_min_index\n",
    "\n"
   ]
  },
  {
   "cell_type": "code",
   "execution_count": null,
   "id": "709df9cb",
   "metadata": {},
   "outputs": [],
   "source": [
    "#Q7 sentence"
   ]
  },
  {
   "cell_type": "code",
   "execution_count": 4,
   "id": "fef144e8",
   "metadata": {},
   "outputs": [
    {
     "data": {
      "text/plain": [
       "1600.0000000000002"
      ]
     },
     "execution_count": 4,
     "metadata": {},
     "output_type": "execute_result"
    }
   ],
   "source": [
    "#Q8  \n",
    "def allocate_a(n, rb, rm, rf):   # $n dollars, a in market portfolio, n-a in risk-free asset, return a\n",
    "    # n*rb = a*rm + (n-a)*rf\n",
    "    return n*(rb-rf) / (rm-rf)\n",
    "\n",
    "allocate_a(n=1000, rb=0.18, rm=0.12, rf=0.02)\n",
    "     "
   ]
  },
  {
   "cell_type": "code",
   "execution_count": 16,
   "id": "d01cfff6",
   "metadata": {},
   "outputs": [],
   "source": [
    "#Q9-11\n",
    "import numpy as np\n",
    "from numpy import ndarray\n",
    "class OptimizeStockPortfolio:\n",
    "    def __init__(self, expected_returns: list[float], covariances: np.ndarray[np.float64]):\n",
    "        #\"\"\"Solves the Markovitz problem. Refer to the example below\"\"\"\n",
    "        r, w = covariances.shape\n",
    "        self.n = len(expected_returns)\n",
    "\n",
    "        if r != w or r != self.n:\n",
    "            raise ValueError(f\"Expected number of stocks equal number of correlations... got number of stocks: {self.n}, correlation array: {r}x{w}\")\n",
    "\n",
    "        if not np.all(covariances - covariances.T < 1e-6): #type: ignore\n",
    "            raise ValueError(f\"Expected the covariance to be a symmetric matrix\")\n",
    "\n",
    "        # if np.all(np.abs(covariances.diagonal() - 1) < 1e-6): #type: ignore\n",
    "        #     print(\"All diagonal entries are 1, did you enter the correlation matrix?\")\n",
    "\n",
    "        self.expecteds = np.array(expected_returns)\n",
    "        self.covariances = np.array(covariances)\n",
    "\n",
    "    def returns(self, weights: ndarray[np.float64]) -> tuple[float,float]: #type: ignore\n",
    "        r = weights.dot(self.expecteds)\n",
    "        sd = weights.T @ self.covariances @ weights\n",
    "        return r, sd #type: ignore\n",
    "\n",
    "    def solve_analytical(self):\n",
    "        n, = self.expecteds.shape\n",
    "        A = np.array(self.covariances)\n",
    "        b = np.ones((n,))\n",
    "\n",
    "        A_inv: ndarray[np.float64]\n",
    "\n",
    "        try:\n",
    "            A_inv = np.linalg.inv(A)\n",
    "        except LinAlgError:\n",
    "            raise ValueError(\"The matrix is not invertible. Try solving it the numerical way\")\n",
    "\n",
    "        x = A_inv @ b\n",
    "        best_weight = x[:n] / np.sum(x[:n])\n",
    "        best_r, best_sd = self.returns(best_weight)\n",
    "\n",
    "        print(f\"Best average return: {best_r}\")\n",
    "        print(f\"Minimum standard deviation: {best_sd}\")\n",
    "        print(f\"Best weights: {best_weight}\")\n",
    "\n",
    "        return best_weight\n",
    "\n",
    "    def solve_analytical_target_return(self, target_mean_return: float):\n",
    "       # \"\"\"Solves the Markowitz problem analytically. Enter the target mean return r-bar in percentage\"\"\"\n",
    "        r_bar = target_mean_return\n",
    "        n, = self.expecteds.shape\n",
    "\n",
    "        # There are n + 2 variables in total, the equations (in compact form) are:\n",
    "        # w1 + ... + wn = 1\n",
    "        # w1r1 + w2r2 + ... + wnrn = r_bar\n",
    "        # C w - l r - m = 0\n",
    "        # where the n + 2 variables are w1 ... wn and l and m\n",
    "\n",
    "        # So in the spirit of solving system of linear equations, we make the matrix A and vector b so that we solve Ax = b\n",
    "\n",
    "        A = np.zeros((n+2, n+2))\n",
    "        b = np.zeros((n+2,))\n",
    "\n",
    "        # First equation\n",
    "        A[0, :n] = 1\n",
    "        b[0] = 1\n",
    "\n",
    "        # Second equation\n",
    "        A[1, :n] = self.expecteds\n",
    "        b[1] = r_bar\n",
    "\n",
    "        # Covariance equations\n",
    "        A[2:, :n] = self.covariances\n",
    "        A[2:, n] = -self.expecteds\n",
    "        A[2:, n+1] = -1\n",
    "\n",
    "        # Solve equation the lazy way:\n",
    "        A_inv: np.ndarray[np.float64]\n",
    "\n",
    "        try:\n",
    "            A_inv = np.linalg.inv(A)\n",
    "        except LinAlgError:\n",
    "            raise ValueError(\"The matrix is not invertible. Try solving it the numerical way\")\n",
    "\n",
    "        x = A_inv @ b\n",
    "        best_weight = x[:n]\n",
    "        best_r, best_sd = self.returns(best_weight)\n",
    "\n",
    "        print(f\"Best average return: {best_r}\")\n",
    "        print(f\"Minimum standard deviation: {best_sd}\")\n",
    "        print(f\"Best weights: {best_weight}\")\n",
    "\n",
    "        return best_weight\n",
    "\n",
    "    def solve_tan_analytical(self, risk_free_rate: float):\n",
    "        n, = self.expecteds.shape\n",
    "        A = np.array(self.covariances)\n",
    "        b = self.expecteds - risk_free_rate\n",
    "\n",
    "        A_inv: ndarray[np.float64]\n",
    "\n",
    "        try:\n",
    "            A_inv = np.linalg.inv(A)\n",
    "        except LinAlgError:\n",
    "            raise ValueError(\"The matrix is not invertible. Try solving it the numerical way\")\n",
    "\n",
    "        x = A_inv @ b\n",
    "        best_weight = x[:n] / np.sum(x[:n])\n",
    "        best_r, best_sd = self.returns(best_weight)\n",
    "\n",
    "        print(f\"Best average return: {best_r}\")\n",
    "        print(f\"Minimum standard deviation: {best_sd}\")\n",
    "        print(f\"Best weights: {best_weight}\")\n",
    "\n",
    "        return best_weight\n",
    "\n",
    "def markowitz_analytical(expected_returns, covariances):\n",
    "    #\"\"\"Solves the classical markowitz problem by using approximation approach\"\"\"\n",
    "    s = OptimizeStockPortfolio(expected_returns, covariances)\n",
    "    return s.solve_analytical()\n",
    "\n",
    "def markowitz_riskfree_analytical(expected_returns, covariances, risk_free):\n",
    "    #\"\"\"Solves markowitz problem with risk free rate. Enter risk free rate in percentage\"\"\"\n",
    "    s = OptimizeStockPortfolio(expected_returns, covariances)\n",
    "    return s.solve_tan_analytical(risk_free)\n",
    "\n",
    "def markowitz_fixed_mean_analytical(expected_returns, covariances, target_mean_return):\n",
    "    #\"\"\"Solves markowitz problem with a target mean return. Enter risk free rate in percentage\"\"\"\n",
    "    s = OptimizeStockPortfolio(expected_returns, covariances)\n",
    "    return s.solve_analytical_target_return(target_mean_return)"
   ]
  },
  {
   "cell_type": "code",
   "execution_count": 15,
   "id": "eec27c2d",
   "metadata": {},
   "outputs": [
    {
     "name": "stdout",
     "output_type": "stream",
     "text": [
      "Q9 - aim for 80% return\n",
      "Best average return: 79.99999999999996\n",
      "Minimum standard deviation: 0.1618979763761178\n",
      "Best weights: [ 0.74492302  0.89403309 -0.5980176   0.30411715 -0.34505565]\n",
      "7449.230162571025\n",
      "\n",
      "\n",
      "Q10\n",
      "Best average return: 53.00171526586621\n",
      "Minimum standard deviation: 0.12381360777587187\n",
      "Best weights: [ 0.0971984   0.53230417 -0.15208691  0.60777587 -0.08519154]\n",
      "\n",
      "\n",
      "Q11\n",
      "Best average return: 101.36131335760292\n",
      "Minimum standard deviation: 0.2460047653270432\n",
      "Best weights: [ 1.25740922  1.18023663 -0.95084243  0.06385933 -0.55066275]\n",
      "0.0638593297862414\n"
     ]
    }
   ],
   "source": [
    "# Q9\n",
    "returns = np.array([69, 65, 44, 36, 41])\n",
    "\n",
    "covs = np.array([\n",
    "    [0.21, 0.12, 0.17, 0.13, 0.16],\n",
    "    [0.12, 0.15, 0.12, 0.10, 0.12],\n",
    "    [0.17, 0.12, 0.19, 0.14, 0.15],\n",
    "    [0.13, 0.10, 0.14, 0.15, 0.14],\n",
    "    [0.16, 0.12, 0.15, 0.14, 0.21]\n",
    "])\n",
    "\n",
    "print(\"Q9 - aim for 80% return\")\n",
    "w = markowitz_fixed_mean_analytical(returns, covs, 80)\n",
    "print(w[0] * 10000)\n",
    "\n",
    "print(\"\\n\\nQ10\")\n",
    "markowitz_analytical(returns, covs)\n",
    "\n",
    "print(\"\\n\\nQ11\")\n",
    "w = markowitz_riskfree_analytical(returns, covs, 4)\n",
    "print(w[3])\n"
   ]
  },
  {
   "cell_type": "code",
   "execution_count": 17,
   "id": "0411c5b3",
   "metadata": {},
   "outputs": [
    {
     "data": {
      "text/plain": [
       "array([ 0.74492302,  0.89403309, -0.5980176 ,  0.30411715, -0.34505565])"
      ]
     },
     "execution_count": 17,
     "metadata": {},
     "output_type": "execute_result"
    }
   ],
   "source": [
    "#Q9 matlab ->Python\n",
    "import numpy as np\n",
    "\n",
    "# Covariance matrix V\n",
    "V = np.array([\n",
    "    [0.21, 0.12, 0.17, 0.13, 0.16],\n",
    "    [0.12, 0.15, 0.12, 0.10, 0.12],\n",
    "    [0.17, 0.12, 0.19, 0.14, 0.15],\n",
    "    [0.13, 0.10, 0.14, 0.15, 0.14],\n",
    "    [0.16, 0.12, 0.15, 0.14, 0.21]\n",
    "])\n",
    "\n",
    "# Expected returns of assets\n",
    "r_bar = np.array([0.69, 0.65, 0.44, 0.36, 0.41])\n",
    "\n",
    "# Constructing the augmented matrix for the linear system\n",
    "A = np.vstack([\n",
    "    np.hstack([V, -r_bar[:, np.newaxis], -np.ones((5, 1))]),\n",
    "    np.hstack([r_bar, [0], [0]]),\n",
    "    np.hstack([np.ones(5), [0], [0]])\n",
    "])\n",
    "\n",
    "# Constructing the right-hand side of the equation\n",
    "b = np.append(np.zeros(5), [0.8, 1])\n",
    "\n",
    "# Solving the linear system\n",
    "solution = np.linalg.solve(A, b)\n",
    "\n",
    "# Extracting the weights and normalizing them to sum to 1\n",
    "weights = solution[:5] / sum(solution[:5])\n",
    "\n",
    "weights\n"
   ]
  },
  {
   "cell_type": "code",
   "execution_count": 2,
   "id": "f6f6dd36",
   "metadata": {},
   "outputs": [
    {
     "data": {
      "text/plain": [
       "(array([ 0.0971984 ,  0.53230417, -0.15208691,  0.60777587, -0.08519154]),\n",
       " 0.12381360777587194)"
      ]
     },
     "execution_count": 2,
     "metadata": {},
     "output_type": "execute_result"
    }
   ],
   "source": [
    "#Q10 matlab ->Python\n",
    "import numpy as np\n",
    "\n",
    "# Covariance matrix V\n",
    "V = np.array([\n",
    "    [0.21, 0.12, 0.17, 0.13, 0.16],\n",
    "    [0.12, 0.15, 0.12, 0.10, 0.12],\n",
    "    [0.17, 0.12, 0.19, 0.14, 0.15],\n",
    "    [0.13, 0.10, 0.14, 0.15, 0.14],\n",
    "    [0.16, 0.12, 0.15, 0.14, 0.21]\n",
    "])\n",
    "\n",
    "# Augmenting the covariance matrix with ones to account for the constraint\n",
    "augmented_matrix = np.vstack([V, np.ones(V.shape[1])])\n",
    "augmented_matrix = np.hstack([augmented_matrix, np.ones((augmented_matrix.shape[0], 1))])\n",
    "augmented_matrix[-1, -1] = 0\n",
    "\n",
    "# Right-hand side vector\n",
    "b = np.zeros(V.shape[1] + 1)\n",
    "b[-1] = 1\n",
    "\n",
    "# Solving the linear system\n",
    "solution = np.linalg.solve(augmented_matrix, b)\n",
    "\n",
    "# Extracting the weights\n",
    "weights = solution[:-1]\n",
    "\n",
    "weights, np.dot(weights.T, np.dot(V, weights))\n"
   ]
  },
  {
   "cell_type": "code",
   "execution_count": 17,
   "id": "f10dbe73",
   "metadata": {},
   "outputs": [
    {
     "data": {
      "text/plain": [
       "(array([ 0.09784196,  0.53081372, -0.15176843,  0.60785143, -0.08473869]),\n",
       " 0.12381379769561046)"
      ]
     },
     "execution_count": 17,
     "metadata": {},
     "output_type": "execute_result"
    }
   ],
   "source": [
    "#10  gpt生成\n",
    "import numpy as np\n",
    "from scipy.optimize import minimize\n",
    "\n",
    "# Define the variance-covariance matrix\n",
    "var_covar_matrix = np.array([\n",
    "    [0.21, 0.12, 0.17, 0.13, 0.16],\n",
    "    [0.12, 0.15, 0.12, 0.10, 0.12],\n",
    "    [0.17, 0.12, 0.19, 0.14, 0.15],\n",
    "    [0.13, 0.10, 0.14, 0.15, 0.14],\n",
    "    [0.16, 0.12, 0.15, 0.14, 0.21]\n",
    "])\n",
    "\n",
    "# Function to calculate portfolio variance\n",
    "def calculate_portfolio_variance(weights):\n",
    "    return weights.T @ var_covar_matrix @ weights\n",
    "\n",
    "# Constraint for the weights to sum up to 1\n",
    "constraints = ({'type': 'eq', 'fun': lambda weights: np.sum(weights) - 1})\n",
    "\n",
    "# Initial guess for the weights\n",
    "initial_weights = np.array([0.2, 0.2, 0.2, 0.2, 0.2])\n",
    "\n",
    "# Bounds for the weights, allowing short selling\n",
    "bounds = [(-1, 1) for _ in range(len(initial_weights))]\n",
    "\n",
    "# Run the optimizer to minimize the portfolio variance\n",
    "optimal_portfolio = minimize(calculate_portfolio_variance, initial_weights, method='SLSQP', bounds=bounds, constraints=constraints)\n",
    "\n",
    "# The optimal weights\n",
    "optimal_weights = optimal_portfolio.x\n",
    "\n",
    "# The minimum portfolio variance\n",
    "min_portfolio_variance = optimal_portfolio.fun\n",
    "\n",
    "# Output the results\n",
    "optimal_weights, min_portfolio_variance\n"
   ]
  },
  {
   "cell_type": "code",
   "execution_count": 15,
   "id": "37564fcc",
   "metadata": {},
   "outputs": [
    {
     "data": {
      "text/plain": [
       "(array([ 1.25740922,  1.18023663, -0.95084243,  0.06385933, -0.55066275]),\n",
       " 1.0136131335760286,\n",
       " 0.24600476532704305,\n",
       " array([ 0.98153052,  0.92128979, -0.74222525,  0.04984843, -0.42984598]),\n",
       " 1.0136131335760286,\n",
       " 0.1498986967558755,\n",
       " 0.14989869675587547)"
      ]
     },
     "execution_count": 15,
     "metadata": {},
     "output_type": "execute_result"
    }
   ],
   "source": [
    "#Q11 matlab->Python use w_1\n",
    "import numpy as np\n",
    "\n",
    "# Define the covariance matrix V and expected returns r_bar\n",
    "V = np.array([\n",
    "    [0.21, 0.12, 0.17, 0.13, 0.16],\n",
    "    [0.12, 0.15, 0.12, 0.10, 0.12],\n",
    "    [0.17, 0.12, 0.19, 0.14, 0.15],\n",
    "    [0.13, 0.10, 0.14, 0.15, 0.14],\n",
    "    [0.16, 0.12, 0.15, 0.14, 0.21]\n",
    "])\n",
    "r_bar = np.array([0.69, 0.65, 0.44, 0.36, 0.41])\n",
    "r_f = 0.04\n",
    "\n",
    "# Solve for weights of one fund\n",
    "v_1 = np.linalg.solve(V, r_bar - r_f)\n",
    "w_1 = v_1 / sum(v_1)\n",
    "\n",
    "# Mean return\n",
    "MR1 = r_bar.T @ w_1\n",
    "Var1 = w_1.T @ V @ w_1\n",
    "\n",
    "# Desired mean\n",
    "Desired_mean = 0.8\n",
    "\n",
    "# Find weights of portfolio with desired mean\n",
    "alpha = (Desired_mean - MR1) / (r_f - MR1)\n",
    "w_2 = (1 - alpha) * w_1\n",
    "\n",
    "# Variance of portfolio (for one fund s.d. = (1 - alpha) s.d. of one fund)\n",
    "Var = (1 - alpha)**2 * w_1.T @ V @ w_1\n",
    "Var2 = w_2.T @ V @ w_2\n",
    "\n",
    "w_1, MR1, Var1, w_2, MR1, Var, Var2\n"
   ]
  },
  {
   "cell_type": "code",
   "execution_count": 10,
   "id": "a8783ca6",
   "metadata": {},
   "outputs": [
    {
     "name": "stdout",
     "output_type": "stream",
     "text": [
      "[[ 0.16576329]\n",
      " [ 0.34497427]\n",
      " [-0.00713551]\n",
      " [ 0.56686106]\n",
      " [-0.07046312]\n",
      " [ 0.18202401]]\n"
     ]
    }
   ],
   "source": [
    "#Q12 Matlab->Python\n",
    "import numpy as np\n",
    "\n",
    "# Define the variables\n",
    "var_v = 0.04\n",
    "beta = np.array([1.16, 0.70, 1.15, 0.98, 1.01]).reshape(-1, 1)  # Reshape to column vector\n",
    "cov_v = beta * var_v\n",
    "\n",
    "# Define the matrix V\n",
    "V = np.array([[0.21, 0.12, 0.17, 0.13, 0.16],\n",
    "              [0.12, 0.15, 0.12, 0.10, 0.12],\n",
    "              [0.17, 0.12, 0.19, 0.14, 0.15],\n",
    "              [0.13, 0.10, 0.14, 0.15, 0.14],\n",
    "              [0.16, 0.12, 0.15, 0.14, 0.21]])\n",
    "\n",
    "# Construct the matrix and vector for the linear system\n",
    "A = np.block([[2 * V, -np.ones((5, 1))],\n",
    "              [np.ones((1, 5)), np.zeros((1, 1))]])\n",
    "b = np.vstack([2 * cov_v, [[1]]])\n",
    "\n",
    "# Solve the linear system\n",
    "OPW_12 = np.linalg.solve(A, b)\n",
    "\n",
    "# Print the result\n",
    "print(OPW_12)\n"
   ]
  },
  {
   "cell_type": "code",
   "execution_count": 11,
   "id": "958991e0",
   "metadata": {},
   "outputs": [
    {
     "data": {
      "text/plain": [
       "array([[-0.81944149],\n",
       "       [-0.20522414],\n",
       "       [ 0.67113585],\n",
       "       [ 1.02873331],\n",
       "       [ 0.32479647],\n",
       "       [ 0.40946389],\n",
       "       [-0.42911796]])"
      ]
     },
     "execution_count": 11,
     "metadata": {},
     "output_type": "execute_result"
    }
   ],
   "source": [
    "#Q13 matlab->Python\n",
    "# Updated data\n",
    "V = np.array([\n",
    "    [0.21, 0.12, 0.17, 0.13, 0.16],\n",
    "    [0.12, 0.15, 0.12, 0.10, 0.12],\n",
    "    [0.17, 0.12, 0.19, 0.14, 0.15],\n",
    "    [0.13, 0.10, 0.14, 0.15, 0.14],\n",
    "    [0.16, 0.12, 0.15, 0.14, 0.21]\n",
    "])\n",
    "r_bar = np.array([0.69, 0.65, 0.44, 0.36, 0.41]).reshape(-1, 1)\n",
    "var_v = 0.04\n",
    "beta = np.array([1.16, 0.70, 1.15, 0.98, 1.01]).reshape(-1, 1)\n",
    "cov_v = beta * var_v\n",
    "\n",
    "# Constructing the matrices for the linear system\n",
    "A = np.block([\n",
    "    [2 * V, -np.ones((5, 1)), -r_bar],\n",
    "    [np.ones((1, 5)), 0, 0],\n",
    "    [r_bar.T, 0, 0]\n",
    "])\n",
    "b = np.vstack((2 * cov_v, 1, 0.1))\n",
    "\n",
    "# Solving the linear system\n",
    "OPW_13 = np.linalg.solve(A, b)\n",
    "OPW_13\n"
   ]
  },
  {
   "cell_type": "code",
   "execution_count": null,
   "id": "aa9f677c",
   "metadata": {},
   "outputs": [],
   "source": []
  },
  {
   "cell_type": "code",
   "execution_count": 9,
   "id": "344d97fc",
   "metadata": {},
   "outputs": [
    {
     "name": "stdout",
     "output_type": "stream",
     "text": [
      "0.035598064088857954\n"
     ]
    },
    {
     "data": {
      "text/plain": [
       "153.79"
      ]
     },
     "execution_count": 9,
     "metadata": {},
     "output_type": "execute_result"
    }
   ],
   "source": [
    "#Q14 \n",
    "import numpy as np\n",
    "from scipy.optimize import fsolve\n",
    "\n",
    "# Function to calculate the price of a bond given its yield to maturity (YTM)\n",
    "def bond_price(face_value, coupon_rate, n_periods, YTM):\n",
    "    coupon = face_value * coupon_rate / 2  # Semi-annual coupon payment\n",
    "    discount_factors = [(1 + YTM / 2)**-i for i in range(1, n_periods + 1)]\n",
    "    price = sum(coupon * df for df in discount_factors) + face_value * discount_factors[-1]\n",
    "    return price\n",
    "\n",
    "# Function to calculate the yield to maturity of a bond\n",
    "def bond_yield_to_maturity(price, face_value, coupon_rate, n_periods):\n",
    "    # Function to be solved for the yield (the difference between market price and calculated price)\n",
    "    func = lambda YTM: bond_price(face_value, coupon_rate, n_periods, YTM) - price\n",
    "    # Initial guess for the yield (close to the coupon rate)\n",
    "    YTM_initial_guess = coupon_rate\n",
    "    # Solve for the yield to maturity\n",
    "    YTM, = fsolve(func, YTM_initial_guess)\n",
    "    return YTM\n",
    "\n",
    "# Given values for the 5-year bond\n",
    "price_5_year = 102  # Given market price of the 5-year bond\n",
    "face_value = 100\n",
    "coupon_rate_5_year = 0.04\n",
    "n_periods_5_year = 5*2   # 5 years, semi-annual coupons\n",
    "\n",
    "# Calculate the YTM for the 5-year bond\n",
    "YTM_5_year = bond_yield_to_maturity(price_5_year, face_value, coupon_rate_5_year, n_periods_5_year)\n",
    "\n",
    "# Now, calculate the price of the 10-year bond using the YTM of the 5-year bond\n",
    "coupon_rate_10_year = 0.10\n",
    "n_periods_10_year = 10*2  # 10 years, semi-annual coupons\n",
    "\n",
    "# Calculate the price of the 10-year bond using the YTM of the 5-year bond\n",
    "price_10_year = bond_price(face_value, coupon_rate_10_year, n_periods_10_year, YTM_5_year)\n",
    "\n",
    "# Round the price to two decimal places\n",
    "price_10_year_rounded = round(price_10_year, 2)\n",
    "\n",
    "print(YTM_5_year)\n",
    "price_10_year_rounded\n"
   ]
  },
  {
   "cell_type": "code",
   "execution_count": 1,
   "id": "33a29adc",
   "metadata": {},
   "outputs": [
    {
     "name": "stdout",
     "output_type": "stream",
     "text": [
      "[  2.   2.   2.   2.   2.   2.   2.   2.   2. 102.]\n",
      "[-102.    2.    2.    2.    2.    2.    2.    2.    2.    2.  102.]\n",
      "The bond's yield to maturity is 3.56%\n"
     ]
    },
    {
     "data": {
      "text/plain": [
       "153.78888729414587"
      ]
     },
     "execution_count": 1,
     "metadata": {},
     "output_type": "execute_result"
    }
   ],
   "source": [
    "#Q14 (use this)\n",
    "import numpy as np\n",
    "\n",
    "def IRRPoly(cash_flow, m):\n",
    "    coefficients = np.flip(cash_flow)\n",
    "    roots = np.roots(coefficients)\n",
    "    irr_poly = np.real(roots[(roots >= 0)  & (np.iscomplex(roots) == False)])[0]\n",
    "    irr = m*(1 - irr_poly) / irr_poly\n",
    "    return irr\n",
    "\n",
    "# Bond characteristics\n",
    "face_value = 100\n",
    "coupon_payment = 4  #yearly\n",
    "payments_per_year = 2\n",
    "years_to_maturity = 5\n",
    "current_price = 102\n",
    "\n",
    "# Cash flows for the bond\n",
    "\n",
    "cash_flows = (coupon_payment / payments_per_year)*np.ones(years_to_maturity * payments_per_year)\n",
    "cash_flows[-1] += face_value\n",
    "print(cash_flows)\n",
    "cash_flows = np.insert(cash_flows, 0, -current_price)\n",
    "print(cash_flows)\n",
    "\n",
    "# Find YTM using IRRPoly function\n",
    "ytm = IRRPoly( cash_flows, payments_per_year)\n",
    "\n",
    "# Convert to a percentage and display the result\n",
    "ytm_percentage = ytm * 100\n",
    "print(f\"The bond's yield to maturity is {ytm_percentage:.2f}%\")\n",
    "\n",
    "def bond_price(F, C, lamb, m, n):\n",
    "    '''\n",
    "    F is the face value of the bond\n",
    "    C is the yearly coupon payment\n",
    "    lamb is the yield of the bond \n",
    "    m is the number of coupon payments per year\n",
    "    n is the number of coupon payments remaning\n",
    "    '''\n",
    "    r = lamb / m  # Semi-annual yield\n",
    "    discount_factor = (1 + r) ** n\n",
    "    bond_price = (C / r) * (1 - 1 / discount_factor) + F / discount_factor\n",
    "    return bond_price\n",
    "\n",
    "face_value = 100\n",
    "coupon_rate = 0.1\n",
    "periods=10\n",
    "frequency = 2\n",
    "coupon_payment_per_period = face_value * coupon_rate / frequency\n",
    "bond_price(face_value, coupon_payment_per_period, ytm, frequency, periods * frequency)"
   ]
  },
  {
   "cell_type": "code",
   "execution_count": 18,
   "id": "a6dedfd2",
   "metadata": {},
   "outputs": [
    {
     "name": "stdout",
     "output_type": "stream",
     "text": [
      "10607365.783267662\n"
     ]
    },
    {
     "data": {
      "text/plain": [
       "10607365.783267662"
      ]
     },
     "execution_count": 18,
     "metadata": {},
     "output_type": "execute_result"
    }
   ],
   "source": [
    "#Q15\n",
    "# Invest to pay off mortgage FPQ15\n",
    "# Terms!!! Make sure it in month or year!!!\n",
    "def inv_payoff(int_rate,terms,growth_rate,priciple):\n",
    "    M = priciple*(int_rate/(1-(1+int_rate)**(-terms)))\n",
    "    PFV = M*(((1+growth_rate)**terms)-1)/growth_rate\n",
    "    FV_I = priciple*(1+growth_rate)**terms\n",
    "    FV = FV_I - PFV\n",
    "    print(FV)\n",
    "    return FV\n",
    "inv_payoff(0.0025,360,0.01,500000)"
   ]
  },
  {
   "cell_type": "code",
   "execution_count": 12,
   "id": "8fb835db",
   "metadata": {},
   "outputs": [
    {
     "data": {
      "text/plain": [
       "10607365.78326779"
      ]
     },
     "execution_count": 12,
     "metadata": {},
     "output_type": "execute_result"
    }
   ],
   "source": [
    "#Q15 matlab->Python\n",
    "n = 30 * 12  # total number of months\n",
    "r = 0.03 / 12  # monthly interest rate\n",
    "P = 500000  # principal amount\n",
    "A = ((r * (1 + r) ** n) * P) / ((1 + r) ** n - 1)  # monthly payment calculation\n",
    "\n",
    "for i in range(n):\n",
    "    P = P * 1.01 - A  # updating the principal with interest and subtracting the monthly payment\n",
    "\n",
    "P  # remaining balance after last payment\n"
   ]
  },
  {
   "cell_type": "code",
   "execution_count": 21,
   "id": "4e5d45c3",
   "metadata": {},
   "outputs": [
    {
     "name": "stdout",
     "output_type": "stream",
     "text": [
      "The optimal portfolio weight for the risky asset with the maximum Sharpe ratio is approximately: 1.9801980198019802\n"
     ]
    }
   ],
   "source": [
    "#Q16\n",
    "def sum_sharpe_ratios(num_assets):\n",
    "    return sum(range(1, num_assets + 1))\n",
    "\n",
    "def optimal_portfolio_weight(num_assets):\n",
    "    return 1 / sum_sharpe_ratios(num_assets)\n",
    "\n",
    "num_assets = 100\n",
    "\n",
    "optimal_weight = optimal_portfolio_weight(num_assets)\n",
    "optimal_weight_percentage = optimal_weight * 100\n",
    "optimal_max_sharpe = optimal_weight_percentage * 100\n",
    "\n",
    "print(\"The optimal portfolio weight for the risky asset with the maximum Sharpe ratio is approximately:\",optimal_max_sharpe) "
   ]
  },
  {
   "cell_type": "code",
   "execution_count": 1,
   "id": "76d9a8d2",
   "metadata": {},
   "outputs": [
    {
     "name": "stdout",
     "output_type": "stream",
     "text": [
      "The optimal portfolio weight for the asset with the maximum Sharpe ratio is 1.98%\n"
     ]
    }
   ],
   "source": [
    "#Q16(用这个)\n",
    "import numpy as np\n",
    "\n",
    "# Number of assets\n",
    "n_assets = 100\n",
    "\n",
    "# Variance of each asset (assumed to be the same for all assets)\n",
    "variance = 1  # Since actual variance is not provided, we use a placeholder value\n",
    "\n",
    "# Sharpe ratios for each asset\n",
    "sharpe_ratios = np.array([k/100 for k in range(1, n_assets+1)])\n",
    "\n",
    "# Since all assets have the same variance, the weight of each asset in the\n",
    "# optimal portfolio is proportional to its Sharpe ratio\n",
    "weights = sharpe_ratios / np.sum(sharpe_ratios)\n",
    "\n",
    "# The asset with the maximum Sharpe ratio has the highest weight\n",
    "max_sharpe_ratio_weight = weights[-1]  # Last asset has the highest Sharpe ratio\n",
    "\n",
    "# Convert to percentage and round to two decimal places\n",
    "max_sharpe_ratio_weight_percent = round(max_sharpe_ratio_weight * 100, 2)\n",
    "\n",
    "print(f\"The optimal portfolio weight for the asset with the maximum Sharpe ratio is {max_sharpe_ratio_weight_percent}%\")\n"
   ]
  },
  {
   "cell_type": "code",
   "execution_count": 1,
   "id": "9f6ead39",
   "metadata": {},
   "outputs": [
    {
     "name": "stdout",
     "output_type": "stream",
     "text": [
      "The optimal portfolio weight for the asset with the maximum Sharpe ratio is 1.98%\n"
     ]
    }
   ],
   "source": [
    "#Q16 matlab->Python 最后要*100\n",
    "import numpy as np\n",
    "\n",
    "# Number of assets\n",
    "n_assets = 100\n",
    "\n",
    "# Variance of each asset (assumed to be the same for all assets)\n",
    "variance = 1  # Since actual variance is not provided, we use a placeholder value\n",
    "\n",
    "# Sharpe ratios for each asset\n",
    "sharpe_ratios = np.array([k/100 for k in range(1, n_assets+1)])\n",
    "\n",
    "# Since all assets have the same variance, the weight of each asset in the\n",
    "# optimal portfolio is proportional to its Sharpe ratio\n",
    "weights = sharpe_ratios / np.sum(sharpe_ratios)\n",
    "\n",
    "# The asset with the maximum Sharpe ratio has the highest weight\n",
    "max_sharpe_ratio_weight = weights[-1]  # Last asset has the highest Sharpe ratio\n",
    "\n",
    "# Convert to percentage and round to two decimal places\n",
    "max_sharpe_ratio_weight_percent = round(max_sharpe_ratio_weight * 100, 2)\n",
    "\n",
    "print(f\"The optimal portfolio weight for the asset with the maximum Sharpe ratio is {max_sharpe_ratio_weight_percent}%\")\n"
   ]
  },
  {
   "cell_type": "code",
   "execution_count": 22,
   "id": "e45b96dc",
   "metadata": {},
   "outputs": [
    {
     "name": "stdout",
     "output_type": "stream",
     "text": [
      "324.7321025468409\n"
     ]
    },
    {
     "data": {
      "text/plain": [
       "324.7321025468409"
      ]
     },
     "execution_count": 22,
     "metadata": {},
     "output_type": "execute_result"
    }
   ],
   "source": [
    "#Q17\n",
    "# constant-proportion rebalancing FPQ17\n",
    "\n",
    "def Cons_propo_rebal(prop_of_cash,prop_of_stock,days,initial):\n",
    "    stock = prop_of_stock * initial\n",
    "    cash = prop_of_cash * initial\n",
    "    for i in range(10):\n",
    "        Ex = ((stock)/2 + 2*(stock))/2\n",
    "        stock = prop_of_stock*(Ex+cash)\n",
    "        cash = prop_of_cash*(Ex+cash)\n",
    "    E = stock + cash\n",
    "    print(E)\n",
    "    return E\n",
    "\n",
    "Cons_propo_rebal(0.5,0.5,10,100)"
   ]
  },
  {
   "cell_type": "code",
   "execution_count": 16,
   "id": "678dc39f",
   "metadata": {},
   "outputs": [
    {
     "name": "stdout",
     "output_type": "stream",
     "text": [
      "Mean value: 324.8531931455612\n",
      "Final value of p: 324.7321025468409\n"
     ]
    }
   ],
   "source": [
    "#Q17 matlab->Python 还要检查\n",
    "import numpy as np\n",
    "import random\n",
    "\n",
    "# Initialize an array of zeros\n",
    "a = np.zeros(1000000)\n",
    "\n",
    "# Main loop for simulation\n",
    "for j in range(1000000):\n",
    "    p = 100\n",
    "    for i in range(10):\n",
    "        if random.randint(1, 2) == 2:\n",
    "            p = (p / 2) * 2 + (p / 2)\n",
    "        else:\n",
    "            p = (p / 2) / 2 + (p / 2)\n",
    "    a[j] = p\n",
    "\n",
    "# Calculate the mean\n",
    "mean_value = np.mean(a)\n",
    "print(\"Mean value:\", mean_value)\n",
    "\n",
    "# Additional calculation\n",
    "p = 100\n",
    "for i in range(10):\n",
    "    p = (1 / 2) * (3 * p / 2) + (1 / 2) * (3 * p / 4)\n",
    "print(\"Final value of p:\", p)\n"
   ]
  },
  {
   "cell_type": "code",
   "execution_count": 23,
   "id": "d5c833ed",
   "metadata": {},
   "outputs": [
    {
     "data": {
      "text/plain": [
       "155515.26561194478"
      ]
     },
     "execution_count": 23,
     "metadata": {},
     "output_type": "execute_result"
    }
   ],
   "source": [
    "#Q18\n",
    "from scipy.optimize import minimize\n",
    "\n",
    "bonds = [\n",
    "    Bond(0, 5, 1, 100),\n",
    "    Bond(0, 10, 1, 100),\n",
    "    Bond(0, 15, 1, 100),\n",
    "    Bond(0, 20, 1, 100),\n",
    "    Bond(0, 25, 1, 100),\n",
    "    Bond(0, 30, 1, 100)\n",
    "]\n",
    "\n",
    "yield_curves = [1, 2.5, 2.5, 3, 3, 3.1]\n",
    "\n",
    "def bond_price(bond, yield_to_maturity: float, remaining_periods = None):\n",
    "    #\"\"\"Calculate the price of the bond based on its yield to maturity. The price and yield operations should be inverses to each other, given the same number of remaining periods until maturity.\n",
    "    #Please enter your yield to maturity in percentages\"\"\"\n",
    "    if remaining_periods is None:\n",
    "        remaining_periods = bond.coupon_freq * bond.maturity_years\n",
    "    \n",
    "    m = bond.coupon_freq\n",
    "    F = bond.face_value\n",
    "    C = bond.percentage * bond.face_value\n",
    "    y = yield_to_maturity / 100\n",
    "    n = remaining_periods\n",
    "\n",
    "    fac = 1 / (1 + y / m) ** n\n",
    "    return F * fac + C / y * (1 - fac)\n",
    "\n",
    "def treasury_yield_my_ass(bonds, yield_curves):\n",
    "    prices = [bond_price(bond, rate) for bond, rate in zip(bonds, yield_curves)]\n",
    "\n",
    "    # Lets say we have these weights\n",
    "    s = [1, 0, 0, 0, 0, 0]\n",
    "\n",
    "    def optimize_this(s):\n",
    "        cost = sum(a * b for a, b in zip(s, prices))\n",
    "\n",
    "        # In five years let's say we sell eveything\n",
    "        y5 = 100 * s[0]\n",
    "        for i in range(5):\n",
    "            y5 += s[i+1] * prices[i]\n",
    "        # We want biggest profit/cost ratio, hence smallest cost/profit\n",
    "        return cost/y5\n",
    "\n",
    "    ms = minimize(optimize_this, [1, 0, 0, 0, 0, 0], bounds = [(0, 1), (0, 1), (0, 1), (0, 1), (0, 1), (0, 1)])\n",
    "\n",
    "    weights = ms.x\n",
    "    return 1/optimize_this(weights)\n",
    "\n",
    "five_year_max_return_ratio = treasury_yield_my_ass(bonds, yield_curves)\n",
    "\n",
    "# Do the five year thing twice\n",
    "1e5 * five_year_max_return_ratio * five_year_max_return_ratio"
   ]
  },
  {
   "cell_type": "code",
   "execution_count": 4,
   "id": "d154bf57",
   "metadata": {},
   "outputs": [
    {
     "name": "stdout",
     "output_type": "stream",
     "text": [
      "1.1935190104692306\n",
      "1.1592740743\n",
      "1.2470575993591664\n",
      "1.1314082128906244\n",
      "1.217956521038558\n",
      "Result: 155515.26561194472\n"
     ]
    }
   ],
   "source": [
    "#Q18 matlab->Python\n",
    "import numpy as np\n",
    "\n",
    "C = 0\n",
    "F = 1\n",
    "lambda_ = np.array([3.1, 3, 3, 2.5, 2.5, 1]) * 0.01\n",
    "m = 1\n",
    "n = np.array([30, 25, 20, 15, 10, 5])\n",
    "\n",
    "P = F / ((1 + lambda_ / m) ** n)\n",
    "\n",
    "# Iterating through the first five elements to calculate the ratio\n",
    "for i in range(5):\n",
    "    print(P[i + 1] / P[i])\n",
    "\n",
    "# Calculating the specific value as per the last line of your code\n",
    "result = 100000 * P[3] / P[2] * P[3] / P[2]\n",
    "print(\"Result:\", result)\n"
   ]
  },
  {
   "cell_type": "code",
   "execution_count": null,
   "id": "d735cba9",
   "metadata": {},
   "outputs": [],
   "source": [
    "#7,12(存疑),13(存疑),14(存疑) 全对"
   ]
  }
 ],
 "metadata": {
  "kernelspec": {
   "display_name": "Python 3 (ipykernel)",
   "language": "python",
   "name": "python3"
  },
  "language_info": {
   "codemirror_mode": {
    "name": "ipython",
    "version": 3
   },
   "file_extension": ".py",
   "mimetype": "text/x-python",
   "name": "python",
   "nbconvert_exporter": "python",
   "pygments_lexer": "ipython3",
   "version": "3.9.13"
  }
 },
 "nbformat": 4,
 "nbformat_minor": 5
}
